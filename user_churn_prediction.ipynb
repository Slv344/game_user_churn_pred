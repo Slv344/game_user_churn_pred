{
 "cells": [
  {
   "cell_type": "code",
   "execution_count": 33,
   "id": "55a51c9e",
   "metadata": {},
   "outputs": [],
   "source": [
    "import numpy as np\n",
    "import pandas as pd"
   ]
  },
  {
   "cell_type": "code",
   "execution_count": 34,
   "id": "b321868f",
   "metadata": {},
   "outputs": [],
   "source": [
    "df = pd.read_csv('game_user_churn.csv')"
   ]
  },
  {
   "cell_type": "markdown",
   "id": "02dd4d29",
   "metadata": {},
   "source": [
    "Data preprocessing and cleaning\n"
   ]
  },
  {
   "cell_type": "markdown",
   "id": "4d0ef6bb",
   "metadata": {},
   "source": [
    "\n"
   ]
  },
  {
   "cell_type": "code",
   "execution_count": 35,
   "id": "071455e7",
   "metadata": {},
   "outputs": [
    {
     "data": {
      "text/html": [
       "<div>\n",
       "<style scoped>\n",
       "    .dataframe tbody tr th:only-of-type {\n",
       "        vertical-align: middle;\n",
       "    }\n",
       "\n",
       "    .dataframe tbody tr th {\n",
       "        vertical-align: top;\n",
       "    }\n",
       "\n",
       "    .dataframe thead th {\n",
       "        text-align: right;\n",
       "    }\n",
       "</style>\n",
       "<table border=\"1\" class=\"dataframe\">\n",
       "  <thead>\n",
       "    <tr style=\"text-align: right;\">\n",
       "      <th></th>\n",
       "      <th>userID</th>\n",
       "      <th>age</th>\n",
       "      <th>gender</th>\n",
       "      <th>country</th>\n",
       "      <th>total_play_time</th>\n",
       "      <th>avg_session_time</th>\n",
       "      <th>games_played</th>\n",
       "      <th>in_game_purchases</th>\n",
       "      <th>last_login</th>\n",
       "      <th>friend_count</th>\n",
       "      <th>churn</th>\n",
       "      <th>game_genre</th>\n",
       "      <th>max_level_achieved</th>\n",
       "      <th>daily_play_time</th>\n",
       "      <th>subscription_status</th>\n",
       "      <th>device_type</th>\n",
       "      <th>number_of_sessions</th>\n",
       "      <th>social_interactions</th>\n",
       "      <th>achievement_points</th>\n",
       "      <th>favorite_game_mode</th>\n",
       "    </tr>\n",
       "  </thead>\n",
       "  <tbody>\n",
       "    <tr>\n",
       "      <th>0</th>\n",
       "      <td>0</td>\n",
       "      <td>56</td>\n",
       "      <td>Other</td>\n",
       "      <td>UK</td>\n",
       "      <td>90</td>\n",
       "      <td>82</td>\n",
       "      <td>1</td>\n",
       "      <td>258</td>\n",
       "      <td>19</td>\n",
       "      <td>133</td>\n",
       "      <td>0</td>\n",
       "      <td>Adventure</td>\n",
       "      <td>28</td>\n",
       "      <td>6</td>\n",
       "      <td>Yes</td>\n",
       "      <td>PC</td>\n",
       "      <td>17</td>\n",
       "      <td>211</td>\n",
       "      <td>9768</td>\n",
       "      <td>Coop</td>\n",
       "    </tr>\n",
       "    <tr>\n",
       "      <th>1</th>\n",
       "      <td>1</td>\n",
       "      <td>46</td>\n",
       "      <td>Male</td>\n",
       "      <td>Germany</td>\n",
       "      <td>475</td>\n",
       "      <td>107</td>\n",
       "      <td>8</td>\n",
       "      <td>421</td>\n",
       "      <td>24</td>\n",
       "      <td>75</td>\n",
       "      <td>1</td>\n",
       "      <td>Action</td>\n",
       "      <td>25</td>\n",
       "      <td>297</td>\n",
       "      <td>Yes</td>\n",
       "      <td>Console</td>\n",
       "      <td>34</td>\n",
       "      <td>95</td>\n",
       "      <td>2790</td>\n",
       "      <td>Single-player</td>\n",
       "    </tr>\n",
       "    <tr>\n",
       "      <th>2</th>\n",
       "      <td>2</td>\n",
       "      <td>32</td>\n",
       "      <td>Male</td>\n",
       "      <td>Brazil</td>\n",
       "      <td>888</td>\n",
       "      <td>42</td>\n",
       "      <td>10</td>\n",
       "      <td>255</td>\n",
       "      <td>2</td>\n",
       "      <td>111</td>\n",
       "      <td>0</td>\n",
       "      <td>Adventure</td>\n",
       "      <td>39</td>\n",
       "      <td>253</td>\n",
       "      <td>No</td>\n",
       "      <td>PC</td>\n",
       "      <td>25</td>\n",
       "      <td>127</td>\n",
       "      <td>6697</td>\n",
       "      <td>Single-player</td>\n",
       "    </tr>\n",
       "    <tr>\n",
       "      <th>3</th>\n",
       "      <td>3</td>\n",
       "      <td>25</td>\n",
       "      <td>Female</td>\n",
       "      <td>Germany</td>\n",
       "      <td>725</td>\n",
       "      <td>31</td>\n",
       "      <td>20</td>\n",
       "      <td>167</td>\n",
       "      <td>4</td>\n",
       "      <td>10</td>\n",
       "      <td>1</td>\n",
       "      <td>Strategy</td>\n",
       "      <td>3</td>\n",
       "      <td>241</td>\n",
       "      <td>Yes</td>\n",
       "      <td>PC</td>\n",
       "      <td>6</td>\n",
       "      <td>367</td>\n",
       "      <td>836</td>\n",
       "      <td>Single-player</td>\n",
       "    </tr>\n",
       "    <tr>\n",
       "      <th>4</th>\n",
       "      <td>4</td>\n",
       "      <td>38</td>\n",
       "      <td>Female</td>\n",
       "      <td>Canada</td>\n",
       "      <td>187</td>\n",
       "      <td>94</td>\n",
       "      <td>18</td>\n",
       "      <td>470</td>\n",
       "      <td>14</td>\n",
       "      <td>193</td>\n",
       "      <td>0</td>\n",
       "      <td>Simulation</td>\n",
       "      <td>11</td>\n",
       "      <td>181</td>\n",
       "      <td>No</td>\n",
       "      <td>Console</td>\n",
       "      <td>41</td>\n",
       "      <td>425</td>\n",
       "      <td>7261</td>\n",
       "      <td>Multiplayer</td>\n",
       "    </tr>\n",
       "    <tr>\n",
       "      <th>...</th>\n",
       "      <td>...</td>\n",
       "      <td>...</td>\n",
       "      <td>...</td>\n",
       "      <td>...</td>\n",
       "      <td>...</td>\n",
       "      <td>...</td>\n",
       "      <td>...</td>\n",
       "      <td>...</td>\n",
       "      <td>...</td>\n",
       "      <td>...</td>\n",
       "      <td>...</td>\n",
       "      <td>...</td>\n",
       "      <td>...</td>\n",
       "      <td>...</td>\n",
       "      <td>...</td>\n",
       "      <td>...</td>\n",
       "      <td>...</td>\n",
       "      <td>...</td>\n",
       "      <td>...</td>\n",
       "      <td>...</td>\n",
       "    </tr>\n",
       "    <tr>\n",
       "      <th>9995</th>\n",
       "      <td>9995</td>\n",
       "      <td>26</td>\n",
       "      <td>Other</td>\n",
       "      <td>South Korea</td>\n",
       "      <td>254</td>\n",
       "      <td>44</td>\n",
       "      <td>25</td>\n",
       "      <td>335</td>\n",
       "      <td>0</td>\n",
       "      <td>50</td>\n",
       "      <td>0</td>\n",
       "      <td>RPG</td>\n",
       "      <td>26</td>\n",
       "      <td>32</td>\n",
       "      <td>No</td>\n",
       "      <td>PC</td>\n",
       "      <td>15</td>\n",
       "      <td>186</td>\n",
       "      <td>220</td>\n",
       "      <td>Multiplayer</td>\n",
       "    </tr>\n",
       "    <tr>\n",
       "      <th>9996</th>\n",
       "      <td>9996</td>\n",
       "      <td>58</td>\n",
       "      <td>Male</td>\n",
       "      <td>Japan</td>\n",
       "      <td>4</td>\n",
       "      <td>27</td>\n",
       "      <td>10</td>\n",
       "      <td>478</td>\n",
       "      <td>15</td>\n",
       "      <td>153</td>\n",
       "      <td>0</td>\n",
       "      <td>Simulation</td>\n",
       "      <td>5</td>\n",
       "      <td>38</td>\n",
       "      <td>Yes</td>\n",
       "      <td>Console</td>\n",
       "      <td>39</td>\n",
       "      <td>165</td>\n",
       "      <td>1196</td>\n",
       "      <td>Multiplayer</td>\n",
       "    </tr>\n",
       "    <tr>\n",
       "      <th>9997</th>\n",
       "      <td>9997</td>\n",
       "      <td>35</td>\n",
       "      <td>Female</td>\n",
       "      <td>India</td>\n",
       "      <td>580</td>\n",
       "      <td>119</td>\n",
       "      <td>11</td>\n",
       "      <td>470</td>\n",
       "      <td>25</td>\n",
       "      <td>34</td>\n",
       "      <td>1</td>\n",
       "      <td>Adventure</td>\n",
       "      <td>47</td>\n",
       "      <td>105</td>\n",
       "      <td>Yes</td>\n",
       "      <td>Mobile</td>\n",
       "      <td>19</td>\n",
       "      <td>51</td>\n",
       "      <td>5733</td>\n",
       "      <td>Multiplayer</td>\n",
       "    </tr>\n",
       "    <tr>\n",
       "      <th>9998</th>\n",
       "      <td>9998</td>\n",
       "      <td>46</td>\n",
       "      <td>Female</td>\n",
       "      <td>Germany</td>\n",
       "      <td>51</td>\n",
       "      <td>79</td>\n",
       "      <td>12</td>\n",
       "      <td>349</td>\n",
       "      <td>10</td>\n",
       "      <td>125</td>\n",
       "      <td>0</td>\n",
       "      <td>Simulation</td>\n",
       "      <td>7</td>\n",
       "      <td>66</td>\n",
       "      <td>No</td>\n",
       "      <td>Console</td>\n",
       "      <td>16</td>\n",
       "      <td>449</td>\n",
       "      <td>2205</td>\n",
       "      <td>Multiplayer</td>\n",
       "    </tr>\n",
       "    <tr>\n",
       "      <th>9999</th>\n",
       "      <td>9999</td>\n",
       "      <td>56</td>\n",
       "      <td>Male</td>\n",
       "      <td>Canada</td>\n",
       "      <td>976</td>\n",
       "      <td>43</td>\n",
       "      <td>22</td>\n",
       "      <td>231</td>\n",
       "      <td>0</td>\n",
       "      <td>79</td>\n",
       "      <td>1</td>\n",
       "      <td>RPG</td>\n",
       "      <td>36</td>\n",
       "      <td>104</td>\n",
       "      <td>Yes</td>\n",
       "      <td>Console</td>\n",
       "      <td>48</td>\n",
       "      <td>324</td>\n",
       "      <td>7522</td>\n",
       "      <td>Multiplayer</td>\n",
       "    </tr>\n",
       "  </tbody>\n",
       "</table>\n",
       "<p>10000 rows × 20 columns</p>\n",
       "</div>"
      ],
      "text/plain": [
       "      userID  age  gender      country  total_play_time  avg_session_time  \\\n",
       "0          0   56   Other           UK               90                82   \n",
       "1          1   46    Male      Germany              475               107   \n",
       "2          2   32    Male       Brazil              888                42   \n",
       "3          3   25  Female      Germany              725                31   \n",
       "4          4   38  Female       Canada              187                94   \n",
       "...      ...  ...     ...          ...              ...               ...   \n",
       "9995    9995   26   Other  South Korea              254                44   \n",
       "9996    9996   58    Male        Japan                4                27   \n",
       "9997    9997   35  Female        India              580               119   \n",
       "9998    9998   46  Female      Germany               51                79   \n",
       "9999    9999   56    Male       Canada              976                43   \n",
       "\n",
       "      games_played  in_game_purchases  last_login  friend_count  churn  \\\n",
       "0                1                258          19           133      0   \n",
       "1                8                421          24            75      1   \n",
       "2               10                255           2           111      0   \n",
       "3               20                167           4            10      1   \n",
       "4               18                470          14           193      0   \n",
       "...            ...                ...         ...           ...    ...   \n",
       "9995            25                335           0            50      0   \n",
       "9996            10                478          15           153      0   \n",
       "9997            11                470          25            34      1   \n",
       "9998            12                349          10           125      0   \n",
       "9999            22                231           0            79      1   \n",
       "\n",
       "      game_genre  max_level_achieved  daily_play_time subscription_status  \\\n",
       "0      Adventure                  28                6                 Yes   \n",
       "1         Action                  25              297                 Yes   \n",
       "2      Adventure                  39              253                  No   \n",
       "3       Strategy                   3              241                 Yes   \n",
       "4     Simulation                  11              181                  No   \n",
       "...          ...                 ...              ...                 ...   \n",
       "9995         RPG                  26               32                  No   \n",
       "9996  Simulation                   5               38                 Yes   \n",
       "9997   Adventure                  47              105                 Yes   \n",
       "9998  Simulation                   7               66                  No   \n",
       "9999         RPG                  36              104                 Yes   \n",
       "\n",
       "     device_type  number_of_sessions  social_interactions  achievement_points  \\\n",
       "0             PC                  17                  211                9768   \n",
       "1        Console                  34                   95                2790   \n",
       "2             PC                  25                  127                6697   \n",
       "3             PC                   6                  367                 836   \n",
       "4        Console                  41                  425                7261   \n",
       "...          ...                 ...                  ...                 ...   \n",
       "9995          PC                  15                  186                 220   \n",
       "9996     Console                  39                  165                1196   \n",
       "9997      Mobile                  19                   51                5733   \n",
       "9998     Console                  16                  449                2205   \n",
       "9999     Console                  48                  324                7522   \n",
       "\n",
       "     favorite_game_mode  \n",
       "0                  Coop  \n",
       "1         Single-player  \n",
       "2         Single-player  \n",
       "3         Single-player  \n",
       "4           Multiplayer  \n",
       "...                 ...  \n",
       "9995        Multiplayer  \n",
       "9996        Multiplayer  \n",
       "9997        Multiplayer  \n",
       "9998        Multiplayer  \n",
       "9999        Multiplayer  \n",
       "\n",
       "[10000 rows x 20 columns]"
      ]
     },
     "execution_count": 35,
     "metadata": {},
     "output_type": "execute_result"
    }
   ],
   "source": [
    "\n",
    "df"
   ]
  },
  {
   "cell_type": "code",
   "execution_count": 36,
   "id": "5cdbc4d5",
   "metadata": {},
   "outputs": [
    {
     "data": {
      "text/html": [
       "<div>\n",
       "<style scoped>\n",
       "    .dataframe tbody tr th:only-of-type {\n",
       "        vertical-align: middle;\n",
       "    }\n",
       "\n",
       "    .dataframe tbody tr th {\n",
       "        vertical-align: top;\n",
       "    }\n",
       "\n",
       "    .dataframe thead th {\n",
       "        text-align: right;\n",
       "    }\n",
       "</style>\n",
       "<table border=\"1\" class=\"dataframe\">\n",
       "  <thead>\n",
       "    <tr style=\"text-align: right;\">\n",
       "      <th></th>\n",
       "      <th>userID</th>\n",
       "      <th>age</th>\n",
       "      <th>gender</th>\n",
       "      <th>country</th>\n",
       "      <th>total_play_time</th>\n",
       "      <th>avg_session_time</th>\n",
       "      <th>games_played</th>\n",
       "      <th>in_game_purchases</th>\n",
       "      <th>last_login</th>\n",
       "      <th>friend_count</th>\n",
       "      <th>churn</th>\n",
       "      <th>game_genre</th>\n",
       "      <th>max_level_achieved</th>\n",
       "      <th>daily_play_time</th>\n",
       "      <th>subscription_status</th>\n",
       "      <th>device_type</th>\n",
       "      <th>number_of_sessions</th>\n",
       "      <th>social_interactions</th>\n",
       "      <th>achievement_points</th>\n",
       "      <th>favorite_game_mode</th>\n",
       "    </tr>\n",
       "  </thead>\n",
       "  <tbody>\n",
       "    <tr>\n",
       "      <th>0</th>\n",
       "      <td>0</td>\n",
       "      <td>56</td>\n",
       "      <td>Other</td>\n",
       "      <td>UK</td>\n",
       "      <td>90</td>\n",
       "      <td>82</td>\n",
       "      <td>1</td>\n",
       "      <td>258</td>\n",
       "      <td>19</td>\n",
       "      <td>133</td>\n",
       "      <td>0</td>\n",
       "      <td>Adventure</td>\n",
       "      <td>28</td>\n",
       "      <td>6</td>\n",
       "      <td>Yes</td>\n",
       "      <td>PC</td>\n",
       "      <td>17</td>\n",
       "      <td>211</td>\n",
       "      <td>9768</td>\n",
       "      <td>Coop</td>\n",
       "    </tr>\n",
       "    <tr>\n",
       "      <th>1</th>\n",
       "      <td>1</td>\n",
       "      <td>46</td>\n",
       "      <td>Male</td>\n",
       "      <td>Germany</td>\n",
       "      <td>475</td>\n",
       "      <td>107</td>\n",
       "      <td>8</td>\n",
       "      <td>421</td>\n",
       "      <td>24</td>\n",
       "      <td>75</td>\n",
       "      <td>1</td>\n",
       "      <td>Action</td>\n",
       "      <td>25</td>\n",
       "      <td>297</td>\n",
       "      <td>Yes</td>\n",
       "      <td>Console</td>\n",
       "      <td>34</td>\n",
       "      <td>95</td>\n",
       "      <td>2790</td>\n",
       "      <td>Single-player</td>\n",
       "    </tr>\n",
       "    <tr>\n",
       "      <th>2</th>\n",
       "      <td>2</td>\n",
       "      <td>32</td>\n",
       "      <td>Male</td>\n",
       "      <td>Brazil</td>\n",
       "      <td>888</td>\n",
       "      <td>42</td>\n",
       "      <td>10</td>\n",
       "      <td>255</td>\n",
       "      <td>2</td>\n",
       "      <td>111</td>\n",
       "      <td>0</td>\n",
       "      <td>Adventure</td>\n",
       "      <td>39</td>\n",
       "      <td>253</td>\n",
       "      <td>No</td>\n",
       "      <td>PC</td>\n",
       "      <td>25</td>\n",
       "      <td>127</td>\n",
       "      <td>6697</td>\n",
       "      <td>Single-player</td>\n",
       "    </tr>\n",
       "    <tr>\n",
       "      <th>3</th>\n",
       "      <td>3</td>\n",
       "      <td>25</td>\n",
       "      <td>Female</td>\n",
       "      <td>Germany</td>\n",
       "      <td>725</td>\n",
       "      <td>31</td>\n",
       "      <td>20</td>\n",
       "      <td>167</td>\n",
       "      <td>4</td>\n",
       "      <td>10</td>\n",
       "      <td>1</td>\n",
       "      <td>Strategy</td>\n",
       "      <td>3</td>\n",
       "      <td>241</td>\n",
       "      <td>Yes</td>\n",
       "      <td>PC</td>\n",
       "      <td>6</td>\n",
       "      <td>367</td>\n",
       "      <td>836</td>\n",
       "      <td>Single-player</td>\n",
       "    </tr>\n",
       "    <tr>\n",
       "      <th>4</th>\n",
       "      <td>4</td>\n",
       "      <td>38</td>\n",
       "      <td>Female</td>\n",
       "      <td>Canada</td>\n",
       "      <td>187</td>\n",
       "      <td>94</td>\n",
       "      <td>18</td>\n",
       "      <td>470</td>\n",
       "      <td>14</td>\n",
       "      <td>193</td>\n",
       "      <td>0</td>\n",
       "      <td>Simulation</td>\n",
       "      <td>11</td>\n",
       "      <td>181</td>\n",
       "      <td>No</td>\n",
       "      <td>Console</td>\n",
       "      <td>41</td>\n",
       "      <td>425</td>\n",
       "      <td>7261</td>\n",
       "      <td>Multiplayer</td>\n",
       "    </tr>\n",
       "  </tbody>\n",
       "</table>\n",
       "</div>"
      ],
      "text/plain": [
       "   userID  age  gender  country  total_play_time  avg_session_time  \\\n",
       "0       0   56   Other       UK               90                82   \n",
       "1       1   46    Male  Germany              475               107   \n",
       "2       2   32    Male   Brazil              888                42   \n",
       "3       3   25  Female  Germany              725                31   \n",
       "4       4   38  Female   Canada              187                94   \n",
       "\n",
       "   games_played  in_game_purchases  last_login  friend_count  churn  \\\n",
       "0             1                258          19           133      0   \n",
       "1             8                421          24            75      1   \n",
       "2            10                255           2           111      0   \n",
       "3            20                167           4            10      1   \n",
       "4            18                470          14           193      0   \n",
       "\n",
       "   game_genre  max_level_achieved  daily_play_time subscription_status  \\\n",
       "0   Adventure                  28                6                 Yes   \n",
       "1      Action                  25              297                 Yes   \n",
       "2   Adventure                  39              253                  No   \n",
       "3    Strategy                   3              241                 Yes   \n",
       "4  Simulation                  11              181                  No   \n",
       "\n",
       "  device_type  number_of_sessions  social_interactions  achievement_points  \\\n",
       "0          PC                  17                  211                9768   \n",
       "1     Console                  34                   95                2790   \n",
       "2          PC                  25                  127                6697   \n",
       "3          PC                   6                  367                 836   \n",
       "4     Console                  41                  425                7261   \n",
       "\n",
       "  favorite_game_mode  \n",
       "0               Coop  \n",
       "1      Single-player  \n",
       "2      Single-player  \n",
       "3      Single-player  \n",
       "4        Multiplayer  "
      ]
     },
     "execution_count": 36,
     "metadata": {},
     "output_type": "execute_result"
    }
   ],
   "source": [
    "df.head(5)"
   ]
  },
  {
   "cell_type": "code",
   "execution_count": 37,
   "id": "23b14ea8",
   "metadata": {},
   "outputs": [
    {
     "data": {
      "text/plain": [
       "(10000, 20)"
      ]
     },
     "execution_count": 37,
     "metadata": {},
     "output_type": "execute_result"
    }
   ],
   "source": [
    "df.shape"
   ]
  },
  {
   "cell_type": "code",
   "execution_count": 38,
   "id": "8065c4ab",
   "metadata": {},
   "outputs": [
    {
     "data": {
      "text/plain": [
       "userID                 0\n",
       "age                    0\n",
       "gender                 0\n",
       "country                0\n",
       "total_play_time        0\n",
       "avg_session_time       0\n",
       "games_played           0\n",
       "in_game_purchases      0\n",
       "last_login             0\n",
       "friend_count           0\n",
       "churn                  0\n",
       "game_genre             0\n",
       "max_level_achieved     0\n",
       "daily_play_time        0\n",
       "subscription_status    0\n",
       "device_type            0\n",
       "number_of_sessions     0\n",
       "social_interactions    0\n",
       "achievement_points     0\n",
       "favorite_game_mode     0\n",
       "dtype: int64"
      ]
     },
     "execution_count": 38,
     "metadata": {},
     "output_type": "execute_result"
    }
   ],
   "source": [
    "df.isnull().sum()\n"
   ]
  },
  {
   "cell_type": "code",
   "execution_count": 39,
   "id": "2c7b6b78",
   "metadata": {},
   "outputs": [
    {
     "data": {
      "text/plain": [
       "userID                 10000\n",
       "age                       42\n",
       "gender                     3\n",
       "country                   10\n",
       "total_play_time         1000\n",
       "avg_session_time         110\n",
       "games_played              29\n",
       "in_game_purchases        500\n",
       "last_login                30\n",
       "friend_count             200\n",
       "churn                      2\n",
       "game_genre                 5\n",
       "max_level_achieved        49\n",
       "daily_play_time          300\n",
       "subscription_status        2\n",
       "device_type                3\n",
       "number_of_sessions        50\n",
       "social_interactions      500\n",
       "achievement_points      6339\n",
       "favorite_game_mode         3\n",
       "dtype: int64"
      ]
     },
     "execution_count": 39,
     "metadata": {},
     "output_type": "execute_result"
    }
   ],
   "source": [
    "df.nunique()"
   ]
  },
  {
   "cell_type": "code",
   "execution_count": 40,
   "id": "ee253e27",
   "metadata": {},
   "outputs": [
    {
     "data": {
      "text/html": [
       "<div>\n",
       "<style scoped>\n",
       "    .dataframe tbody tr th:only-of-type {\n",
       "        vertical-align: middle;\n",
       "    }\n",
       "\n",
       "    .dataframe tbody tr th {\n",
       "        vertical-align: top;\n",
       "    }\n",
       "\n",
       "    .dataframe thead th {\n",
       "        text-align: right;\n",
       "    }\n",
       "</style>\n",
       "<table border=\"1\" class=\"dataframe\">\n",
       "  <thead>\n",
       "    <tr style=\"text-align: right;\">\n",
       "      <th></th>\n",
       "      <th>userID</th>\n",
       "      <th>age</th>\n",
       "      <th>total_play_time</th>\n",
       "      <th>avg_session_time</th>\n",
       "      <th>games_played</th>\n",
       "      <th>in_game_purchases</th>\n",
       "      <th>last_login</th>\n",
       "      <th>friend_count</th>\n",
       "      <th>churn</th>\n",
       "      <th>max_level_achieved</th>\n",
       "      <th>daily_play_time</th>\n",
       "      <th>number_of_sessions</th>\n",
       "      <th>social_interactions</th>\n",
       "      <th>achievement_points</th>\n",
       "    </tr>\n",
       "  </thead>\n",
       "  <tbody>\n",
       "    <tr>\n",
       "      <th>count</th>\n",
       "      <td>10000.00000</td>\n",
       "      <td>10000.000000</td>\n",
       "      <td>10000.000000</td>\n",
       "      <td>10000.000000</td>\n",
       "      <td>10000.000000</td>\n",
       "      <td>10000.000000</td>\n",
       "      <td>10000.000000</td>\n",
       "      <td>10000.000000</td>\n",
       "      <td>10000.000000</td>\n",
       "      <td>10000.000000</td>\n",
       "      <td>10000.000000</td>\n",
       "      <td>10000.000000</td>\n",
       "      <td>10000.000000</td>\n",
       "      <td>10000.000000</td>\n",
       "    </tr>\n",
       "    <tr>\n",
       "      <th>mean</th>\n",
       "      <td>4999.50000</td>\n",
       "      <td>38.546400</td>\n",
       "      <td>499.476300</td>\n",
       "      <td>64.288200</td>\n",
       "      <td>14.978100</td>\n",
       "      <td>246.076300</td>\n",
       "      <td>14.478000</td>\n",
       "      <td>99.178100</td>\n",
       "      <td>0.312900</td>\n",
       "      <td>25.067100</td>\n",
       "      <td>149.663800</td>\n",
       "      <td>24.423700</td>\n",
       "      <td>247.835800</td>\n",
       "      <td>5011.201700</td>\n",
       "    </tr>\n",
       "    <tr>\n",
       "      <th>std</th>\n",
       "      <td>2886.89568</td>\n",
       "      <td>12.014287</td>\n",
       "      <td>288.493319</td>\n",
       "      <td>31.522943</td>\n",
       "      <td>8.375132</td>\n",
       "      <td>143.556355</td>\n",
       "      <td>8.657587</td>\n",
       "      <td>57.438711</td>\n",
       "      <td>0.463697</td>\n",
       "      <td>14.152633</td>\n",
       "      <td>86.478037</td>\n",
       "      <td>14.434466</td>\n",
       "      <td>143.952491</td>\n",
       "      <td>2898.145526</td>\n",
       "    </tr>\n",
       "    <tr>\n",
       "      <th>min</th>\n",
       "      <td>0.00000</td>\n",
       "      <td>18.000000</td>\n",
       "      <td>0.000000</td>\n",
       "      <td>10.000000</td>\n",
       "      <td>1.000000</td>\n",
       "      <td>0.000000</td>\n",
       "      <td>0.000000</td>\n",
       "      <td>0.000000</td>\n",
       "      <td>0.000000</td>\n",
       "      <td>1.000000</td>\n",
       "      <td>0.000000</td>\n",
       "      <td>0.000000</td>\n",
       "      <td>0.000000</td>\n",
       "      <td>0.000000</td>\n",
       "    </tr>\n",
       "    <tr>\n",
       "      <th>25%</th>\n",
       "      <td>2499.75000</td>\n",
       "      <td>28.000000</td>\n",
       "      <td>248.000000</td>\n",
       "      <td>37.000000</td>\n",
       "      <td>8.000000</td>\n",
       "      <td>120.000000</td>\n",
       "      <td>7.000000</td>\n",
       "      <td>50.000000</td>\n",
       "      <td>0.000000</td>\n",
       "      <td>13.000000</td>\n",
       "      <td>75.000000</td>\n",
       "      <td>12.000000</td>\n",
       "      <td>122.000000</td>\n",
       "      <td>2515.000000</td>\n",
       "    </tr>\n",
       "    <tr>\n",
       "      <th>50%</th>\n",
       "      <td>4999.50000</td>\n",
       "      <td>39.000000</td>\n",
       "      <td>501.000000</td>\n",
       "      <td>65.000000</td>\n",
       "      <td>15.000000</td>\n",
       "      <td>245.000000</td>\n",
       "      <td>14.000000</td>\n",
       "      <td>99.000000</td>\n",
       "      <td>0.000000</td>\n",
       "      <td>25.000000</td>\n",
       "      <td>150.000000</td>\n",
       "      <td>24.000000</td>\n",
       "      <td>249.000000</td>\n",
       "      <td>5008.500000</td>\n",
       "    </tr>\n",
       "    <tr>\n",
       "      <th>75%</th>\n",
       "      <td>7499.25000</td>\n",
       "      <td>49.000000</td>\n",
       "      <td>748.000000</td>\n",
       "      <td>92.000000</td>\n",
       "      <td>22.000000</td>\n",
       "      <td>371.000000</td>\n",
       "      <td>22.000000</td>\n",
       "      <td>149.000000</td>\n",
       "      <td>1.000000</td>\n",
       "      <td>37.000000</td>\n",
       "      <td>224.000000</td>\n",
       "      <td>37.000000</td>\n",
       "      <td>372.000000</td>\n",
       "      <td>7534.250000</td>\n",
       "    </tr>\n",
       "    <tr>\n",
       "      <th>max</th>\n",
       "      <td>9999.00000</td>\n",
       "      <td>59.000000</td>\n",
       "      <td>999.000000</td>\n",
       "      <td>119.000000</td>\n",
       "      <td>29.000000</td>\n",
       "      <td>499.000000</td>\n",
       "      <td>29.000000</td>\n",
       "      <td>199.000000</td>\n",
       "      <td>1.000000</td>\n",
       "      <td>49.000000</td>\n",
       "      <td>299.000000</td>\n",
       "      <td>49.000000</td>\n",
       "      <td>499.000000</td>\n",
       "      <td>9999.000000</td>\n",
       "    </tr>\n",
       "  </tbody>\n",
       "</table>\n",
       "</div>"
      ],
      "text/plain": [
       "            userID           age  total_play_time  avg_session_time  \\\n",
       "count  10000.00000  10000.000000     10000.000000      10000.000000   \n",
       "mean    4999.50000     38.546400       499.476300         64.288200   \n",
       "std     2886.89568     12.014287       288.493319         31.522943   \n",
       "min        0.00000     18.000000         0.000000         10.000000   \n",
       "25%     2499.75000     28.000000       248.000000         37.000000   \n",
       "50%     4999.50000     39.000000       501.000000         65.000000   \n",
       "75%     7499.25000     49.000000       748.000000         92.000000   \n",
       "max     9999.00000     59.000000       999.000000        119.000000   \n",
       "\n",
       "       games_played  in_game_purchases    last_login  friend_count  \\\n",
       "count  10000.000000       10000.000000  10000.000000  10000.000000   \n",
       "mean      14.978100         246.076300     14.478000     99.178100   \n",
       "std        8.375132         143.556355      8.657587     57.438711   \n",
       "min        1.000000           0.000000      0.000000      0.000000   \n",
       "25%        8.000000         120.000000      7.000000     50.000000   \n",
       "50%       15.000000         245.000000     14.000000     99.000000   \n",
       "75%       22.000000         371.000000     22.000000    149.000000   \n",
       "max       29.000000         499.000000     29.000000    199.000000   \n",
       "\n",
       "              churn  max_level_achieved  daily_play_time  number_of_sessions  \\\n",
       "count  10000.000000        10000.000000     10000.000000        10000.000000   \n",
       "mean       0.312900           25.067100       149.663800           24.423700   \n",
       "std        0.463697           14.152633        86.478037           14.434466   \n",
       "min        0.000000            1.000000         0.000000            0.000000   \n",
       "25%        0.000000           13.000000        75.000000           12.000000   \n",
       "50%        0.000000           25.000000       150.000000           24.000000   \n",
       "75%        1.000000           37.000000       224.000000           37.000000   \n",
       "max        1.000000           49.000000       299.000000           49.000000   \n",
       "\n",
       "       social_interactions  achievement_points  \n",
       "count         10000.000000        10000.000000  \n",
       "mean            247.835800         5011.201700  \n",
       "std             143.952491         2898.145526  \n",
       "min               0.000000            0.000000  \n",
       "25%             122.000000         2515.000000  \n",
       "50%             249.000000         5008.500000  \n",
       "75%             372.000000         7534.250000  \n",
       "max             499.000000         9999.000000  "
      ]
     },
     "execution_count": 40,
     "metadata": {},
     "output_type": "execute_result"
    }
   ],
   "source": [
    "df.describe()"
   ]
  },
  {
   "cell_type": "code",
   "execution_count": 41,
   "id": "9901e399",
   "metadata": {},
   "outputs": [
    {
     "name": "stdout",
     "output_type": "stream",
     "text": [
      "<class 'pandas.core.frame.DataFrame'>\n",
      "RangeIndex: 10000 entries, 0 to 9999\n",
      "Data columns (total 20 columns):\n",
      " #   Column               Non-Null Count  Dtype \n",
      "---  ------               --------------  ----- \n",
      " 0   userID               10000 non-null  int64 \n",
      " 1   age                  10000 non-null  int64 \n",
      " 2   gender               10000 non-null  object\n",
      " 3   country              10000 non-null  object\n",
      " 4   total_play_time      10000 non-null  int64 \n",
      " 5   avg_session_time     10000 non-null  int64 \n",
      " 6   games_played         10000 non-null  int64 \n",
      " 7   in_game_purchases    10000 non-null  int64 \n",
      " 8   last_login           10000 non-null  int64 \n",
      " 9   friend_count         10000 non-null  int64 \n",
      " 10  churn                10000 non-null  int64 \n",
      " 11  game_genre           10000 non-null  object\n",
      " 12  max_level_achieved   10000 non-null  int64 \n",
      " 13  daily_play_time      10000 non-null  int64 \n",
      " 14  subscription_status  10000 non-null  object\n",
      " 15  device_type          10000 non-null  object\n",
      " 16  number_of_sessions   10000 non-null  int64 \n",
      " 17  social_interactions  10000 non-null  int64 \n",
      " 18  achievement_points   10000 non-null  int64 \n",
      " 19  favorite_game_mode   10000 non-null  object\n",
      "dtypes: int64(14), object(6)\n",
      "memory usage: 1.5+ MB\n"
     ]
    }
   ],
   "source": [
    "df.info()"
   ]
  },
  {
   "cell_type": "code",
   "execution_count": 42,
   "id": "413c327e",
   "metadata": {},
   "outputs": [
    {
     "name": "stdout",
     "output_type": "stream",
     "text": [
      "Categories in 'gender' variable: ['Other' 'Male' 'Female']\n",
      "Categories in 'country' variable: ['UK' 'Germany' 'Brazil' 'Canada' 'Japan' 'South Korea' 'France' 'USA'\n",
      " 'India' 'Australia']\n",
      "Categories in 'game_genre' variable: ['Adventure' 'Action' 'Strategy' 'Simulation' 'RPG']\n",
      "Categories in 'subscription_status' variable: ['Yes' 'No']\n",
      "Categories in 'device_type' variable: ['PC' 'Console' 'Mobile']\n",
      "Categories in 'favorite_game_mode' variable: ['Coop' 'Single-player' 'Multiplayer']\n"
     ]
    }
   ],
   "source": [
    "# Print unique categories for categorical features\n",
    "print(\"Categories in 'gender' variable:\", end=\" \")\n",
    "print(df['gender'].unique())\n",
    "\n",
    "print(\"Categories in 'country' variable:\", end=\" \")\n",
    "print(df['country'].unique())\n",
    "\n",
    "print(\"Categories in 'game_genre' variable:\", end=\" \")\n",
    "print(df['game_genre'].unique())\n",
    "\n",
    "print(\"Categories in 'subscription_status' variable:\", end=\" \")\n",
    "print(df['subscription_status'].unique())\n",
    "\n",
    "print(\"Categories in 'device_type' variable:\", end=\" \")\n",
    "print(df['device_type'].unique())\n",
    "\n",
    "print(\"Categories in 'favorite_game_mode' variable:\", end=\" \")\n",
    "print(df['favorite_game_mode'].unique())"
   ]
  },
  {
   "cell_type": "code",
   "execution_count": 43,
   "id": "45565050",
   "metadata": {},
   "outputs": [
    {
     "name": "stdout",
     "output_type": "stream",
     "text": [
      "We have 14 numerical features: ['userID', 'age', 'total_play_time', 'avg_session_time', 'games_played', 'in_game_purchases', 'last_login', 'friend_count', 'churn', 'max_level_achieved', 'daily_play_time', 'number_of_sessions', 'social_interactions', 'achievement_points']\n",
      "\n",
      "We have 6 categorical features: ['gender', 'country', 'game_genre', 'subscription_status', 'device_type', 'favorite_game_mode']\n",
      "\n",
      "Unique value counts for categorical features:\n",
      "gender: 3 unique values\n",
      "country: 10 unique values\n",
      "game_genre: 5 unique values\n",
      "subscription_status: 2 unique values\n",
      "device_type: 3 unique values\n",
      "favorite_game_mode: 3 unique values\n",
      "\n",
      "Unique value counts for numerical features:\n",
      "userID: 10000 unique values\n",
      "age: 42 unique values\n",
      "total_play_time: 1000 unique values\n",
      "avg_session_time: 110 unique values\n",
      "games_played: 29 unique values\n",
      "in_game_purchases: 500 unique values\n",
      "last_login: 30 unique values\n",
      "friend_count: 200 unique values\n",
      "churn: 2 unique values\n",
      "max_level_achieved: 49 unique values\n",
      "daily_play_time: 300 unique values\n",
      "number_of_sessions: 50 unique values\n",
      "social_interactions: 500 unique values\n",
      "achievement_points: 6339 unique values\n",
      "\n",
      "Summary statistics for numerical features:\n",
      "            userID           age  total_play_time  avg_session_time  \\\n",
      "count  10000.00000  10000.000000     10000.000000      10000.000000   \n",
      "mean    4999.50000     38.546400       499.476300         64.288200   \n",
      "std     2886.89568     12.014287       288.493319         31.522943   \n",
      "min        0.00000     18.000000         0.000000         10.000000   \n",
      "25%     2499.75000     28.000000       248.000000         37.000000   \n",
      "50%     4999.50000     39.000000       501.000000         65.000000   \n",
      "75%     7499.25000     49.000000       748.000000         92.000000   \n",
      "max     9999.00000     59.000000       999.000000        119.000000   \n",
      "\n",
      "       games_played  in_game_purchases    last_login  friend_count  \\\n",
      "count  10000.000000       10000.000000  10000.000000  10000.000000   \n",
      "mean      14.978100         246.076300     14.478000     99.178100   \n",
      "std        8.375132         143.556355      8.657587     57.438711   \n",
      "min        1.000000           0.000000      0.000000      0.000000   \n",
      "25%        8.000000         120.000000      7.000000     50.000000   \n",
      "50%       15.000000         245.000000     14.000000     99.000000   \n",
      "75%       22.000000         371.000000     22.000000    149.000000   \n",
      "max       29.000000         499.000000     29.000000    199.000000   \n",
      "\n",
      "              churn  max_level_achieved  daily_play_time  number_of_sessions  \\\n",
      "count  10000.000000        10000.000000     10000.000000        10000.000000   \n",
      "mean       0.312900           25.067100       149.663800           24.423700   \n",
      "std        0.463697           14.152633        86.478037           14.434466   \n",
      "min        0.000000            1.000000         0.000000            0.000000   \n",
      "25%        0.000000           13.000000        75.000000           12.000000   \n",
      "50%        0.000000           25.000000       150.000000           24.000000   \n",
      "75%        1.000000           37.000000       224.000000           37.000000   \n",
      "max        1.000000           49.000000       299.000000           49.000000   \n",
      "\n",
      "       social_interactions  achievement_points  \n",
      "count         10000.000000        10000.000000  \n",
      "mean            247.835800         5011.201700  \n",
      "std             143.952491         2898.145526  \n",
      "min               0.000000            0.000000  \n",
      "25%             122.000000         2515.000000  \n",
      "50%             249.000000         5008.500000  \n",
      "75%             372.000000         7534.250000  \n",
      "max             499.000000         9999.000000  \n",
      "\n",
      "Value counts for each categorical feature:\n",
      "\n",
      "Counts in 'gender' variable:\n",
      "Female    3348\n",
      "Other     3341\n",
      "Male      3311\n",
      "Name: gender, dtype: int64\n",
      "\n",
      "Counts in 'country' variable:\n",
      "Australia      1055\n",
      "France         1030\n",
      "India          1008\n",
      "Canada         1002\n",
      "USA            1002\n",
      "Brazil          996\n",
      "Germany         995\n",
      "UK              979\n",
      "Japan           973\n",
      "South Korea     960\n",
      "Name: country, dtype: int64\n",
      "\n",
      "Counts in 'game_genre' variable:\n",
      "Action        2055\n",
      "Simulation    2035\n",
      "RPG           2029\n",
      "Adventure     1957\n",
      "Strategy      1924\n",
      "Name: game_genre, dtype: int64\n",
      "\n",
      "Counts in 'subscription_status' variable:\n",
      "No     5033\n",
      "Yes    4967\n",
      "Name: subscription_status, dtype: int64\n",
      "\n",
      "Counts in 'device_type' variable:\n",
      "PC         3433\n",
      "Mobile     3319\n",
      "Console    3248\n",
      "Name: device_type, dtype: int64\n",
      "\n",
      "Counts in 'favorite_game_mode' variable:\n",
      "Single-player    3365\n",
      "Coop             3333\n",
      "Multiplayer      3302\n",
      "Name: favorite_game_mode, dtype: int64\n"
     ]
    }
   ],
   "source": [
    "# Define numerical and categorical columns\n",
    "numeric_features = [feature for feature in df.columns if df[feature].dtype in ['int64', 'float64']]\n",
    "categorical_features = [feature for feature in df.columns if df[feature].dtype == 'object']\n",
    "\n",
    "# Print counts and unique values for each feature type\n",
    "print('We have {} numerical features: {}'.format(len(numeric_features), numeric_features))\n",
    "print('\\nWe have {} categorical features: {}'.format(len(categorical_features), categorical_features))\n",
    "\n",
    "# Print unique values count for categorical features\n",
    "print(\"\\nUnique value counts for categorical features:\")\n",
    "for feature in categorical_features:\n",
    "    print(f\"{feature}: {df[feature].nunique()} unique values\")\n",
    "\n",
    "# Print unique values count for numerical features\n",
    "print(\"\\nUnique value counts for numerical features:\")\n",
    "for feature in numeric_features:\n",
    "    print(f\"{feature}: {df[feature].nunique()} unique values\")\n",
    "\n",
    "# Print summary statistics for numerical features\n",
    "print(\"\\nSummary statistics for numerical features:\")\n",
    "print(df[numeric_features].describe())\n",
    "\n",
    "# Print value counts for each categorical feature\n",
    "print(\"\\nValue counts for each categorical feature:\")\n",
    "for feature in categorical_features:\n",
    "    print(f\"\\nCounts in '{feature}' variable:\\n{df[feature].value_counts()}\")\n"
   ]
  },
  {
   "cell_type": "markdown",
   "id": "0203fbbb",
   "metadata": {},
   "source": [
    " EDA for catgorical features\n",
    " "
   ]
  },
  {
   "cell_type": "code",
   "execution_count": 44,
   "id": "66143e19",
   "metadata": {},
   "outputs": [
    {
     "data": {
      "application/vnd.plotly.v1+json": {
       "config": {
        "plotlyServerURL": "https://plot.ly"
       },
       "data": [
        {
         "domain": {
          "x": [
           0,
           1
          ],
          "y": [
           0,
           1
          ]
         },
         "hovertemplate": "Category=%{label}<br>churn=%{value}<extra></extra>",
         "labels": [
          0,
          1
         ],
         "legendgroup": "",
         "name": "",
         "showlegend": true,
         "type": "pie",
         "values": [
          6871,
          3129
         ]
        }
       ],
       "layout": {
        "legend": {
         "tracegroupgap": 0
        },
        "piecolorway": [
         "green",
         "red"
        ],
        "template": {
         "data": {
          "bar": [
           {
            "error_x": {
             "color": "#2a3f5f"
            },
            "error_y": {
             "color": "#2a3f5f"
            },
            "marker": {
             "line": {
              "color": "#E5ECF6",
              "width": 0.5
             },
             "pattern": {
              "fillmode": "overlay",
              "size": 10,
              "solidity": 0.2
             }
            },
            "type": "bar"
           }
          ],
          "barpolar": [
           {
            "marker": {
             "line": {
              "color": "#E5ECF6",
              "width": 0.5
             },
             "pattern": {
              "fillmode": "overlay",
              "size": 10,
              "solidity": 0.2
             }
            },
            "type": "barpolar"
           }
          ],
          "carpet": [
           {
            "aaxis": {
             "endlinecolor": "#2a3f5f",
             "gridcolor": "white",
             "linecolor": "white",
             "minorgridcolor": "white",
             "startlinecolor": "#2a3f5f"
            },
            "baxis": {
             "endlinecolor": "#2a3f5f",
             "gridcolor": "white",
             "linecolor": "white",
             "minorgridcolor": "white",
             "startlinecolor": "#2a3f5f"
            },
            "type": "carpet"
           }
          ],
          "choropleth": [
           {
            "colorbar": {
             "outlinewidth": 0,
             "ticks": ""
            },
            "type": "choropleth"
           }
          ],
          "contour": [
           {
            "colorbar": {
             "outlinewidth": 0,
             "ticks": ""
            },
            "colorscale": [
             [
              0,
              "#0d0887"
             ],
             [
              0.1111111111111111,
              "#46039f"
             ],
             [
              0.2222222222222222,
              "#7201a8"
             ],
             [
              0.3333333333333333,
              "#9c179e"
             ],
             [
              0.4444444444444444,
              "#bd3786"
             ],
             [
              0.5555555555555556,
              "#d8576b"
             ],
             [
              0.6666666666666666,
              "#ed7953"
             ],
             [
              0.7777777777777778,
              "#fb9f3a"
             ],
             [
              0.8888888888888888,
              "#fdca26"
             ],
             [
              1,
              "#f0f921"
             ]
            ],
            "type": "contour"
           }
          ],
          "contourcarpet": [
           {
            "colorbar": {
             "outlinewidth": 0,
             "ticks": ""
            },
            "type": "contourcarpet"
           }
          ],
          "heatmap": [
           {
            "colorbar": {
             "outlinewidth": 0,
             "ticks": ""
            },
            "colorscale": [
             [
              0,
              "#0d0887"
             ],
             [
              0.1111111111111111,
              "#46039f"
             ],
             [
              0.2222222222222222,
              "#7201a8"
             ],
             [
              0.3333333333333333,
              "#9c179e"
             ],
             [
              0.4444444444444444,
              "#bd3786"
             ],
             [
              0.5555555555555556,
              "#d8576b"
             ],
             [
              0.6666666666666666,
              "#ed7953"
             ],
             [
              0.7777777777777778,
              "#fb9f3a"
             ],
             [
              0.8888888888888888,
              "#fdca26"
             ],
             [
              1,
              "#f0f921"
             ]
            ],
            "type": "heatmap"
           }
          ],
          "heatmapgl": [
           {
            "colorbar": {
             "outlinewidth": 0,
             "ticks": ""
            },
            "colorscale": [
             [
              0,
              "#0d0887"
             ],
             [
              0.1111111111111111,
              "#46039f"
             ],
             [
              0.2222222222222222,
              "#7201a8"
             ],
             [
              0.3333333333333333,
              "#9c179e"
             ],
             [
              0.4444444444444444,
              "#bd3786"
             ],
             [
              0.5555555555555556,
              "#d8576b"
             ],
             [
              0.6666666666666666,
              "#ed7953"
             ],
             [
              0.7777777777777778,
              "#fb9f3a"
             ],
             [
              0.8888888888888888,
              "#fdca26"
             ],
             [
              1,
              "#f0f921"
             ]
            ],
            "type": "heatmapgl"
           }
          ],
          "histogram": [
           {
            "marker": {
             "pattern": {
              "fillmode": "overlay",
              "size": 10,
              "solidity": 0.2
             }
            },
            "type": "histogram"
           }
          ],
          "histogram2d": [
           {
            "colorbar": {
             "outlinewidth": 0,
             "ticks": ""
            },
            "colorscale": [
             [
              0,
              "#0d0887"
             ],
             [
              0.1111111111111111,
              "#46039f"
             ],
             [
              0.2222222222222222,
              "#7201a8"
             ],
             [
              0.3333333333333333,
              "#9c179e"
             ],
             [
              0.4444444444444444,
              "#bd3786"
             ],
             [
              0.5555555555555556,
              "#d8576b"
             ],
             [
              0.6666666666666666,
              "#ed7953"
             ],
             [
              0.7777777777777778,
              "#fb9f3a"
             ],
             [
              0.8888888888888888,
              "#fdca26"
             ],
             [
              1,
              "#f0f921"
             ]
            ],
            "type": "histogram2d"
           }
          ],
          "histogram2dcontour": [
           {
            "colorbar": {
             "outlinewidth": 0,
             "ticks": ""
            },
            "colorscale": [
             [
              0,
              "#0d0887"
             ],
             [
              0.1111111111111111,
              "#46039f"
             ],
             [
              0.2222222222222222,
              "#7201a8"
             ],
             [
              0.3333333333333333,
              "#9c179e"
             ],
             [
              0.4444444444444444,
              "#bd3786"
             ],
             [
              0.5555555555555556,
              "#d8576b"
             ],
             [
              0.6666666666666666,
              "#ed7953"
             ],
             [
              0.7777777777777778,
              "#fb9f3a"
             ],
             [
              0.8888888888888888,
              "#fdca26"
             ],
             [
              1,
              "#f0f921"
             ]
            ],
            "type": "histogram2dcontour"
           }
          ],
          "mesh3d": [
           {
            "colorbar": {
             "outlinewidth": 0,
             "ticks": ""
            },
            "type": "mesh3d"
           }
          ],
          "parcoords": [
           {
            "line": {
             "colorbar": {
              "outlinewidth": 0,
              "ticks": ""
             }
            },
            "type": "parcoords"
           }
          ],
          "pie": [
           {
            "automargin": true,
            "type": "pie"
           }
          ],
          "scatter": [
           {
            "fillpattern": {
             "fillmode": "overlay",
             "size": 10,
             "solidity": 0.2
            },
            "type": "scatter"
           }
          ],
          "scatter3d": [
           {
            "line": {
             "colorbar": {
              "outlinewidth": 0,
              "ticks": ""
             }
            },
            "marker": {
             "colorbar": {
              "outlinewidth": 0,
              "ticks": ""
             }
            },
            "type": "scatter3d"
           }
          ],
          "scattercarpet": [
           {
            "marker": {
             "colorbar": {
              "outlinewidth": 0,
              "ticks": ""
             }
            },
            "type": "scattercarpet"
           }
          ],
          "scattergeo": [
           {
            "marker": {
             "colorbar": {
              "outlinewidth": 0,
              "ticks": ""
             }
            },
            "type": "scattergeo"
           }
          ],
          "scattergl": [
           {
            "marker": {
             "colorbar": {
              "outlinewidth": 0,
              "ticks": ""
             }
            },
            "type": "scattergl"
           }
          ],
          "scattermapbox": [
           {
            "marker": {
             "colorbar": {
              "outlinewidth": 0,
              "ticks": ""
             }
            },
            "type": "scattermapbox"
           }
          ],
          "scatterpolar": [
           {
            "marker": {
             "colorbar": {
              "outlinewidth": 0,
              "ticks": ""
             }
            },
            "type": "scatterpolar"
           }
          ],
          "scatterpolargl": [
           {
            "marker": {
             "colorbar": {
              "outlinewidth": 0,
              "ticks": ""
             }
            },
            "type": "scatterpolargl"
           }
          ],
          "scatterternary": [
           {
            "marker": {
             "colorbar": {
              "outlinewidth": 0,
              "ticks": ""
             }
            },
            "type": "scatterternary"
           }
          ],
          "surface": [
           {
            "colorbar": {
             "outlinewidth": 0,
             "ticks": ""
            },
            "colorscale": [
             [
              0,
              "#0d0887"
             ],
             [
              0.1111111111111111,
              "#46039f"
             ],
             [
              0.2222222222222222,
              "#7201a8"
             ],
             [
              0.3333333333333333,
              "#9c179e"
             ],
             [
              0.4444444444444444,
              "#bd3786"
             ],
             [
              0.5555555555555556,
              "#d8576b"
             ],
             [
              0.6666666666666666,
              "#ed7953"
             ],
             [
              0.7777777777777778,
              "#fb9f3a"
             ],
             [
              0.8888888888888888,
              "#fdca26"
             ],
             [
              1,
              "#f0f921"
             ]
            ],
            "type": "surface"
           }
          ],
          "table": [
           {
            "cells": {
             "fill": {
              "color": "#EBF0F8"
             },
             "line": {
              "color": "white"
             }
            },
            "header": {
             "fill": {
              "color": "#C8D4E3"
             },
             "line": {
              "color": "white"
             }
            },
            "type": "table"
           }
          ]
         },
         "layout": {
          "annotationdefaults": {
           "arrowcolor": "#2a3f5f",
           "arrowhead": 0,
           "arrowwidth": 1
          },
          "autotypenumbers": "strict",
          "coloraxis": {
           "colorbar": {
            "outlinewidth": 0,
            "ticks": ""
           }
          },
          "colorscale": {
           "diverging": [
            [
             0,
             "#8e0152"
            ],
            [
             0.1,
             "#c51b7d"
            ],
            [
             0.2,
             "#de77ae"
            ],
            [
             0.3,
             "#f1b6da"
            ],
            [
             0.4,
             "#fde0ef"
            ],
            [
             0.5,
             "#f7f7f7"
            ],
            [
             0.6,
             "#e6f5d0"
            ],
            [
             0.7,
             "#b8e186"
            ],
            [
             0.8,
             "#7fbc41"
            ],
            [
             0.9,
             "#4d9221"
            ],
            [
             1,
             "#276419"
            ]
           ],
           "sequential": [
            [
             0,
             "#0d0887"
            ],
            [
             0.1111111111111111,
             "#46039f"
            ],
            [
             0.2222222222222222,
             "#7201a8"
            ],
            [
             0.3333333333333333,
             "#9c179e"
            ],
            [
             0.4444444444444444,
             "#bd3786"
            ],
            [
             0.5555555555555556,
             "#d8576b"
            ],
            [
             0.6666666666666666,
             "#ed7953"
            ],
            [
             0.7777777777777778,
             "#fb9f3a"
            ],
            [
             0.8888888888888888,
             "#fdca26"
            ],
            [
             1,
             "#f0f921"
            ]
           ],
           "sequentialminus": [
            [
             0,
             "#0d0887"
            ],
            [
             0.1111111111111111,
             "#46039f"
            ],
            [
             0.2222222222222222,
             "#7201a8"
            ],
            [
             0.3333333333333333,
             "#9c179e"
            ],
            [
             0.4444444444444444,
             "#bd3786"
            ],
            [
             0.5555555555555556,
             "#d8576b"
            ],
            [
             0.6666666666666666,
             "#ed7953"
            ],
            [
             0.7777777777777778,
             "#fb9f3a"
            ],
            [
             0.8888888888888888,
             "#fdca26"
            ],
            [
             1,
             "#f0f921"
            ]
           ]
          },
          "colorway": [
           "#636efa",
           "#EF553B",
           "#00cc96",
           "#ab63fa",
           "#FFA15A",
           "#19d3f3",
           "#FF6692",
           "#B6E880",
           "#FF97FF",
           "#FECB52"
          ],
          "font": {
           "color": "#2a3f5f"
          },
          "geo": {
           "bgcolor": "white",
           "lakecolor": "white",
           "landcolor": "#E5ECF6",
           "showlakes": true,
           "showland": true,
           "subunitcolor": "white"
          },
          "hoverlabel": {
           "align": "left"
          },
          "hovermode": "closest",
          "mapbox": {
           "style": "light"
          },
          "paper_bgcolor": "white",
          "plot_bgcolor": "#E5ECF6",
          "polar": {
           "angularaxis": {
            "gridcolor": "white",
            "linecolor": "white",
            "ticks": ""
           },
           "bgcolor": "#E5ECF6",
           "radialaxis": {
            "gridcolor": "white",
            "linecolor": "white",
            "ticks": ""
           }
          },
          "scene": {
           "xaxis": {
            "backgroundcolor": "#E5ECF6",
            "gridcolor": "white",
            "gridwidth": 2,
            "linecolor": "white",
            "showbackground": true,
            "ticks": "",
            "zerolinecolor": "white"
           },
           "yaxis": {
            "backgroundcolor": "#E5ECF6",
            "gridcolor": "white",
            "gridwidth": 2,
            "linecolor": "white",
            "showbackground": true,
            "ticks": "",
            "zerolinecolor": "white"
           },
           "zaxis": {
            "backgroundcolor": "#E5ECF6",
            "gridcolor": "white",
            "gridwidth": 2,
            "linecolor": "white",
            "showbackground": true,
            "ticks": "",
            "zerolinecolor": "white"
           }
          },
          "shapedefaults": {
           "line": {
            "color": "#2a3f5f"
           }
          },
          "ternary": {
           "aaxis": {
            "gridcolor": "white",
            "linecolor": "white",
            "ticks": ""
           },
           "baxis": {
            "gridcolor": "white",
            "linecolor": "white",
            "ticks": ""
           },
           "bgcolor": "#E5ECF6",
           "caxis": {
            "gridcolor": "white",
            "linecolor": "white",
            "ticks": ""
           }
          },
          "title": {
           "x": 0.05
          },
          "xaxis": {
           "automargin": true,
           "gridcolor": "white",
           "linecolor": "white",
           "ticks": "",
           "title": {
            "standoff": 15
           },
           "zerolinecolor": "white",
           "zerolinewidth": 2
          },
          "yaxis": {
           "automargin": true,
           "gridcolor": "white",
           "linecolor": "white",
           "ticks": "",
           "title": {
            "standoff": 15
           },
           "zerolinecolor": "white",
           "zerolinewidth": 2
          }
         }
        },
        "title": {
         "text": "Distribution of Churn"
        }
       }
      },
      "text/html": [
       "<div>                            <div id=\"a96abaf0-6838-4d62-b0c1-9f4928934de9\" class=\"plotly-graph-div\" style=\"height:525px; width:100%;\"></div>            <script type=\"text/javascript\">                require([\"plotly\"], function(Plotly) {                    window.PLOTLYENV=window.PLOTLYENV || {};                                    if (document.getElementById(\"a96abaf0-6838-4d62-b0c1-9f4928934de9\")) {                    Plotly.newPlot(                        \"a96abaf0-6838-4d62-b0c1-9f4928934de9\",                        [{\"domain\":{\"x\":[0.0,1.0],\"y\":[0.0,1.0]},\"hovertemplate\":\"Category=%{label}<br>churn=%{value}<extra></extra>\",\"labels\":[0,1],\"legendgroup\":\"\",\"name\":\"\",\"showlegend\":true,\"values\":[6871,3129],\"type\":\"pie\"}],                        {\"template\":{\"data\":{\"histogram2dcontour\":[{\"type\":\"histogram2dcontour\",\"colorbar\":{\"outlinewidth\":0,\"ticks\":\"\"},\"colorscale\":[[0.0,\"#0d0887\"],[0.1111111111111111,\"#46039f\"],[0.2222222222222222,\"#7201a8\"],[0.3333333333333333,\"#9c179e\"],[0.4444444444444444,\"#bd3786\"],[0.5555555555555556,\"#d8576b\"],[0.6666666666666666,\"#ed7953\"],[0.7777777777777778,\"#fb9f3a\"],[0.8888888888888888,\"#fdca26\"],[1.0,\"#f0f921\"]]}],\"choropleth\":[{\"type\":\"choropleth\",\"colorbar\":{\"outlinewidth\":0,\"ticks\":\"\"}}],\"histogram2d\":[{\"type\":\"histogram2d\",\"colorbar\":{\"outlinewidth\":0,\"ticks\":\"\"},\"colorscale\":[[0.0,\"#0d0887\"],[0.1111111111111111,\"#46039f\"],[0.2222222222222222,\"#7201a8\"],[0.3333333333333333,\"#9c179e\"],[0.4444444444444444,\"#bd3786\"],[0.5555555555555556,\"#d8576b\"],[0.6666666666666666,\"#ed7953\"],[0.7777777777777778,\"#fb9f3a\"],[0.8888888888888888,\"#fdca26\"],[1.0,\"#f0f921\"]]}],\"heatmap\":[{\"type\":\"heatmap\",\"colorbar\":{\"outlinewidth\":0,\"ticks\":\"\"},\"colorscale\":[[0.0,\"#0d0887\"],[0.1111111111111111,\"#46039f\"],[0.2222222222222222,\"#7201a8\"],[0.3333333333333333,\"#9c179e\"],[0.4444444444444444,\"#bd3786\"],[0.5555555555555556,\"#d8576b\"],[0.6666666666666666,\"#ed7953\"],[0.7777777777777778,\"#fb9f3a\"],[0.8888888888888888,\"#fdca26\"],[1.0,\"#f0f921\"]]}],\"heatmapgl\":[{\"type\":\"heatmapgl\",\"colorbar\":{\"outlinewidth\":0,\"ticks\":\"\"},\"colorscale\":[[0.0,\"#0d0887\"],[0.1111111111111111,\"#46039f\"],[0.2222222222222222,\"#7201a8\"],[0.3333333333333333,\"#9c179e\"],[0.4444444444444444,\"#bd3786\"],[0.5555555555555556,\"#d8576b\"],[0.6666666666666666,\"#ed7953\"],[0.7777777777777778,\"#fb9f3a\"],[0.8888888888888888,\"#fdca26\"],[1.0,\"#f0f921\"]]}],\"contourcarpet\":[{\"type\":\"contourcarpet\",\"colorbar\":{\"outlinewidth\":0,\"ticks\":\"\"}}],\"contour\":[{\"type\":\"contour\",\"colorbar\":{\"outlinewidth\":0,\"ticks\":\"\"},\"colorscale\":[[0.0,\"#0d0887\"],[0.1111111111111111,\"#46039f\"],[0.2222222222222222,\"#7201a8\"],[0.3333333333333333,\"#9c179e\"],[0.4444444444444444,\"#bd3786\"],[0.5555555555555556,\"#d8576b\"],[0.6666666666666666,\"#ed7953\"],[0.7777777777777778,\"#fb9f3a\"],[0.8888888888888888,\"#fdca26\"],[1.0,\"#f0f921\"]]}],\"surface\":[{\"type\":\"surface\",\"colorbar\":{\"outlinewidth\":0,\"ticks\":\"\"},\"colorscale\":[[0.0,\"#0d0887\"],[0.1111111111111111,\"#46039f\"],[0.2222222222222222,\"#7201a8\"],[0.3333333333333333,\"#9c179e\"],[0.4444444444444444,\"#bd3786\"],[0.5555555555555556,\"#d8576b\"],[0.6666666666666666,\"#ed7953\"],[0.7777777777777778,\"#fb9f3a\"],[0.8888888888888888,\"#fdca26\"],[1.0,\"#f0f921\"]]}],\"mesh3d\":[{\"type\":\"mesh3d\",\"colorbar\":{\"outlinewidth\":0,\"ticks\":\"\"}}],\"scatter\":[{\"fillpattern\":{\"fillmode\":\"overlay\",\"size\":10,\"solidity\":0.2},\"type\":\"scatter\"}],\"parcoords\":[{\"type\":\"parcoords\",\"line\":{\"colorbar\":{\"outlinewidth\":0,\"ticks\":\"\"}}}],\"scatterpolargl\":[{\"type\":\"scatterpolargl\",\"marker\":{\"colorbar\":{\"outlinewidth\":0,\"ticks\":\"\"}}}],\"bar\":[{\"error_x\":{\"color\":\"#2a3f5f\"},\"error_y\":{\"color\":\"#2a3f5f\"},\"marker\":{\"line\":{\"color\":\"#E5ECF6\",\"width\":0.5},\"pattern\":{\"fillmode\":\"overlay\",\"size\":10,\"solidity\":0.2}},\"type\":\"bar\"}],\"scattergeo\":[{\"type\":\"scattergeo\",\"marker\":{\"colorbar\":{\"outlinewidth\":0,\"ticks\":\"\"}}}],\"scatterpolar\":[{\"type\":\"scatterpolar\",\"marker\":{\"colorbar\":{\"outlinewidth\":0,\"ticks\":\"\"}}}],\"histogram\":[{\"marker\":{\"pattern\":{\"fillmode\":\"overlay\",\"size\":10,\"solidity\":0.2}},\"type\":\"histogram\"}],\"scattergl\":[{\"type\":\"scattergl\",\"marker\":{\"colorbar\":{\"outlinewidth\":0,\"ticks\":\"\"}}}],\"scatter3d\":[{\"type\":\"scatter3d\",\"line\":{\"colorbar\":{\"outlinewidth\":0,\"ticks\":\"\"}},\"marker\":{\"colorbar\":{\"outlinewidth\":0,\"ticks\":\"\"}}}],\"scattermapbox\":[{\"type\":\"scattermapbox\",\"marker\":{\"colorbar\":{\"outlinewidth\":0,\"ticks\":\"\"}}}],\"scatterternary\":[{\"type\":\"scatterternary\",\"marker\":{\"colorbar\":{\"outlinewidth\":0,\"ticks\":\"\"}}}],\"scattercarpet\":[{\"type\":\"scattercarpet\",\"marker\":{\"colorbar\":{\"outlinewidth\":0,\"ticks\":\"\"}}}],\"carpet\":[{\"aaxis\":{\"endlinecolor\":\"#2a3f5f\",\"gridcolor\":\"white\",\"linecolor\":\"white\",\"minorgridcolor\":\"white\",\"startlinecolor\":\"#2a3f5f\"},\"baxis\":{\"endlinecolor\":\"#2a3f5f\",\"gridcolor\":\"white\",\"linecolor\":\"white\",\"minorgridcolor\":\"white\",\"startlinecolor\":\"#2a3f5f\"},\"type\":\"carpet\"}],\"table\":[{\"cells\":{\"fill\":{\"color\":\"#EBF0F8\"},\"line\":{\"color\":\"white\"}},\"header\":{\"fill\":{\"color\":\"#C8D4E3\"},\"line\":{\"color\":\"white\"}},\"type\":\"table\"}],\"barpolar\":[{\"marker\":{\"line\":{\"color\":\"#E5ECF6\",\"width\":0.5},\"pattern\":{\"fillmode\":\"overlay\",\"size\":10,\"solidity\":0.2}},\"type\":\"barpolar\"}],\"pie\":[{\"automargin\":true,\"type\":\"pie\"}]},\"layout\":{\"autotypenumbers\":\"strict\",\"colorway\":[\"#636efa\",\"#EF553B\",\"#00cc96\",\"#ab63fa\",\"#FFA15A\",\"#19d3f3\",\"#FF6692\",\"#B6E880\",\"#FF97FF\",\"#FECB52\"],\"font\":{\"color\":\"#2a3f5f\"},\"hovermode\":\"closest\",\"hoverlabel\":{\"align\":\"left\"},\"paper_bgcolor\":\"white\",\"plot_bgcolor\":\"#E5ECF6\",\"polar\":{\"bgcolor\":\"#E5ECF6\",\"angularaxis\":{\"gridcolor\":\"white\",\"linecolor\":\"white\",\"ticks\":\"\"},\"radialaxis\":{\"gridcolor\":\"white\",\"linecolor\":\"white\",\"ticks\":\"\"}},\"ternary\":{\"bgcolor\":\"#E5ECF6\",\"aaxis\":{\"gridcolor\":\"white\",\"linecolor\":\"white\",\"ticks\":\"\"},\"baxis\":{\"gridcolor\":\"white\",\"linecolor\":\"white\",\"ticks\":\"\"},\"caxis\":{\"gridcolor\":\"white\",\"linecolor\":\"white\",\"ticks\":\"\"}},\"coloraxis\":{\"colorbar\":{\"outlinewidth\":0,\"ticks\":\"\"}},\"colorscale\":{\"sequential\":[[0.0,\"#0d0887\"],[0.1111111111111111,\"#46039f\"],[0.2222222222222222,\"#7201a8\"],[0.3333333333333333,\"#9c179e\"],[0.4444444444444444,\"#bd3786\"],[0.5555555555555556,\"#d8576b\"],[0.6666666666666666,\"#ed7953\"],[0.7777777777777778,\"#fb9f3a\"],[0.8888888888888888,\"#fdca26\"],[1.0,\"#f0f921\"]],\"sequentialminus\":[[0.0,\"#0d0887\"],[0.1111111111111111,\"#46039f\"],[0.2222222222222222,\"#7201a8\"],[0.3333333333333333,\"#9c179e\"],[0.4444444444444444,\"#bd3786\"],[0.5555555555555556,\"#d8576b\"],[0.6666666666666666,\"#ed7953\"],[0.7777777777777778,\"#fb9f3a\"],[0.8888888888888888,\"#fdca26\"],[1.0,\"#f0f921\"]],\"diverging\":[[0,\"#8e0152\"],[0.1,\"#c51b7d\"],[0.2,\"#de77ae\"],[0.3,\"#f1b6da\"],[0.4,\"#fde0ef\"],[0.5,\"#f7f7f7\"],[0.6,\"#e6f5d0\"],[0.7,\"#b8e186\"],[0.8,\"#7fbc41\"],[0.9,\"#4d9221\"],[1,\"#276419\"]]},\"xaxis\":{\"gridcolor\":\"white\",\"linecolor\":\"white\",\"ticks\":\"\",\"title\":{\"standoff\":15},\"zerolinecolor\":\"white\",\"automargin\":true,\"zerolinewidth\":2},\"yaxis\":{\"gridcolor\":\"white\",\"linecolor\":\"white\",\"ticks\":\"\",\"title\":{\"standoff\":15},\"zerolinecolor\":\"white\",\"automargin\":true,\"zerolinewidth\":2},\"scene\":{\"xaxis\":{\"backgroundcolor\":\"#E5ECF6\",\"gridcolor\":\"white\",\"linecolor\":\"white\",\"showbackground\":true,\"ticks\":\"\",\"zerolinecolor\":\"white\",\"gridwidth\":2},\"yaxis\":{\"backgroundcolor\":\"#E5ECF6\",\"gridcolor\":\"white\",\"linecolor\":\"white\",\"showbackground\":true,\"ticks\":\"\",\"zerolinecolor\":\"white\",\"gridwidth\":2},\"zaxis\":{\"backgroundcolor\":\"#E5ECF6\",\"gridcolor\":\"white\",\"linecolor\":\"white\",\"showbackground\":true,\"ticks\":\"\",\"zerolinecolor\":\"white\",\"gridwidth\":2}},\"shapedefaults\":{\"line\":{\"color\":\"#2a3f5f\"}},\"annotationdefaults\":{\"arrowcolor\":\"#2a3f5f\",\"arrowhead\":0,\"arrowwidth\":1},\"geo\":{\"bgcolor\":\"white\",\"landcolor\":\"#E5ECF6\",\"subunitcolor\":\"white\",\"showland\":true,\"showlakes\":true,\"lakecolor\":\"white\"},\"title\":{\"x\":0.05},\"mapbox\":{\"style\":\"light\"}}},\"legend\":{\"tracegroupgap\":0},\"title\":{\"text\":\"Distribution of Churn\"},\"piecolorway\":[\"green\",\"red\"]},                        {\"responsive\": true}                    ).then(function(){\n",
       "                            \n",
       "var gd = document.getElementById('a96abaf0-6838-4d62-b0c1-9f4928934de9');\n",
       "var x = new MutationObserver(function (mutations, observer) {{\n",
       "        var display = window.getComputedStyle(gd).display;\n",
       "        if (!display || display === 'none') {{\n",
       "            console.log([gd, 'removed!']);\n",
       "            Plotly.purge(gd);\n",
       "            observer.disconnect();\n",
       "        }}\n",
       "}});\n",
       "\n",
       "// Listen for the removal of the full notebook cells\n",
       "var notebookContainer = gd.closest('#notebook-container');\n",
       "if (notebookContainer) {{\n",
       "    x.observe(notebookContainer, {childList: true});\n",
       "}}\n",
       "\n",
       "// Listen for the clearing of the current output cell\n",
       "var outputEl = gd.closest('.output');\n",
       "if (outputEl) {{\n",
       "    x.observe(outputEl, {childList: true});\n",
       "}}\n",
       "\n",
       "                        })                };                });            </script>        </div>"
      ]
     },
     "metadata": {},
     "output_type": "display_data"
    }
   ],
   "source": [
    "import plotly.express as px #for visualization\n",
    "import matplotlib.pyplot as plt #for visualization \n",
    "\n",
    "target_instance = df[\"churn\"].value_counts().to_frame()\n",
    "target_instance = target_instance.reset_index()\n",
    "target_instance = target_instance.rename(columns={'index': 'Category'})\n",
    "fig = px.pie(target_instance, values='churn', names='Category', color_discrete_sequence=[\"green\", \"red\"],\n",
    "             title='Distribution of Churn')\n",
    "fig.show()"
   ]
  },
  {
   "cell_type": "markdown",
   "id": "fcd51456",
   "metadata": {},
   "source": [
    "Churn: No – 68.7%\n",
    "Churn: Yes – 31.3%"
   ]
  },
  {
   "cell_type": "code",
   "execution_count": 45,
   "id": "d3cda20c",
   "metadata": {},
   "outputs": [
    {
     "data": {
      "image/png": "[encoded data removed]",
      "text/plain": [
       "<Figure size 640x480 with 1 Axes>"
      ]
     },
     "metadata": {},
     "output_type": "display_data"
    },
    {
     "data": {
      "image/png": "[encoded data removed]",
      "text/plain": [
       "<Figure size 640x480 with 1 Axes>"
      ]
     },
     "metadata": {},
     "output_type": "display_data"
    },
    {
     "data": {
      "image/png": "[encoded data removed]",
      "text/plain": [
       "<Figure size 640x480 with 1 Axes>"
      ]
     },
     "metadata": {},
     "output_type": "display_data"
    }
   ],
   "source": [
    "\n",
    "import seaborn as sns\n",
    "import matplotlib.pyplot as plt\n",
    "\n",
    "# Gender vs Churn\n",
    "sns.barplot(x='gender', y='churn', data=df)\n",
    "plt.show()\n",
    "\n",
    "# Subscription Status vs Churn\n",
    "sns.barplot(x='subscription_status', y='churn', data=df)\n",
    "plt.show()\n",
    "\n",
    "# Device Type vs Churn\n",
    "sns.barplot(x='device_type', y='churn', data=df)\n",
    "plt.show()\n",
    "\n"
   ]
  },
  {
   "cell_type": "code",
   "execution_count": 46,
   "id": "d1c40ff8",
   "metadata": {},
   "outputs": [
    {
     "data": {
      "image/png": "[encoded data removed]",
      "text/plain": [
       "<Figure size 640x480 with 1 Axes>"
      ]
     },
     "metadata": {},
     "output_type": "display_data"
    },
    {
     "data": {
      "image/png": "[encoded data removed]",
      "text/plain": [
       "<Figure size 640x480 with 1 Axes>"
      ]
     },
     "metadata": {},
     "output_type": "display_data"
    },
    {
     "data": {
      "image/png": "[encoded data removed]",
      "text/plain": [
       "<Figure size 640x480 with 1 Axes>"
      ]
     },
     "metadata": {},
     "output_type": "display_data"
    }
   ],
   "source": [
    "# Device Type vs Churn\n",
    "sns.barplot(x='country', y='churn', data=df)\n",
    "plt.show()\n",
    "\n",
    "sns.barplot(x='favorite_game_mode', y='churn', data=df)\n",
    "plt.show()\n",
    "\n",
    "sns.barplot(x='game_genre', y='churn', data=df)\n",
    "plt.show()"
   ]
  },
  {
   "cell_type": "markdown",
   "id": "ede3bd1e",
   "metadata": {},
   "source": [
    "EDA for numerical features"
   ]
  },
  {
   "cell_type": "code",
   "execution_count": 47,
   "id": "381ef619",
   "metadata": {},
   "outputs": [
    {
     "data": {
      "image/png": "[encoded data removed]",
      "text/plain": [
       "<Figure size 640x480 with 1 Axes>"
      ]
     },
     "metadata": {},
     "output_type": "display_data"
    },
    {
     "data": {
      "image/png": "[encoded data removed]",
      "text/plain": [
       "<Figure size 640x480 with 1 Axes>"
      ]
     },
     "metadata": {},
     "output_type": "display_data"
    }
   ],
   "source": [
    "# Boxplot for total_play_time vs Churn\n",
    "sns.boxplot(x='churn', y='total_play_time', data=df)\n",
    "plt.show()\n",
    "\n",
    "# Histogram for avg_session_time vs Churn\n",
    "sns.histplot(df[df['churn'] == 0]['avg_session_time'], color='blue', label='Not Churned', kde=True)\n",
    "sns.histplot(df[df['churn'] == 1]['avg_session_time'], color='red', label='Churned', kde=True)\n",
    "plt.legend()\n",
    "plt.show()\n"
   ]
  },
  {
   "cell_type": "code",
   "execution_count": 48,
   "id": "3784ec20",
   "metadata": {},
   "outputs": [
    {
     "name": "stderr",
     "output_type": "stream",
     "text": [
      "C:\\Users\\Rakshitha\\AppData\\Local\\Temp\\ipykernel_11092\\2981627560.py:2: FutureWarning:\n",
      "\n",
      "The default value of numeric_only in DataFrame.corr is deprecated. In a future version, it will default to False. Select only valid columns or specify the value of numeric_only to silence this warning.\n",
      "\n"
     ]
    },
    {
     "data": {
      "image/png": "[encoded data removed]",
      "text/plain": [
       "<Figure size 640x480 with 2 Axes>"
      ]
     },
     "metadata": {},
     "output_type": "display_data"
    }
   ],
   "source": [
    "# Correlation with Churn\n",
    "corr = df.corr()\n",
    "sns.heatmap(corr[['churn']].sort_values(by='churn', ascending=False), annot=True, cmap='coolwarm')\n",
    "plt.show()\n"
   ]
  },
  {
   "cell_type": "code",
   "execution_count": 49,
   "id": "657f568a",
   "metadata": {},
   "outputs": [
    {
     "data": {
      "text/html": [
       "<div>\n",
       "<style scoped>\n",
       "    .dataframe tbody tr th:only-of-type {\n",
       "        vertical-align: middle;\n",
       "    }\n",
       "\n",
       "    .dataframe tbody tr th {\n",
       "        vertical-align: top;\n",
       "    }\n",
       "\n",
       "    .dataframe thead th {\n",
       "        text-align: right;\n",
       "    }\n",
       "</style>\n",
       "<table border=\"1\" class=\"dataframe\">\n",
       "  <thead>\n",
       "    <tr style=\"text-align: right;\">\n",
       "      <th></th>\n",
       "      <th>userID</th>\n",
       "      <th>age</th>\n",
       "      <th>gender</th>\n",
       "      <th>country</th>\n",
       "      <th>total_play_time</th>\n",
       "      <th>avg_session_time</th>\n",
       "      <th>games_played</th>\n",
       "      <th>in_game_purchases</th>\n",
       "      <th>last_login</th>\n",
       "      <th>friend_count</th>\n",
       "      <th>churn</th>\n",
       "      <th>game_genre</th>\n",
       "      <th>max_level_achieved</th>\n",
       "      <th>daily_play_time</th>\n",
       "      <th>subscription_status</th>\n",
       "      <th>device_type</th>\n",
       "      <th>number_of_sessions</th>\n",
       "      <th>social_interactions</th>\n",
       "      <th>achievement_points</th>\n",
       "      <th>favorite_game_mode</th>\n",
       "    </tr>\n",
       "  </thead>\n",
       "  <tbody>\n",
       "    <tr>\n",
       "      <th>0</th>\n",
       "      <td>0</td>\n",
       "      <td>56</td>\n",
       "      <td>Other</td>\n",
       "      <td>UK</td>\n",
       "      <td>90</td>\n",
       "      <td>82</td>\n",
       "      <td>1</td>\n",
       "      <td>258</td>\n",
       "      <td>19</td>\n",
       "      <td>133</td>\n",
       "      <td>0</td>\n",
       "      <td>Adventure</td>\n",
       "      <td>28</td>\n",
       "      <td>6</td>\n",
       "      <td>Yes</td>\n",
       "      <td>PC</td>\n",
       "      <td>17</td>\n",
       "      <td>211</td>\n",
       "      <td>9768</td>\n",
       "      <td>Coop</td>\n",
       "    </tr>\n",
       "    <tr>\n",
       "      <th>1</th>\n",
       "      <td>1</td>\n",
       "      <td>46</td>\n",
       "      <td>Male</td>\n",
       "      <td>Germany</td>\n",
       "      <td>475</td>\n",
       "      <td>107</td>\n",
       "      <td>8</td>\n",
       "      <td>421</td>\n",
       "      <td>24</td>\n",
       "      <td>75</td>\n",
       "      <td>1</td>\n",
       "      <td>Action</td>\n",
       "      <td>25</td>\n",
       "      <td>297</td>\n",
       "      <td>Yes</td>\n",
       "      <td>Console</td>\n",
       "      <td>34</td>\n",
       "      <td>95</td>\n",
       "      <td>2790</td>\n",
       "      <td>Single-player</td>\n",
       "    </tr>\n",
       "    <tr>\n",
       "      <th>2</th>\n",
       "      <td>2</td>\n",
       "      <td>32</td>\n",
       "      <td>Male</td>\n",
       "      <td>Brazil</td>\n",
       "      <td>888</td>\n",
       "      <td>42</td>\n",
       "      <td>10</td>\n",
       "      <td>255</td>\n",
       "      <td>2</td>\n",
       "      <td>111</td>\n",
       "      <td>0</td>\n",
       "      <td>Adventure</td>\n",
       "      <td>39</td>\n",
       "      <td>253</td>\n",
       "      <td>No</td>\n",
       "      <td>PC</td>\n",
       "      <td>25</td>\n",
       "      <td>127</td>\n",
       "      <td>6697</td>\n",
       "      <td>Single-player</td>\n",
       "    </tr>\n",
       "  </tbody>\n",
       "</table>\n",
       "</div>"
      ],
      "text/plain": [
       "   userID  age gender  country  total_play_time  avg_session_time  \\\n",
       "0       0   56  Other       UK               90                82   \n",
       "1       1   46   Male  Germany              475               107   \n",
       "2       2   32   Male   Brazil              888                42   \n",
       "\n",
       "   games_played  in_game_purchases  last_login  friend_count  churn  \\\n",
       "0             1                258          19           133      0   \n",
       "1             8                421          24            75      1   \n",
       "2            10                255           2           111      0   \n",
       "\n",
       "  game_genre  max_level_achieved  daily_play_time subscription_status  \\\n",
       "0  Adventure                  28                6                 Yes   \n",
       "1     Action                  25              297                 Yes   \n",
       "2  Adventure                  39              253                  No   \n",
       "\n",
       "  device_type  number_of_sessions  social_interactions  achievement_points  \\\n",
       "0          PC                  17                  211                9768   \n",
       "1     Console                  34                   95                2790   \n",
       "2          PC                  25                  127                6697   \n",
       "\n",
       "  favorite_game_mode  \n",
       "0               Coop  \n",
       "1      Single-player  \n",
       "2      Single-player  "
      ]
     },
     "execution_count": 49,
     "metadata": {},
     "output_type": "execute_result"
    }
   ],
   "source": [
    "df.head(3)"
   ]
  },
  {
   "cell_type": "code",
   "execution_count": 50,
   "id": "0cb5b108",
   "metadata": {},
   "outputs": [],
   "source": [
    "df['subscription_status'] = df['subscription_status'].map({'Yes': 1, 'No': 0})\n"
   ]
  },
  {
   "cell_type": "code",
   "execution_count": 51,
   "id": "bedfe2ad",
   "metadata": {},
   "outputs": [
    {
     "data": {
      "text/html": [
       "<div>\n",
       "<style scoped>\n",
       "    .dataframe tbody tr th:only-of-type {\n",
       "        vertical-align: middle;\n",
       "    }\n",
       "\n",
       "    .dataframe tbody tr th {\n",
       "        vertical-align: top;\n",
       "    }\n",
       "\n",
       "    .dataframe thead th {\n",
       "        text-align: right;\n",
       "    }\n",
       "</style>\n",
       "<table border=\"1\" class=\"dataframe\">\n",
       "  <thead>\n",
       "    <tr style=\"text-align: right;\">\n",
       "      <th></th>\n",
       "      <th>userID</th>\n",
       "      <th>age</th>\n",
       "      <th>gender</th>\n",
       "      <th>country</th>\n",
       "      <th>total_play_time</th>\n",
       "      <th>avg_session_time</th>\n",
       "      <th>games_played</th>\n",
       "      <th>in_game_purchases</th>\n",
       "      <th>last_login</th>\n",
       "      <th>friend_count</th>\n",
       "      <th>churn</th>\n",
       "      <th>game_genre</th>\n",
       "      <th>max_level_achieved</th>\n",
       "      <th>daily_play_time</th>\n",
       "      <th>subscription_status</th>\n",
       "      <th>device_type</th>\n",
       "      <th>number_of_sessions</th>\n",
       "      <th>social_interactions</th>\n",
       "      <th>achievement_points</th>\n",
       "      <th>favorite_game_mode</th>\n",
       "    </tr>\n",
       "  </thead>\n",
       "  <tbody>\n",
       "    <tr>\n",
       "      <th>0</th>\n",
       "      <td>0</td>\n",
       "      <td>56</td>\n",
       "      <td>Other</td>\n",
       "      <td>UK</td>\n",
       "      <td>90</td>\n",
       "      <td>82</td>\n",
       "      <td>1</td>\n",
       "      <td>258</td>\n",
       "      <td>19</td>\n",
       "      <td>133</td>\n",
       "      <td>0</td>\n",
       "      <td>Adventure</td>\n",
       "      <td>28</td>\n",
       "      <td>6</td>\n",
       "      <td>1</td>\n",
       "      <td>PC</td>\n",
       "      <td>17</td>\n",
       "      <td>211</td>\n",
       "      <td>9768</td>\n",
       "      <td>Coop</td>\n",
       "    </tr>\n",
       "    <tr>\n",
       "      <th>1</th>\n",
       "      <td>1</td>\n",
       "      <td>46</td>\n",
       "      <td>Male</td>\n",
       "      <td>Germany</td>\n",
       "      <td>475</td>\n",
       "      <td>107</td>\n",
       "      <td>8</td>\n",
       "      <td>421</td>\n",
       "      <td>24</td>\n",
       "      <td>75</td>\n",
       "      <td>1</td>\n",
       "      <td>Action</td>\n",
       "      <td>25</td>\n",
       "      <td>297</td>\n",
       "      <td>1</td>\n",
       "      <td>Console</td>\n",
       "      <td>34</td>\n",
       "      <td>95</td>\n",
       "      <td>2790</td>\n",
       "      <td>Single-player</td>\n",
       "    </tr>\n",
       "    <tr>\n",
       "      <th>2</th>\n",
       "      <td>2</td>\n",
       "      <td>32</td>\n",
       "      <td>Male</td>\n",
       "      <td>Brazil</td>\n",
       "      <td>888</td>\n",
       "      <td>42</td>\n",
       "      <td>10</td>\n",
       "      <td>255</td>\n",
       "      <td>2</td>\n",
       "      <td>111</td>\n",
       "      <td>0</td>\n",
       "      <td>Adventure</td>\n",
       "      <td>39</td>\n",
       "      <td>253</td>\n",
       "      <td>0</td>\n",
       "      <td>PC</td>\n",
       "      <td>25</td>\n",
       "      <td>127</td>\n",
       "      <td>6697</td>\n",
       "      <td>Single-player</td>\n",
       "    </tr>\n",
       "    <tr>\n",
       "      <th>3</th>\n",
       "      <td>3</td>\n",
       "      <td>25</td>\n",
       "      <td>Female</td>\n",
       "      <td>Germany</td>\n",
       "      <td>725</td>\n",
       "      <td>31</td>\n",
       "      <td>20</td>\n",
       "      <td>167</td>\n",
       "      <td>4</td>\n",
       "      <td>10</td>\n",
       "      <td>1</td>\n",
       "      <td>Strategy</td>\n",
       "      <td>3</td>\n",
       "      <td>241</td>\n",
       "      <td>1</td>\n",
       "      <td>PC</td>\n",
       "      <td>6</td>\n",
       "      <td>367</td>\n",
       "      <td>836</td>\n",
       "      <td>Single-player</td>\n",
       "    </tr>\n",
       "    <tr>\n",
       "      <th>4</th>\n",
       "      <td>4</td>\n",
       "      <td>38</td>\n",
       "      <td>Female</td>\n",
       "      <td>Canada</td>\n",
       "      <td>187</td>\n",
       "      <td>94</td>\n",
       "      <td>18</td>\n",
       "      <td>470</td>\n",
       "      <td>14</td>\n",
       "      <td>193</td>\n",
       "      <td>0</td>\n",
       "      <td>Simulation</td>\n",
       "      <td>11</td>\n",
       "      <td>181</td>\n",
       "      <td>0</td>\n",
       "      <td>Console</td>\n",
       "      <td>41</td>\n",
       "      <td>425</td>\n",
       "      <td>7261</td>\n",
       "      <td>Multiplayer</td>\n",
       "    </tr>\n",
       "    <tr>\n",
       "      <th>...</th>\n",
       "      <td>...</td>\n",
       "      <td>...</td>\n",
       "      <td>...</td>\n",
       "      <td>...</td>\n",
       "      <td>...</td>\n",
       "      <td>...</td>\n",
       "      <td>...</td>\n",
       "      <td>...</td>\n",
       "      <td>...</td>\n",
       "      <td>...</td>\n",
       "      <td>...</td>\n",
       "      <td>...</td>\n",
       "      <td>...</td>\n",
       "      <td>...</td>\n",
       "      <td>...</td>\n",
       "      <td>...</td>\n",
       "      <td>...</td>\n",
       "      <td>...</td>\n",
       "      <td>...</td>\n",
       "      <td>...</td>\n",
       "    </tr>\n",
       "    <tr>\n",
       "      <th>9995</th>\n",
       "      <td>9995</td>\n",
       "      <td>26</td>\n",
       "      <td>Other</td>\n",
       "      <td>South Korea</td>\n",
       "      <td>254</td>\n",
       "      <td>44</td>\n",
       "      <td>25</td>\n",
       "      <td>335</td>\n",
       "      <td>0</td>\n",
       "      <td>50</td>\n",
       "      <td>0</td>\n",
       "      <td>RPG</td>\n",
       "      <td>26</td>\n",
       "      <td>32</td>\n",
       "      <td>0</td>\n",
       "      <td>PC</td>\n",
       "      <td>15</td>\n",
       "      <td>186</td>\n",
       "      <td>220</td>\n",
       "      <td>Multiplayer</td>\n",
       "    </tr>\n",
       "    <tr>\n",
       "      <th>9996</th>\n",
       "      <td>9996</td>\n",
       "      <td>58</td>\n",
       "      <td>Male</td>\n",
       "      <td>Japan</td>\n",
       "      <td>4</td>\n",
       "      <td>27</td>\n",
       "      <td>10</td>\n",
       "      <td>478</td>\n",
       "      <td>15</td>\n",
       "      <td>153</td>\n",
       "      <td>0</td>\n",
       "      <td>Simulation</td>\n",
       "      <td>5</td>\n",
       "      <td>38</td>\n",
       "      <td>1</td>\n",
       "      <td>Console</td>\n",
       "      <td>39</td>\n",
       "      <td>165</td>\n",
       "      <td>1196</td>\n",
       "      <td>Multiplayer</td>\n",
       "    </tr>\n",
       "    <tr>\n",
       "      <th>9997</th>\n",
       "      <td>9997</td>\n",
       "      <td>35</td>\n",
       "      <td>Female</td>\n",
       "      <td>India</td>\n",
       "      <td>580</td>\n",
       "      <td>119</td>\n",
       "      <td>11</td>\n",
       "      <td>470</td>\n",
       "      <td>25</td>\n",
       "      <td>34</td>\n",
       "      <td>1</td>\n",
       "      <td>Adventure</td>\n",
       "      <td>47</td>\n",
       "      <td>105</td>\n",
       "      <td>1</td>\n",
       "      <td>Mobile</td>\n",
       "      <td>19</td>\n",
       "      <td>51</td>\n",
       "      <td>5733</td>\n",
       "      <td>Multiplayer</td>\n",
       "    </tr>\n",
       "    <tr>\n",
       "      <th>9998</th>\n",
       "      <td>9998</td>\n",
       "      <td>46</td>\n",
       "      <td>Female</td>\n",
       "      <td>Germany</td>\n",
       "      <td>51</td>\n",
       "      <td>79</td>\n",
       "      <td>12</td>\n",
       "      <td>349</td>\n",
       "      <td>10</td>\n",
       "      <td>125</td>\n",
       "      <td>0</td>\n",
       "      <td>Simulation</td>\n",
       "      <td>7</td>\n",
       "      <td>66</td>\n",
       "      <td>0</td>\n",
       "      <td>Console</td>\n",
       "      <td>16</td>\n",
       "      <td>449</td>\n",
       "      <td>2205</td>\n",
       "      <td>Multiplayer</td>\n",
       "    </tr>\n",
       "    <tr>\n",
       "      <th>9999</th>\n",
       "      <td>9999</td>\n",
       "      <td>56</td>\n",
       "      <td>Male</td>\n",
       "      <td>Canada</td>\n",
       "      <td>976</td>\n",
       "      <td>43</td>\n",
       "      <td>22</td>\n",
       "      <td>231</td>\n",
       "      <td>0</td>\n",
       "      <td>79</td>\n",
       "      <td>1</td>\n",
       "      <td>RPG</td>\n",
       "      <td>36</td>\n",
       "      <td>104</td>\n",
       "      <td>1</td>\n",
       "      <td>Console</td>\n",
       "      <td>48</td>\n",
       "      <td>324</td>\n",
       "      <td>7522</td>\n",
       "      <td>Multiplayer</td>\n",
       "    </tr>\n",
       "  </tbody>\n",
       "</table>\n",
       "<p>10000 rows × 20 columns</p>\n",
       "</div>"
      ],
      "text/plain": [
       "      userID  age  gender      country  total_play_time  avg_session_time  \\\n",
       "0          0   56   Other           UK               90                82   \n",
       "1          1   46    Male      Germany              475               107   \n",
       "2          2   32    Male       Brazil              888                42   \n",
       "3          3   25  Female      Germany              725                31   \n",
       "4          4   38  Female       Canada              187                94   \n",
       "...      ...  ...     ...          ...              ...               ...   \n",
       "9995    9995   26   Other  South Korea              254                44   \n",
       "9996    9996   58    Male        Japan                4                27   \n",
       "9997    9997   35  Female        India              580               119   \n",
       "9998    9998   46  Female      Germany               51                79   \n",
       "9999    9999   56    Male       Canada              976                43   \n",
       "\n",
       "      games_played  in_game_purchases  last_login  friend_count  churn  \\\n",
       "0                1                258          19           133      0   \n",
       "1                8                421          24            75      1   \n",
       "2               10                255           2           111      0   \n",
       "3               20                167           4            10      1   \n",
       "4               18                470          14           193      0   \n",
       "...            ...                ...         ...           ...    ...   \n",
       "9995            25                335           0            50      0   \n",
       "9996            10                478          15           153      0   \n",
       "9997            11                470          25            34      1   \n",
       "9998            12                349          10           125      0   \n",
       "9999            22                231           0            79      1   \n",
       "\n",
       "      game_genre  max_level_achieved  daily_play_time  subscription_status  \\\n",
       "0      Adventure                  28                6                    1   \n",
       "1         Action                  25              297                    1   \n",
       "2      Adventure                  39              253                    0   \n",
       "3       Strategy                   3              241                    1   \n",
       "4     Simulation                  11              181                    0   \n",
       "...          ...                 ...              ...                  ...   \n",
       "9995         RPG                  26               32                    0   \n",
       "9996  Simulation                   5               38                    1   \n",
       "9997   Adventure                  47              105                    1   \n",
       "9998  Simulation                   7               66                    0   \n",
       "9999         RPG                  36              104                    1   \n",
       "\n",
       "     device_type  number_of_sessions  social_interactions  achievement_points  \\\n",
       "0             PC                  17                  211                9768   \n",
       "1        Console                  34                   95                2790   \n",
       "2             PC                  25                  127                6697   \n",
       "3             PC                   6                  367                 836   \n",
       "4        Console                  41                  425                7261   \n",
       "...          ...                 ...                  ...                 ...   \n",
       "9995          PC                  15                  186                 220   \n",
       "9996     Console                  39                  165                1196   \n",
       "9997      Mobile                  19                   51                5733   \n",
       "9998     Console                  16                  449                2205   \n",
       "9999     Console                  48                  324                7522   \n",
       "\n",
       "     favorite_game_mode  \n",
       "0                  Coop  \n",
       "1         Single-player  \n",
       "2         Single-player  \n",
       "3         Single-player  \n",
       "4           Multiplayer  \n",
       "...                 ...  \n",
       "9995        Multiplayer  \n",
       "9996        Multiplayer  \n",
       "9997        Multiplayer  \n",
       "9998        Multiplayer  \n",
       "9999        Multiplayer  \n",
       "\n",
       "[10000 rows x 20 columns]"
      ]
     },
     "execution_count": 51,
     "metadata": {},
     "output_type": "execute_result"
    }
   ],
   "source": [
    "df"
   ]
  },
  {
   "cell_type": "code",
   "execution_count": 52,
   "id": "bb29c5c5",
   "metadata": {},
   "outputs": [
    {
     "data": {
      "text/plain": [
       "(10000, 20)"
      ]
     },
     "execution_count": 52,
     "metadata": {},
     "output_type": "execute_result"
    }
   ],
   "source": [
    "df.shape"
   ]
  },
  {
   "cell_type": "code",
   "execution_count": 53,
   "id": "2734e3ba",
   "metadata": {},
   "outputs": [],
   "source": [
    "df['gender'] = df['gender'].map({'Male': 1, 'Female': 0, 'Other': 2})\n"
   ]
  },
  {
   "cell_type": "code",
   "execution_count": 54,
   "id": "51d96da0",
   "metadata": {},
   "outputs": [],
   "source": [
    "df = pd.get_dummies(df, columns=['game_genre'], drop_first=True)\n"
   ]
  },
  {
   "cell_type": "code",
   "execution_count": 55,
   "id": "241e6465",
   "metadata": {},
   "outputs": [],
   "source": [
    "df = pd.get_dummies(df, columns=['country'], drop_first=True)\n"
   ]
  },
  {
   "cell_type": "code",
   "execution_count": 56,
   "id": "babee9e0",
   "metadata": {},
   "outputs": [],
   "source": [
    "df = pd.get_dummies(df, columns=['device_type'], drop_first=True)\n"
   ]
  },
  {
   "cell_type": "code",
   "execution_count": 57,
   "id": "aaaa0e30",
   "metadata": {},
   "outputs": [],
   "source": [
    "\n",
    "df = pd.get_dummies(df, columns=['favorite_game_mode'], drop_first=True)\n"
   ]
  },
  {
   "cell_type": "code",
   "execution_count": 58,
   "id": "ce157af8",
   "metadata": {},
   "outputs": [
    {
     "data": {
      "text/plain": [
       "userID                              0\n",
       "age                                 0\n",
       "gender                              0\n",
       "total_play_time                     0\n",
       "avg_session_time                    0\n",
       "games_played                        0\n",
       "in_game_purchases                   0\n",
       "last_login                          0\n",
       "friend_count                        0\n",
       "churn                               0\n",
       "max_level_achieved                  0\n",
       "daily_play_time                     0\n",
       "subscription_status                 0\n",
       "number_of_sessions                  0\n",
       "social_interactions                 0\n",
       "achievement_points                  0\n",
       "game_genre_Adventure                0\n",
       "game_genre_RPG                      0\n",
       "game_genre_Simulation               0\n",
       "game_genre_Strategy                 0\n",
       "country_Brazil                      0\n",
       "country_Canada                      0\n",
       "country_France                      0\n",
       "country_Germany                     0\n",
       "country_India                       0\n",
       "country_Japan                       0\n",
       "country_South Korea                 0\n",
       "country_UK                          0\n",
       "country_USA                         0\n",
       "device_type_Mobile                  0\n",
       "device_type_PC                      0\n",
       "favorite_game_mode_Multiplayer      0\n",
       "favorite_game_mode_Single-player    0\n",
       "dtype: int64"
      ]
     },
     "execution_count": 58,
     "metadata": {},
     "output_type": "execute_result"
    }
   ],
   "source": [
    "# Check for missing values in the dataframe\n",
    "df.isnull().sum()\n"
   ]
  },
  {
   "cell_type": "code",
   "execution_count": 59,
   "id": "83af247c",
   "metadata": {},
   "outputs": [
    {
     "data": {
      "application/vnd.plotly.v1+json": {
       "config": {
        "plotlyServerURL": "https://plot.ly"
       },
       "data": [
        {
         "coloraxis": "coloraxis",
         "hovertemplate": "x: %{x}<br>y: %{y}<br>color: %{z}<extra></extra>",
         "name": "0",
         "type": "heatmap",
         "x": [
          "userID",
          "age",
          "gender",
          "total_play_time",
          "avg_session_time",
          "games_played",
          "in_game_purchases",
          "last_login",
          "friend_count",
          "churn",
          "max_level_achieved",
          "daily_play_time",
          "subscription_status",
          "number_of_sessions",
          "social_interactions",
          "achievement_points",
          "game_genre_Adventure",
          "game_genre_RPG",
          "game_genre_Simulation",
          "game_genre_Strategy",
          "country_Brazil",
          "country_Canada",
          "country_France",
          "country_Germany",
          "country_India",
          "country_Japan",
          "country_South Korea",
          "country_UK",
          "country_USA",
          "device_type_Mobile",
          "device_type_PC",
          "favorite_game_mode_Multiplayer",
          "favorite_game_mode_Single-player"
         ],
         "xaxis": "x",
         "y": [
          "userID",
          "age",
          "gender",
          "total_play_time",
          "avg_session_time",
          "games_played",
          "in_game_purchases",
          "last_login",
          "friend_count",
          "churn",
          "max_level_achieved",
          "daily_play_time",
          "subscription_status",
          "number_of_sessions",
          "social_interactions",
          "achievement_points",
          "game_genre_Adventure",
          "game_genre_RPG",
          "game_genre_Simulation",
          "game_genre_Strategy",
          "country_Brazil",
          "country_Canada",
          "country_France",
          "country_Germany",
          "country_India",
          "country_Japan",
          "country_South Korea",
          "country_UK",
          "country_USA",
          "device_type_Mobile",
          "device_type_PC",
          "favorite_game_mode_Multiplayer",
          "favorite_game_mode_Single-player"
         ],
         "yaxis": "y",
         "z": [
          [
           1,
           -0.010794514088634037,
           -0.007621349334042458,
           -0.0030395388628607924,
           -0.0005249886597574831,
           -0.00539778672679207,
           -0.010506343764113885,
           0.009790744718460871,
           -0.004426014728545548,
           -0.003074422426991217,
           -0.0003382889763613001,
           -0.011280353629901103,
           -0.008521425281300307,
           -0.01427342303312768,
           0.006432155211318623,
           -0.027134914753804352,
           -0.00045722217566320574,
           0.0005537361098651838,
           -0.0013128010245286564,
           -0.001276456670697924,
           0.004459193612943431,
           -0.012035260959492188,
           0.0025085084315885297,
           -0.017361407864766313,
           0.02433286783843384,
           -0.008814898985153589,
           -0.004729591779555066,
           -0.0015013119494939157,
           0.0008889071777770981,
           -0.0012755657018465464,
           -0.005732529710296182,
           0.0011560878558805868,
           0.0027366431221945253
          ],
          [
           -0.010794514088634037,
           1,
           0.017788576185556883,
           -0.021217029922703804,
           -0.02255703152290787,
           0.007102254561204604,
           0.003303756997546429,
           -0.0012555169734635298,
           0.017521309671274514,
           0.006252913247120458,
           -0.0032571103567700065,
           0.0061068389713371495,
           -0.0012147877078016757,
           -0.01141569477306065,
           -0.009198552408115077,
           -0.0016572885340117535,
           -0.011629684204771158,
           -0.00413224482893741,
           0.026775888330974846,
           -0.017469167382642283,
           -0.011652322864032814,
           0.01958544604103194,
           0.0037300230186423145,
           0.0017055225181453993,
           -0.0017908007095206,
           -0.003528973550365991,
           -0.0028409268869196503,
           0.008460946792870934,
           0.01326494188006172,
           0.012435477948188747,
           -0.019175104740026226,
           0.02208529221862385,
           -0.009946706339056099
          ],
          [
           -0.007621349334042458,
           0.017788576185556883,
           1,
           0.005630902362049012,
           0.0013421852572903456,
           -7.523761949830682e-05,
           0.0022542202654782456,
           0.002942588836856878,
           -0.003147982575770985,
           -0.02447373054182481,
           0.003416781755732775,
           -0.013739896253137566,
           0.015033876413276064,
           0.0038032415270520853,
           -0.015540251846390138,
           -0.004641301517298766,
           -0.0011187516859953925,
           -0.003216588359526753,
           -0.001085878530708847,
           -0.0005127955747530576,
           0.004367594036923529,
           0.005579273498722597,
           0.007128414629076275,
           0.000692978923650163,
           0.00312944704358533,
           -0.00673259206448355,
           0.0015240611825950395,
           -0.008769606329931323,
           -0.006229660731571706,
           0.002420833150879145,
           -0.002728839464880417,
           0.0037208364018992035,
           0.00656113150296657
          ],
          [
           -0.0030395388628607924,
           -0.021217029922703804,
           0.005630902362049012,
           1,
           0.007776750739711225,
           0.002840205088107724,
           -0.00158044933816565,
           -0.016092404598639167,
           0.0008233477285922862,
           0.007426469002166959,
           0.008863872142027588,
           -0.011320426841106764,
           0.01796719473541519,
           -0.0019068999218441718,
           0.010721796243923748,
           -0.016765061566652056,
           0.00810906361716907,
           0.0033276826688661827,
           -0.013217678458259727,
           -0.006972216830365657,
           0.010302866691704346,
           -0.013494781084997342,
           0.0036681126115309195,
           -0.006181651180323098,
           0.003691272461976948,
           -0.009386996602755226,
           0.014031867634422292,
           -0.009410124113929108,
           -0.011646489730845241,
           0.012859046353240014,
           -0.02674189890520652,
           0.0027444031588482014,
           0.0013155698685881078
          ],
          [
           -0.0005249886597574831,
           -0.02255703152290787,
           0.0013421852572903456,
           0.007776750739711225,
           1,
           0.013442985419498973,
           -0.0031087526269208,
           0.0039871708090051874,
           0.001260605851681835,
           0.0026630530121816666,
           -0.004370747658709448,
           -0.006580125954681753,
           0.011176856635473293,
           0.004147271410638395,
           0.004777703131054876,
           0.0014531506454584188,
           0.0020869820379812464,
           0.006825511919434696,
           -0.010192528535564854,
           0.003239392803663597,
           0.006556998497314157,
           -0.009643895864790787,
           -0.0006559304187996213,
           -0.001756785279260565,
           -0.002481634327468135,
           -0.006309437748415933,
           -0.012434655778077192,
           -0.00248890086734874,
           0.012702036560754628,
           0.014090325880911449,
           -0.0022609598237542127,
           0.010121162035963973,
           -0.00506097354120682
          ],
          [
           -0.00539778672679207,
           0.007102254561204604,
           -7.523761949830682e-05,
           0.002840205088107724,
           0.013442985419498973,
           1,
           0.010148013386990501,
           0.015861371800360815,
           -0.01982874760988878,
           -0.0018406484942380937,
           -0.018820976884976196,
           0.0024841973992720907,
           -0.013379202172875575,
           -0.009851390215147892,
           0.0006204924800661116,
           -0.01927794604109061,
           -0.01619654039412229,
           0.011711383059096463,
           -0.006923379601598346,
           0.012302699882574512,
           0.014705783270138469,
           0.007951171957335912,
           -0.0057921444512363755,
           0.014791262990621513,
           -0.022485217852427547,
           0.0015434740509229087,
           -0.007781389705093634,
           0.007651908582376468,
           -0.011813044101356304,
           -0.0007179685009805265,
           0.006920393299263957,
           0.013845716712224787,
           0.013031929409879186
          ],
          [
           -0.010506343764113885,
           0.003303756997546429,
           0.0022542202654782456,
           -0.00158044933816565,
           -0.0031087526269208,
           0.010148013386990501,
           1,
           0.008749810447477769,
           0.008287909065119359,
           -0.009165776172782957,
           -0.011514423453342259,
           0.0017324863598321763,
           0.007895748995907542,
           -0.026267271138457393,
           0.0031700094242753988,
           -0.018763754994596676,
           0.003066962166293157,
           -0.004908773673474976,
           -0.007876844246765076,
           0.001225057314695254,
           0.02141524750214424,
           1.055007620931773e-05,
           -0.02564017375435342,
           0.005466935879982595,
           -0.0010433526694795855,
           -0.01398403927865958,
           0.009697124425541657,
           -0.009919624730018521,
           0.00030055305069093843,
           -0.011270146608106024,
           0.009312185791106757,
           -0.0028898991041706973,
           -0.009684317001329436
          ],
          [
           0.009790744718460871,
           -0.0012555169734635298,
           0.002942588836856878,
           -0.016092404598639167,
           0.0039871708090051874,
           0.015861371800360815,
           0.008749810447477769,
           1,
           0.006342864403448323,
           0.003994372483412339,
           8.59173624780665e-05,
           0.0036356459001916992,
           -0.010147343222430466,
           -0.01974171230704098,
           -0.0009084030223221968,
           0.008364115363569052,
           -0.005894264331484428,
           0.013561145729970286,
           -0.007939734887148305,
           0.0028813855357953944,
           0.004316722190525142,
           0.005233562230263607,
           -0.00046894853221798963,
           -0.0035737925594688793,
           -0.016951797002396202,
           -0.0029658359680397872,
           0.007023427502217937,
           0.01749263981125744,
           0.00684928665523701,
           0.001778878601796862,
           -0.009633211953663007,
           0.007801972322568671,
           -0.0026272361186014306
          ],
          [
           -0.004426014728545548,
           0.017521309671274514,
           -0.003147982575770985,
           0.0008233477285922862,
           0.001260605851681835,
           -0.01982874760988878,
           0.008287909065119359,
           0.006342864403448323,
           1,
           0.0006373094369416158,
           -0.005301923670504683,
           -0.015223764611437148,
           -0.010159810696917248,
           0.01864387688672466,
           0.011771302962992662,
           0.003781609462053995,
           0.0009806388060256404,
           -0.01714568365884648,
           0.00747528968273628,
           -0.004119473779622905,
           -0.013635913710040514,
           0.009634340050857235,
           0.007753160013698667,
           0.02250873494614143,
           0.011031066862266698,
           -0.004490015152055006,
           -0.009863868906318199,
           -0.019751653649034827,
           -0.002408992352194973,
           -0.007561538545675003,
           0.012678538642319437,
           0.02815095359166412,
           -0.01193960958730077
          ],
          [
           -0.003074422426991217,
           0.006252913247120458,
           -0.02447373054182481,
           0.007426469002166959,
           0.0026630530121816666,
           -0.0018406484942380937,
           -0.009165776172782957,
           0.003994372483412339,
           0.0006373094369416158,
           1,
           0.022936171836855406,
           -0.011809347231754915,
           0.002512897738085332,
           -0.017702623228896968,
           0.018182664892993562,
           0.000850684388852041,
           -0.0072545610208898485,
           0.003821461948549743,
           -0.010580647123250379,
           0.008743276260383445,
           0.0009733925430481796,
           -0.01186978579030406,
           0.015406083332064195,
           -0.00528522604692321,
           -0.0017215464467261077,
           0.00622069427711007,
           -0.004673694174832235,
           0.00774407600725325,
           0.007523176507328111,
           -0.009853856899907554,
           0.012179607649596066,
           -0.010637400078097181,
           0.005062494096912059
          ],
          [
           -0.0003382889763613001,
           -0.0032571103567700065,
           0.003416781755732775,
           0.008863872142027588,
           -0.004370747658709448,
           -0.018820976884976196,
           -0.011514423453342259,
           8.59173624780665e-05,
           -0.005301923670504683,
           0.022936171836855406,
           1,
           0.0034823215179054902,
           0.011683672328800966,
           -0.0022986298839253174,
           0.005547788890833315,
           0.017360559058993686,
           -0.004102056848433761,
           0.00941528767150456,
           0.0036761467680238437,
           -0.019648713091842625,
           0.008238952222309161,
           0.009643025542080836,
           -0.009998899406252275,
           0.00035965638642967583,
           0.012142876636878358,
           -7.84021107625994e-05,
           0.004931215066378141,
           -0.01737398632346372,
           -0.0033001338141769474,
           0.0034857814209123795,
           0.004489119772914481,
           -0.005597891527434195,
           -0.008476075074321989
          ],
          [
           -0.011280353629901103,
           0.0061068389713371495,
           -0.013739896253137566,
           -0.011320426841106764,
           -0.006580125954681753,
           0.0024841973992720907,
           0.0017324863598321763,
           0.0036356459001916992,
           -0.015223764611437148,
           -0.011809347231754915,
           0.0034823215179054902,
           1,
           0.0033557874601420437,
           0.00211438545813079,
           -0.012567632552529379,
           -0.023101263915796047,
           0.0014951366725708599,
           -0.015538953545473452,
           0.021451359391769342,
           -0.005125611635022475,
           0.01395530169698402,
           0.008699629130497688,
           -0.014901257564523703,
           -0.0038574677259243587,
           0.007435977491781132,
           -0.0015213033261639037,
           -0.008099300193630827,
           0.009191847380879905,
           -0.010325866911093093,
           -0.0018987007804110829,
           0.003373649842870947,
           -0.0007767117398930055,
           0.0027222619323330546
          ],
          [
           -0.008521425281300307,
           -0.0012147877078016757,
           0.015033876413276064,
           0.01796719473541519,
           0.011176856635473293,
           -0.013379202172875575,
           0.007895748995907542,
           -0.010147343222430466,
           -0.010159810696917248,
           0.002512897738085332,
           0.011683672328800966,
           0.0033557874601420437,
           1,
           0.0029581616995810484,
           -0.0073326934533381495,
           -0.004125544045042877,
           -0.008087062739523379,
           -0.0028866350323224566,
           0.00010705615281288084,
           0.013876610329341142,
           0.02289913073484879,
           0.00886338678514898,
           -0.00631743948693767,
           0.009877870347110459,
           -0.0011118154552229528,
           -0.006943664066990688,
           0.008940039567112474,
           -0.011622391527268601,
           -0.016448014912930218,
           -0.0032055806358655793,
           0.006246373963951501,
           -0.012802473869242156,
           -0.0048234728948745925
          ],
          [
           -0.01427342303312768,
           -0.01141569477306065,
           0.0038032415270520853,
           -0.0019068999218441718,
           0.004147271410638395,
           -0.009851390215147892,
           -0.026267271138457393,
           -0.01974171230704098,
           0.01864387688672466,
           -0.017702623228896968,
           -0.0022986298839253174,
           0.00211438545813079,
           0.0029581616995810484,
           1,
           -0.002164554227262283,
           0.006519862729894035,
           0.010282493192775839,
           -0.001458954834851647,
           -0.01024307467586615,
           0.016342195517981817,
           -0.005136138464999897,
           -0.018079208253462042,
           -0.0025166249515869584,
           0.003041754054812715,
           0.022389037275921113,
           -0.01721171367773856,
           0.0013463608540059359,
           0.010985136640469484,
           -0.0004510276154496445,
           -0.0017840838627934876,
           0.00013771332060092957,
           -0.0032713358509469967,
           -0.012650078207965194
          ],
          [
           0.006432155211318623,
           -0.009198552408115077,
           -0.015540251846390138,
           0.010721796243923748,
           0.004777703131054876,
           0.0006204924800661116,
           0.0031700094242753988,
           -0.0009084030223221968,
           0.011771302962992662,
           0.018182664892993562,
           0.005547788890833315,
           -0.012567632552529379,
           -0.0073326934533381495,
           -0.002164554227262283,
           1,
           0.017056383310657588,
           -0.007989438324110778,
           -0.008018536334277989,
           -0.01130037033860236,
           0.020233851734522343,
           0.007580126563530666,
           0.00318247673615239,
           -0.028285481530778683,
           -0.004942554342988381,
           -0.014933037612225865,
           0.004401655001823643,
           0.004791017357528851,
           0.0045321686048319315,
           0.007057822772668314,
           -0.004636874498296175,
           0.01330084953377395,
           0.005346291279307067,
           -0.002544209413369583
          ],
          [
           -0.027134914753804352,
           -0.0016572885340117535,
           -0.004641301517298766,
           -0.016765061566652056,
           0.0014531506454584188,
           -0.01927794604109061,
           -0.018763754994596676,
           0.008364115363569052,
           0.003781609462053995,
           0.000850684388852041,
           0.017360559058993686,
           -0.023101263915796047,
           -0.004125544045042877,
           0.006519862729894035,
           0.017056383310657588,
           1,
           0.011347721037368674,
           -0.0008372901992605074,
           0.001672057504502148,
           -0.0004358621326017253,
           -0.0012743979010510708,
           0.004415894420011017,
           0.00977975795175042,
           -0.01188621011745717,
           0.019339714296055084,
           -0.010812862149068281,
           0.0055494842758956765,
           -0.009160018297785113,
           -0.0035655120374925233,
           0.008577154462232478,
           0.0033663892426290484,
           -0.0022988723826438697,
           -0.011521437797325614
          ],
          [
           -0.00045722217566320574,
           -0.011629684204771158,
           -0.0011187516859953925,
           0.00810906361716907,
           0.0020869820379812464,
           -0.01619654039412229,
           0.003066962166293157,
           -0.005894264331484428,
           0.0009806388060256404,
           -0.0072545610208898485,
           -0.004102056848433761,
           0.0014951366725708599,
           -0.008087062739523379,
           0.010282493192775839,
           -0.007989438324110778,
           0.011347721037368674,
           1,
           -0.24886911157335828,
           -0.24933066490449932,
           -0.2407635604923546,
           -0.009188812864846893,
           0.006638780475219621,
           0.011965117073608046,
           -0.01408047763331471,
           0.0031264966812556295,
           0.0013470855274146203,
           -0.0050241404078432625,
           -0.013223040794724753,
           0.011675409316141866,
           -0.01152340769811004,
           0.014949858943705688,
           0.008467457981773535,
           -0.011485149969357593
          ],
          [
           0.0005537361098651838,
           -0.00413224482893741,
           -0.003216588359526753,
           0.0033276826688661827,
           0.006825511919434696,
           0.011711383059096463,
           -0.004908773673474976,
           0.013561145729970286,
           -0.01714568365884648,
           0.003821461948549743,
           0.00941528767150456,
           -0.015538953545473452,
           -0.0028866350323224566,
           -0.001458954834851647,
           -0.008018536334277989,
           -0.0008372901992605074,
           -0.24886911157335828,
           1,
           -0.2550198204639314,
           -0.24625723432187865,
           -0.021662202144267336,
           0.007199881409483716,
           -0.01635066236111035,
           0.010063630142260669,
           0.013608712114728508,
           0.0030022799020372826,
           -0.003193992322604859,
           0.008669246796907995,
           -0.0035657391563289217,
           -0.003920852609675072,
           0.004422275716370827,
           -0.017435596355185698,
           0.0022320763472127294
          ],
          [
           -0.0013128010245286564,
           0.026775888330974846,
           -0.001085878530708847,
           -0.013217678458259727,
           -0.010192528535564854,
           -0.006923379601598346,
           -0.007876844246765076,
           -0.007939734887148305,
           0.00747528968273628,
           -0.010580647123250379,
           0.0036761467680238437,
           0.021451359391769342,
           0.00010705615281288084,
           -0.01024307467586615,
           -0.01130037033860236,
           0.001672057504502148,
           -0.24933066490449932,
           -0.2550198204639314,
           1,
           -0.24671394365836458,
           -0.0163280744353052,
           0.005867431226272854,
           -0.003763047530021663,
           -0.0037195620020207347,
           0.001544444592279378,
           -0.004195118447765886,
           0.005598518926847686,
           -0.011054806675251255,
           0.0174484318138691,
           -0.00180211277823503,
           -0.008691963782878667,
           -0.0026180788121008603,
           0.022195035788340457
          ],
          [
           -0.001276456670697924,
           -0.017469167382642283,
           -0.0005127955747530576,
           -0.006972216830365657,
           0.003239392803663597,
           0.012302699882574512,
           0.001225057314695254,
           0.0028813855357953944,
           -0.004119473779622905,
           0.008743276260383445,
           -0.019648713091842625,
           -0.005125611635022475,
           0.013876610329341142,
           0.016342195517981817,
           0.020233851734522343,
           -0.0004358621326017253,
           -0.2407635604923546,
           -0.24625723432187865,
           -0.24671394365836458,
           1,
           0.013867237893120317,
           -0.024319557697364047,
           0.004029505367070857,
           -0.004608770849519934,
           -0.005004593944052013,
           0.01009628847174429,
           0.017477927497853117,
           0.010790496815980535,
           -0.014181057781840303,
           0.00992586359522326,
           -0.008286445868246492,
           0.012242559382403099,
           -0.00667141047339201
          ],
          [
           0.004459193612943431,
           -0.011652322864032814,
           0.004367594036923529,
           0.010302866691704346,
           0.006556998497314157,
           0.014705783270138469,
           0.02141524750214424,
           0.004316722190525142,
           -0.013635913710040514,
           0.0009733925430481796,
           0.008238952222309161,
           0.01395530169698402,
           0.02289913073484879,
           -0.005136138464999897,
           0.007580126563530666,
           -0.0012743979010510708,
           -0.009188812864846893,
           -0.021662202144267336,
           -0.0163280744353052,
           0.013867237893120317,
           1,
           -0.1109871737554452,
           -0.11270269906217112,
           -0.11055581942025411,
           -0.11135610786050797,
           -0.10919345932274062,
           -0.10838353889898303,
           -0.10956603120331702,
           -0.11098717375544484,
           0.009521965880165363,
           -0.023156968426179893,
           0.011446641244483913,
           -0.0008155402473347257
          ],
          [
           -0.012035260959492188,
           0.01958544604103194,
           0.005579273498722597,
           -0.013494781084997342,
           -0.009643895864790787,
           0.007951171957335912,
           1.055007620931773e-05,
           0.005233562230263607,
           0.009634340050857235,
           -0.01186978579030406,
           0.009643025542080836,
           0.008699629130497688,
           0.00886338678514898,
           -0.018079208253462042,
           0.00318247673615239,
           0.004415894420011017,
           0.006638780475219621,
           0.007199881409483716,
           0.005867431226272854,
           -0.024319557697364047,
           -0.1109871737554452,
           1,
           -0.11307933795970058,
           -0.11092528370361544,
           -0.11172824661181352,
           -0.10955837076212005,
           -0.10874574368148608,
           -0.10993218773321817,
           -0.11135807957323829,
           0.0003084994854331513,
           0.0070235115348262775,
           -0.020437811288473648,
           0.011155235657212255
          ],
          [
           0.0025085084315885297,
           0.0037300230186423145,
           0.007128414629076275,
           0.0036681126115309195,
           -0.0006559304187996213,
           -0.0057921444512363755,
           -0.02564017375435342,
           -0.00046894853221798963,
           0.007753160013698667,
           0.015406083332064195,
           -0.009998899406252275,
           -0.014901257564523703,
           -0.00631743948693767,
           -0.0025166249515869584,
           -0.028285481530778683,
           0.00977975795175042,
           0.011965117073608046,
           -0.01635066236111035,
           -0.003763047530021663,
           0.004029505367070857,
           -0.11270269906217112,
           -0.11307933795970058,
           1,
           -0.11263985237772749,
           -0.11345522665872475,
           -0.111251811105238,
           -0.11042662327299085,
           -0.11163140615367897,
           -0.1130793379597002,
           0.014771595746851118,
           -0.015658637794984588,
           0.0216121614036261,
           -0.024783415929264415
          ],
          [
           -0.017361407864766313,
           0.0017055225181453993,
           0.000692978923650163,
           -0.006181651180323098,
           -0.001756785279260565,
           0.014791262990621513,
           0.005466935879982595,
           -0.0035737925594688793,
           0.02250873494614143,
           -0.00528522604692321,
           0.00035965638642967583,
           -0.0038574677259243587,
           0.009877870347110459,
           0.003041754054812715,
           -0.004942554342988381,
           -0.01188621011745717,
           -0.01408047763331471,
           0.010063630142260669,
           -0.0037195620020207347,
           -0.004608770849519934,
           -0.11055581942025411,
           -0.11092528370361544,
           -0.11263985237772749,
           1,
           -0.11129401207904283,
           -0.10913256950432032,
           -0.10832310071848968,
           -0.10950493362671955,
           -0.11092528370361565,
           -0.0030084258139901243,
           0.005921854314357681,
           -0.019570022907645496,
           0.005785216512877203
          ],
          [
           0.02433286783843384,
           -0.0017908007095206,
           0.00312944704358533,
           0.003691272461976948,
           -0.002481634327468135,
           -0.022485217852427547,
           -0.0010433526694795855,
           -0.016951797002396202,
           0.011031066862266698,
           -0.0017215464467261077,
           0.012142876636878358,
           0.007435977491781132,
           -0.0011118154552229528,
           0.022389037275921113,
           -0.014933037612225865,
           0.019339714296055084,
           0.0031264966812556295,
           0.013608712114728508,
           0.001544444592279378,
           -0.005004593944052013,
           -0.11135610786050797,
           -0.11172824661181352,
           -0.11345522665872475,
           -0.11129401207904283,
           1,
           -0.10992255536202968,
           -0.10910722701570383,
           -0.1102976149436483,
           -0.11172824661181396,
           -0.0018023624115128573,
           0.008362187361544421,
           -0.0034195533607382735,
           0.02095373390855795
          ],
          [
           -0.008814898985153589,
           -0.003528973550365991,
           -0.00673259206448355,
           -0.009386996602755226,
           -0.006309437748415933,
           0.0015434740509229087,
           -0.01398403927865958,
           -0.0029658359680397872,
           -0.004490015152055006,
           0.00622069427711007,
           -7.84021107625994e-05,
           -0.0015213033261639037,
           -0.006943664066990688,
           -0.01721171367773856,
           0.004401655001823643,
           -0.010812862149068281,
           0.0013470855274146203,
           0.0030022799020372826,
           -0.004195118447765886,
           0.01009628847174429,
           -0.10919345932274062,
           -0.10955837076212005,
           -0.111251811105238,
           -0.10913256950432032,
           -0.10992255536202968,
           1,
           -0.10698825402446947,
           -0.10815552341171428,
           -0.10955837076212004,
           -0.005688488533647107,
           -0.004285816536012295,
           0.0005132863184571725,
           0.016842398867284267
          ],
          [
           -0.004729591779555066,
           -0.0028409268869196503,
           0.0015240611825950395,
           0.014031867634422292,
           -0.012434655778077192,
           -0.007781389705093634,
           0.009697124425541657,
           0.007023427502217937,
           -0.009863868906318199,
           -0.004673694174832235,
           0.004931215066378141,
           -0.008099300193630827,
           0.008940039567112474,
           0.0013463608540059359,
           0.004791017357528851,
           0.0055494842758956765,
           -0.0050241404078432625,
           -0.003193992322604859,
           0.005598518926847686,
           0.017477927497853117,
           -0.10838353889898303,
           -0.10874574368148608,
           -0.11042662327299085,
           -0.10832310071848968,
           -0.10910722701570383,
           -0.10698825402446947,
           1,
           -0.10735330166787845,
           -0.10874574368148565,
           -0.001170689790893765,
           -0.006125467164977875,
           -0.00360324372387618,
           -0.005057545860211337
          ],
          [
           -0.0015013119494939157,
           0.008460946792870934,
           -0.008769606329931323,
           -0.009410124113929108,
           -0.00248890086734874,
           0.007651908582376468,
           -0.009919624730018521,
           0.01749263981125744,
           -0.019751653649034827,
           0.00774407600725325,
           -0.01737398632346372,
           0.009191847380879905,
           -0.011622391527268601,
           0.010985136640469484,
           0.0045321686048319315,
           -0.009160018297785113,
           -0.013223040794724753,
           0.008669246796907995,
           -0.011054806675251255,
           0.010790496815980535,
           -0.10956603120331702,
           -0.10993218773321817,
           -0.11163140615367897,
           -0.10950493362671955,
           -0.1102976149436483,
           -0.10815552341171428,
           -0.10735330166787845,
           1,
           -0.10993218773321807,
           0.001479129896283153,
           0.009148788680648461,
           0.007680507002351194,
           -0.011703031768614635
          ],
          [
           0.0008889071777770981,
           0.01326494188006172,
           -0.006229660731571706,
           -0.011646489730845241,
           0.012702036560754628,
           -0.011813044101356304,
           0.00030055305069093843,
           0.00684928665523701,
           -0.002408992352194973,
           0.007523176507328111,
           -0.0033001338141769474,
           -0.010325866911093093,
           -0.016448014912930218,
           -0.0004510276154496445,
           0.007057822772668314,
           -0.0035655120374925233,
           0.011675409316141866,
           -0.0035657391563289217,
           0.0174484318138691,
           -0.014181057781840303,
           -0.11098717375544484,
           -0.11135807957323829,
           -0.1130793379597002,
           -0.11092528370361565,
           -0.11172824661181396,
           -0.10955837076212004,
           -0.10874574368148565,
           -0.10993218773321807,
           1,
           -0.0025204733291761274,
           0.010530567846781327,
           0.0050559866625267255,
           -0.0029412269158745714
          ],
          [
           -0.0012755657018465464,
           0.012435477948188747,
           0.002420833150879145,
           0.012859046353240014,
           0.014090325880911449,
           -0.0007179685009805265,
           -0.011270146608106024,
           0.001778878601796862,
           -0.007561538545675003,
           -0.009853856899907554,
           0.0034857814209123795,
           -0.0018987007804110829,
           -0.0032055806358655793,
           -0.0017840838627934876,
           -0.004636874498296175,
           0.008577154462232478,
           -0.01152340769811004,
           -0.003920852609675072,
           -0.00180211277823503,
           0.00992586359522326,
           0.009521965880165363,
           0.0003084994854331513,
           0.014771595746851118,
           -0.0030084258139901243,
           -0.0018023624115128573,
           -0.005688488533647107,
           -0.001170689790893765,
           0.001479129896283153,
           -0.0025204733291761274,
           1,
           -0.5096080549311006,
           0.023962521819792266,
           -0.003974539524908693
          ],
          [
           -0.005732529710296182,
           -0.019175104740026226,
           -0.002728839464880417,
           -0.02674189890520652,
           -0.0022609598237542127,
           0.006920393299263957,
           0.009312185791106757,
           -0.009633211953663007,
           0.012678538642319437,
           0.012179607649596066,
           0.004489119772914481,
           0.003373649842870947,
           0.006246373963951501,
           0.00013771332060092957,
           0.01330084953377395,
           0.0033663892426290484,
           0.014949858943705688,
           0.004422275716370827,
           -0.008691963782878667,
           -0.008286445868246492,
           -0.023156968426179893,
           0.0070235115348262775,
           -0.015658637794984588,
           0.005921854314357681,
           0.008362187361544421,
           -0.004285816536012295,
           -0.006125467164977875,
           0.009148788680648461,
           0.010530567846781327,
           -0.5096080549311006,
           1,
           -0.01279761497301945,
           -0.007222744087039857
          ],
          [
           0.0011560878558805868,
           0.02208529221862385,
           0.0037208364018992035,
           0.0027444031588482014,
           0.010121162035963973,
           0.013845716712224787,
           -0.0028898991041706973,
           0.007801972322568671,
           0.02815095359166412,
           -0.010637400078097181,
           -0.005597891527434195,
           -0.0007767117398930055,
           -0.012802473869242156,
           -0.0032713358509469967,
           0.005346291279307067,
           -0.0022988723826438697,
           0.008467457981773535,
           -0.017435596355185698,
           -0.0026180788121008603,
           0.012242559382403099,
           0.011446641244483913,
           -0.020437811288473648,
           0.0216121614036261,
           -0.019570022907645496,
           -0.0034195533607382735,
           0.0005132863184571725,
           -0.00360324372387618,
           0.007680507002351194,
           0.0050559866625267255,
           0.023962521819792266,
           -0.01279761497301945,
           1,
           -0.5000207573204398
          ],
          [
           0.0027366431221945253,
           -0.009946706339056099,
           0.00656113150296657,
           0.0013155698685881078,
           -0.00506097354120682,
           0.013031929409879186,
           -0.009684317001329436,
           -0.0026272361186014306,
           -0.01193960958730077,
           0.005062494096912059,
           -0.008476075074321989,
           0.0027222619323330546,
           -0.0048234728948745925,
           -0.012650078207965194,
           -0.002544209413369583,
           -0.011521437797325614,
           -0.011485149969357593,
           0.0022320763472127294,
           0.022195035788340457,
           -0.00667141047339201,
           -0.0008155402473347257,
           0.011155235657212255,
           -0.024783415929264415,
           0.005785216512877203,
           0.02095373390855795,
           0.016842398867284267,
           -0.005057545860211337,
           -0.011703031768614635,
           -0.0029412269158745714,
           -0.003974539524908693,
           -0.007222744087039857,
           -0.5000207573204398,
           1
          ]
         ]
        }
       ],
       "layout": {
        "coloraxis": {
         "colorscale": [
          [
           0,
           "#0d0887"
          ],
          [
           0.1111111111111111,
           "#46039f"
          ],
          [
           0.2222222222222222,
           "#7201a8"
          ],
          [
           0.3333333333333333,
           "#9c179e"
          ],
          [
           0.4444444444444444,
           "#bd3786"
          ],
          [
           0.5555555555555556,
           "#d8576b"
          ],
          [
           0.6666666666666666,
           "#ed7953"
          ],
          [
           0.7777777777777778,
           "#fb9f3a"
          ],
          [
           0.8888888888888888,
           "#fdca26"
          ],
          [
           1,
           "#f0f921"
          ]
         ]
        },
        "height": 1000,
        "margin": {
         "t": 60
        },
        "template": {
         "data": {
          "bar": [
           {
            "error_x": {
             "color": "#2a3f5f"
            },
            "error_y": {
             "color": "#2a3f5f"
            },
            "marker": {
             "line": {
              "color": "#E5ECF6",
              "width": 0.5
             },
             "pattern": {
              "fillmode": "overlay",
              "size": 10,
              "solidity": 0.2
             }
            },
            "type": "bar"
           }
          ],
          "barpolar": [
           {
            "marker": {
             "line": {
              "color": "#E5ECF6",
              "width": 0.5
             },
             "pattern": {
              "fillmode": "overlay",
              "size": 10,
              "solidity": 0.2
             }
            },
            "type": "barpolar"
           }
          ],
          "carpet": [
           {
            "aaxis": {
             "endlinecolor": "#2a3f5f",
             "gridcolor": "white",
             "linecolor": "white",
             "minorgridcolor": "white",
             "startlinecolor": "#2a3f5f"
            },
            "baxis": {
             "endlinecolor": "#2a3f5f",
             "gridcolor": "white",
             "linecolor": "white",
             "minorgridcolor": "white",
             "startlinecolor": "#2a3f5f"
            },
            "type": "carpet"
           }
          ],
          "choropleth": [
           {
            "colorbar": {
             "outlinewidth": 0,
             "ticks": ""
            },
            "type": "choropleth"
           }
          ],
          "contour": [
           {
            "colorbar": {
             "outlinewidth": 0,
             "ticks": ""
            },
            "colorscale": [
             [
              0,
              "#0d0887"
             ],
             [
              0.1111111111111111,
              "#46039f"
             ],
             [
              0.2222222222222222,
              "#7201a8"
             ],
             [
              0.3333333333333333,
              "#9c179e"
             ],
             [
              0.4444444444444444,
              "#bd3786"
             ],
             [
              0.5555555555555556,
              "#d8576b"
             ],
             [
              0.6666666666666666,
              "#ed7953"
             ],
             [
              0.7777777777777778,
              "#fb9f3a"
             ],
             [
              0.8888888888888888,
              "#fdca26"
             ],
             [
              1,
              "#f0f921"
             ]
            ],
            "type": "contour"
           }
          ],
          "contourcarpet": [
           {
            "colorbar": {
             "outlinewidth": 0,
             "ticks": ""
            },
            "type": "contourcarpet"
           }
          ],
          "heatmap": [
           {
            "colorbar": {
             "outlinewidth": 0,
             "ticks": ""
            },
            "colorscale": [
             [
              0,
              "#0d0887"
             ],
             [
              0.1111111111111111,
              "#46039f"
             ],
             [
              0.2222222222222222,
              "#7201a8"
             ],
             [
              0.3333333333333333,
              "#9c179e"
             ],
             [
              0.4444444444444444,
              "#bd3786"
             ],
             [
              0.5555555555555556,
              "#d8576b"
             ],
             [
              0.6666666666666666,
              "#ed7953"
             ],
             [
              0.7777777777777778,
              "#fb9f3a"
             ],
             [
              0.8888888888888888,
              "#fdca26"
             ],
             [
              1,
              "#f0f921"
             ]
            ],
            "type": "heatmap"
           }
          ],
          "heatmapgl": [
           {
            "colorbar": {
             "outlinewidth": 0,
             "ticks": ""
            },
            "colorscale": [
             [
              0,
              "#0d0887"
             ],
             [
              0.1111111111111111,
              "#46039f"
             ],
             [
              0.2222222222222222,
              "#7201a8"
             ],
             [
              0.3333333333333333,
              "#9c179e"
             ],
             [
              0.4444444444444444,
              "#bd3786"
             ],
             [
              0.5555555555555556,
              "#d8576b"
             ],
             [
              0.6666666666666666,
              "#ed7953"
             ],
             [
              0.7777777777777778,
              "#fb9f3a"
             ],
             [
              0.8888888888888888,
              "#fdca26"
             ],
             [
              1,
              "#f0f921"
             ]
            ],
            "type": "heatmapgl"
           }
          ],
          "histogram": [
           {
            "marker": {
             "pattern": {
              "fillmode": "overlay",
              "size": 10,
              "solidity": 0.2
             }
            },
            "type": "histogram"
           }
          ],
          "histogram2d": [
           {
            "colorbar": {
             "outlinewidth": 0,
             "ticks": ""
            },
            "colorscale": [
             [
              0,
              "#0d0887"
             ],
             [
              0.1111111111111111,
              "#46039f"
             ],
             [
              0.2222222222222222,
              "#7201a8"
             ],
             [
              0.3333333333333333,
              "#9c179e"
             ],
             [
              0.4444444444444444,
              "#bd3786"
             ],
             [
              0.5555555555555556,
              "#d8576b"
             ],
             [
              0.6666666666666666,
              "#ed7953"
             ],
             [
              0.7777777777777778,
              "#fb9f3a"
             ],
             [
              0.8888888888888888,
              "#fdca26"
             ],
             [
              1,
              "#f0f921"
             ]
            ],
            "type": "histogram2d"
           }
          ],
          "histogram2dcontour": [
           {
            "colorbar": {
             "outlinewidth": 0,
             "ticks": ""
            },
            "colorscale": [
             [
              0,
              "#0d0887"
             ],
             [
              0.1111111111111111,
              "#46039f"
             ],
             [
              0.2222222222222222,
              "#7201a8"
             ],
             [
              0.3333333333333333,
              "#9c179e"
             ],
             [
              0.4444444444444444,
              "#bd3786"
             ],
             [
              0.5555555555555556,
              "#d8576b"
             ],
             [
              0.6666666666666666,
              "#ed7953"
             ],
             [
              0.7777777777777778,
              "#fb9f3a"
             ],
             [
              0.8888888888888888,
              "#fdca26"
             ],
             [
              1,
              "#f0f921"
             ]
            ],
            "type": "histogram2dcontour"
           }
          ],
          "mesh3d": [
           {
            "colorbar": {
             "outlinewidth": 0,
             "ticks": ""
            },
            "type": "mesh3d"
           }
          ],
          "parcoords": [
           {
            "line": {
             "colorbar": {
              "outlinewidth": 0,
              "ticks": ""
             }
            },
            "type": "parcoords"
           }
          ],
          "pie": [
           {
            "automargin": true,
            "type": "pie"
           }
          ],
          "scatter": [
           {
            "fillpattern": {
             "fillmode": "overlay",
             "size": 10,
             "solidity": 0.2
            },
            "type": "scatter"
           }
          ],
          "scatter3d": [
           {
            "line": {
             "colorbar": {
              "outlinewidth": 0,
              "ticks": ""
             }
            },
            "marker": {
             "colorbar": {
              "outlinewidth": 0,
              "ticks": ""
             }
            },
            "type": "scatter3d"
           }
          ],
          "scattercarpet": [
           {
            "marker": {
             "colorbar": {
              "outlinewidth": 0,
              "ticks": ""
             }
            },
            "type": "scattercarpet"
           }
          ],
          "scattergeo": [
           {
            "marker": {
             "colorbar": {
              "outlinewidth": 0,
              "ticks": ""
             }
            },
            "type": "scattergeo"
           }
          ],
          "scattergl": [
           {
            "marker": {
             "colorbar": {
              "outlinewidth": 0,
              "ticks": ""
             }
            },
            "type": "scattergl"
           }
          ],
          "scattermapbox": [
           {
            "marker": {
             "colorbar": {
              "outlinewidth": 0,
              "ticks": ""
             }
            },
            "type": "scattermapbox"
           }
          ],
          "scatterpolar": [
           {
            "marker": {
             "colorbar": {
              "outlinewidth": 0,
              "ticks": ""
             }
            },
            "type": "scatterpolar"
           }
          ],
          "scatterpolargl": [
           {
            "marker": {
             "colorbar": {
              "outlinewidth": 0,
              "ticks": ""
             }
            },
            "type": "scatterpolargl"
           }
          ],
          "scatterternary": [
           {
            "marker": {
             "colorbar": {
              "outlinewidth": 0,
              "ticks": ""
             }
            },
            "type": "scatterternary"
           }
          ],
          "surface": [
           {
            "colorbar": {
             "outlinewidth": 0,
             "ticks": ""
            },
            "colorscale": [
             [
              0,
              "#0d0887"
             ],
             [
              0.1111111111111111,
              "#46039f"
             ],
             [
              0.2222222222222222,
              "#7201a8"
             ],
             [
              0.3333333333333333,
              "#9c179e"
             ],
             [
              0.4444444444444444,
              "#bd3786"
             ],
             [
              0.5555555555555556,
              "#d8576b"
             ],
             [
              0.6666666666666666,
              "#ed7953"
             ],
             [
              0.7777777777777778,
              "#fb9f3a"
             ],
             [
              0.8888888888888888,
              "#fdca26"
             ],
             [
              1,
              "#f0f921"
             ]
            ],
            "type": "surface"
           }
          ],
          "table": [
           {
            "cells": {
             "fill": {
              "color": "#EBF0F8"
             },
             "line": {
              "color": "white"
             }
            },
            "header": {
             "fill": {
              "color": "#C8D4E3"
             },
             "line": {
              "color": "white"
             }
            },
            "type": "table"
           }
          ]
         },
         "layout": {
          "annotationdefaults": {
           "arrowcolor": "#2a3f5f",
           "arrowhead": 0,
           "arrowwidth": 1
          },
          "autotypenumbers": "strict",
          "coloraxis": {
           "colorbar": {
            "outlinewidth": 0,
            "ticks": ""
           }
          },
          "colorscale": {
           "diverging": [
            [
             0,
             "#8e0152"
            ],
            [
             0.1,
             "#c51b7d"
            ],
            [
             0.2,
             "#de77ae"
            ],
            [
             0.3,
             "#f1b6da"
            ],
            [
             0.4,
             "#fde0ef"
            ],
            [
             0.5,
             "#f7f7f7"
            ],
            [
             0.6,
             "#e6f5d0"
            ],
            [
             0.7,
             "#b8e186"
            ],
            [
             0.8,
             "#7fbc41"
            ],
            [
             0.9,
             "#4d9221"
            ],
            [
             1,
             "#276419"
            ]
           ],
           "sequential": [
            [
             0,
             "#0d0887"
            ],
            [
             0.1111111111111111,
             "#46039f"
            ],
            [
             0.2222222222222222,
             "#7201a8"
            ],
            [
             0.3333333333333333,
             "#9c179e"
            ],
            [
             0.4444444444444444,
             "#bd3786"
            ],
            [
             0.5555555555555556,
             "#d8576b"
            ],
            [
             0.6666666666666666,
             "#ed7953"
            ],
            [
             0.7777777777777778,
             "#fb9f3a"
            ],
            [
             0.8888888888888888,
             "#fdca26"
            ],
            [
             1,
             "#f0f921"
            ]
           ],
           "sequentialminus": [
            [
             0,
             "#0d0887"
            ],
            [
             0.1111111111111111,
             "#46039f"
            ],
            [
             0.2222222222222222,
             "#7201a8"
            ],
            [
             0.3333333333333333,
             "#9c179e"
            ],
            [
             0.4444444444444444,
             "#bd3786"
            ],
            [
             0.5555555555555556,
             "#d8576b"
            ],
            [
             0.6666666666666666,
             "#ed7953"
            ],
            [
             0.7777777777777778,
             "#fb9f3a"
            ],
            [
             0.8888888888888888,
             "#fdca26"
            ],
            [
             1,
             "#f0f921"
            ]
           ]
          },
          "colorway": [
           "#636efa",
           "#EF553B",
           "#00cc96",
           "#ab63fa",
           "#FFA15A",
           "#19d3f3",
           "#FF6692",
           "#B6E880",
           "#FF97FF",
           "#FECB52"
          ],
          "font": {
           "color": "#2a3f5f"
          },
          "geo": {
           "bgcolor": "white",
           "lakecolor": "white",
           "landcolor": "#E5ECF6",
           "showlakes": true,
           "showland": true,
           "subunitcolor": "white"
          },
          "hoverlabel": {
           "align": "left"
          },
          "hovermode": "closest",
          "mapbox": {
           "style": "light"
          },
          "paper_bgcolor": "white",
          "plot_bgcolor": "#E5ECF6",
          "polar": {
           "angularaxis": {
            "gridcolor": "white",
            "linecolor": "white",
            "ticks": ""
           },
           "bgcolor": "#E5ECF6",
           "radialaxis": {
            "gridcolor": "white",
            "linecolor": "white",
            "ticks": ""
           }
          },
          "scene": {
           "xaxis": {
            "backgroundcolor": "#E5ECF6",
            "gridcolor": "white",
            "gridwidth": 2,
            "linecolor": "white",
            "showbackground": true,
            "ticks": "",
            "zerolinecolor": "white"
           },
           "yaxis": {
            "backgroundcolor": "#E5ECF6",
            "gridcolor": "white",
            "gridwidth": 2,
            "linecolor": "white",
            "showbackground": true,
            "ticks": "",
            "zerolinecolor": "white"
           },
           "zaxis": {
            "backgroundcolor": "#E5ECF6",
            "gridcolor": "white",
            "gridwidth": 2,
            "linecolor": "white",
            "showbackground": true,
            "ticks": "",
            "zerolinecolor": "white"
           }
          },
          "shapedefaults": {
           "line": {
            "color": "#2a3f5f"
           }
          },
          "ternary": {
           "aaxis": {
            "gridcolor": "white",
            "linecolor": "white",
            "ticks": ""
           },
           "baxis": {
            "gridcolor": "white",
            "linecolor": "white",
            "ticks": ""
           },
           "bgcolor": "#E5ECF6",
           "caxis": {
            "gridcolor": "white",
            "linecolor": "white",
            "ticks": ""
           }
          },
          "title": {
           "x": 0.05
          },
          "xaxis": {
           "automargin": true,
           "gridcolor": "white",
           "linecolor": "white",
           "ticks": "",
           "title": {
            "standoff": 15
           },
           "zerolinecolor": "white",
           "zerolinewidth": 2
          },
          "yaxis": {
           "automargin": true,
           "gridcolor": "white",
           "linecolor": "white",
           "ticks": "",
           "title": {
            "standoff": 15
           },
           "zerolinecolor": "white",
           "zerolinewidth": 2
          }
         }
        },
        "width": 1000,
        "xaxis": {
         "anchor": "y",
         "constrain": "domain",
         "domain": [
          0,
          1
         ],
         "scaleanchor": "y"
        },
        "yaxis": {
         "anchor": "x",
         "autorange": "reversed",
         "constrain": "domain",
         "domain": [
          0,
          1
         ]
        }
       }
      },
      "text/html": [
       "<div>                            <div id=\"065a46ac-2d6b-4645-ae76-162cf9c11225\" class=\"plotly-graph-div\" style=\"height:1000px; width:1000px;\"></div>            <script type=\"text/javascript\">                require([\"plotly\"], function(Plotly) {                    window.PLOTLYENV=window.PLOTLYENV || {};                                    if (document.getElementById(\"065a46ac-2d6b-4645-ae76-162cf9c11225\")) {                    Plotly.newPlot(                        \"065a46ac-2d6b-4645-ae76-162cf9c11225\",                        [{\"coloraxis\":\"coloraxis\",\"name\":\"0\",\"x\":[\"userID\",\"age\",\"gender\",\"total_play_time\",\"avg_session_time\",\"games_played\",\"in_game_purchases\",\"last_login\",\"friend_count\",\"churn\",\"max_level_achieved\",\"daily_play_time\",\"subscription_status\",\"number_of_sessions\",\"social_interactions\",\"achievement_points\",\"game_genre_Adventure\",\"game_genre_RPG\",\"game_genre_Simulation\",\"game_genre_Strategy\",\"country_Brazil\",\"country_Canada\",\"country_France\",\"country_Germany\",\"country_India\",\"country_Japan\",\"country_South Korea\",\"country_UK\",\"country_USA\",\"device_type_Mobile\",\"device_type_PC\",\"favorite_game_mode_Multiplayer\",\"favorite_game_mode_Single-player\"],\"y\":[\"userID\",\"age\",\"gender\",\"total_play_time\",\"avg_session_time\",\"games_played\",\"in_game_purchases\",\"last_login\",\"friend_count\",\"churn\",\"max_level_achieved\",\"daily_play_time\",\"subscription_status\",\"number_of_sessions\",\"social_interactions\",\"achievement_points\",\"game_genre_Adventure\",\"game_genre_RPG\",\"game_genre_Simulation\",\"game_genre_Strategy\",\"country_Brazil\",\"country_Canada\",\"country_France\",\"country_Germany\",\"country_India\",\"country_Japan\",\"country_South Korea\",\"country_UK\",\"country_USA\",\"device_type_Mobile\",\"device_type_PC\",\"favorite_game_mode_Multiplayer\",\"favorite_game_mode_Single-player\"],\"z\":[[1.0,-0.010794514088634037,-0.007621349334042458,-0.0030395388628607924,-0.0005249886597574831,-0.00539778672679207,-0.010506343764113885,0.009790744718460871,-0.004426014728545548,-0.003074422426991217,-0.0003382889763613001,-0.011280353629901103,-0.008521425281300307,-0.01427342303312768,0.006432155211318623,-0.027134914753804352,-0.00045722217566320574,0.0005537361098651838,-0.0013128010245286564,-0.001276456670697924,0.004459193612943431,-0.012035260959492188,0.0025085084315885297,-0.017361407864766313,0.02433286783843384,-0.008814898985153589,-0.004729591779555066,-0.0015013119494939157,0.0008889071777770981,-0.0012755657018465464,-0.005732529710296182,0.0011560878558805868,0.0027366431221945253],[-0.010794514088634037,1.0,0.017788576185556883,-0.021217029922703804,-0.02255703152290787,0.007102254561204604,0.003303756997546429,-0.0012555169734635298,0.017521309671274514,0.006252913247120458,-0.0032571103567700065,0.0061068389713371495,-0.0012147877078016757,-0.01141569477306065,-0.009198552408115077,-0.0016572885340117535,-0.011629684204771158,-0.00413224482893741,0.026775888330974846,-0.017469167382642283,-0.011652322864032814,0.01958544604103194,0.0037300230186423145,0.0017055225181453993,-0.0017908007095206,-0.003528973550365991,-0.0028409268869196503,0.008460946792870934,0.01326494188006172,0.012435477948188747,-0.019175104740026226,0.02208529221862385,-0.009946706339056099],[-0.007621349334042458,0.017788576185556883,1.0,0.005630902362049012,0.0013421852572903456,-7.523761949830682e-05,0.0022542202654782456,0.002942588836856878,-0.003147982575770985,-0.02447373054182481,0.003416781755732775,-0.013739896253137566,0.015033876413276064,0.0038032415270520853,-0.015540251846390138,-0.004641301517298766,-0.0011187516859953925,-0.003216588359526753,-0.001085878530708847,-0.0005127955747530576,0.004367594036923529,0.005579273498722597,0.007128414629076275,0.000692978923650163,0.00312944704358533,-0.00673259206448355,0.0015240611825950395,-0.008769606329931323,-0.006229660731571706,0.002420833150879145,-0.002728839464880417,0.0037208364018992035,0.00656113150296657],[-0.0030395388628607924,-0.021217029922703804,0.005630902362049012,1.0,0.007776750739711225,0.002840205088107724,-0.00158044933816565,-0.016092404598639167,0.0008233477285922862,0.007426469002166959,0.008863872142027588,-0.011320426841106764,0.01796719473541519,-0.0019068999218441718,0.010721796243923748,-0.016765061566652056,0.00810906361716907,0.0033276826688661827,-0.013217678458259727,-0.006972216830365657,0.010302866691704346,-0.013494781084997342,0.0036681126115309195,-0.006181651180323098,0.003691272461976948,-0.009386996602755226,0.014031867634422292,-0.009410124113929108,-0.011646489730845241,0.012859046353240014,-0.02674189890520652,0.0027444031588482014,0.0013155698685881078],[-0.0005249886597574831,-0.02255703152290787,0.0013421852572903456,0.007776750739711225,1.0,0.013442985419498973,-0.0031087526269208,0.0039871708090051874,0.001260605851681835,0.0026630530121816666,-0.004370747658709448,-0.006580125954681753,0.011176856635473293,0.004147271410638395,0.004777703131054876,0.0014531506454584188,0.0020869820379812464,0.006825511919434696,-0.010192528535564854,0.003239392803663597,0.006556998497314157,-0.009643895864790787,-0.0006559304187996213,-0.001756785279260565,-0.002481634327468135,-0.006309437748415933,-0.012434655778077192,-0.00248890086734874,0.012702036560754628,0.014090325880911449,-0.0022609598237542127,0.010121162035963973,-0.00506097354120682],[-0.00539778672679207,0.007102254561204604,-7.523761949830682e-05,0.002840205088107724,0.013442985419498973,1.0,0.010148013386990501,0.015861371800360815,-0.01982874760988878,-0.0018406484942380937,-0.018820976884976196,0.0024841973992720907,-0.013379202172875575,-0.009851390215147892,0.0006204924800661116,-0.01927794604109061,-0.01619654039412229,0.011711383059096463,-0.006923379601598346,0.012302699882574512,0.014705783270138469,0.007951171957335912,-0.0057921444512363755,0.014791262990621513,-0.022485217852427547,0.0015434740509229087,-0.007781389705093634,0.007651908582376468,-0.011813044101356304,-0.0007179685009805265,0.006920393299263957,0.013845716712224787,0.013031929409879186],[-0.010506343764113885,0.003303756997546429,0.0022542202654782456,-0.00158044933816565,-0.0031087526269208,0.010148013386990501,1.0,0.008749810447477769,0.008287909065119359,-0.009165776172782957,-0.011514423453342259,0.0017324863598321763,0.007895748995907542,-0.026267271138457393,0.0031700094242753988,-0.018763754994596676,0.003066962166293157,-0.004908773673474976,-0.007876844246765076,0.001225057314695254,0.02141524750214424,1.055007620931773e-05,-0.02564017375435342,0.005466935879982595,-0.0010433526694795855,-0.01398403927865958,0.009697124425541657,-0.009919624730018521,0.00030055305069093843,-0.011270146608106024,0.009312185791106757,-0.0028898991041706973,-0.009684317001329436],[0.009790744718460871,-0.0012555169734635298,0.002942588836856878,-0.016092404598639167,0.0039871708090051874,0.015861371800360815,0.008749810447477769,1.0,0.006342864403448323,0.003994372483412339,8.59173624780665e-05,0.0036356459001916992,-0.010147343222430466,-0.01974171230704098,-0.0009084030223221968,0.008364115363569052,-0.005894264331484428,0.013561145729970286,-0.007939734887148305,0.0028813855357953944,0.004316722190525142,0.005233562230263607,-0.00046894853221798963,-0.0035737925594688793,-0.016951797002396202,-0.0029658359680397872,0.007023427502217937,0.01749263981125744,0.00684928665523701,0.001778878601796862,-0.009633211953663007,0.007801972322568671,-0.0026272361186014306],[-0.004426014728545548,0.017521309671274514,-0.003147982575770985,0.0008233477285922862,0.001260605851681835,-0.01982874760988878,0.008287909065119359,0.006342864403448323,1.0,0.0006373094369416158,-0.005301923670504683,-0.015223764611437148,-0.010159810696917248,0.01864387688672466,0.011771302962992662,0.003781609462053995,0.0009806388060256404,-0.01714568365884648,0.00747528968273628,-0.004119473779622905,-0.013635913710040514,0.009634340050857235,0.007753160013698667,0.02250873494614143,0.011031066862266698,-0.004490015152055006,-0.009863868906318199,-0.019751653649034827,-0.002408992352194973,-0.007561538545675003,0.012678538642319437,0.02815095359166412,-0.01193960958730077],[-0.003074422426991217,0.006252913247120458,-0.02447373054182481,0.007426469002166959,0.0026630530121816666,-0.0018406484942380937,-0.009165776172782957,0.003994372483412339,0.0006373094369416158,1.0,0.022936171836855406,-0.011809347231754915,0.002512897738085332,-0.017702623228896968,0.018182664892993562,0.000850684388852041,-0.0072545610208898485,0.003821461948549743,-0.010580647123250379,0.008743276260383445,0.0009733925430481796,-0.01186978579030406,0.015406083332064195,-0.00528522604692321,-0.0017215464467261077,0.00622069427711007,-0.004673694174832235,0.00774407600725325,0.007523176507328111,-0.009853856899907554,0.012179607649596066,-0.010637400078097181,0.005062494096912059],[-0.0003382889763613001,-0.0032571103567700065,0.003416781755732775,0.008863872142027588,-0.004370747658709448,-0.018820976884976196,-0.011514423453342259,8.59173624780665e-05,-0.005301923670504683,0.022936171836855406,1.0,0.0034823215179054902,0.011683672328800966,-0.0022986298839253174,0.005547788890833315,0.017360559058993686,-0.004102056848433761,0.00941528767150456,0.0036761467680238437,-0.019648713091842625,0.008238952222309161,0.009643025542080836,-0.009998899406252275,0.00035965638642967583,0.012142876636878358,-7.84021107625994e-05,0.004931215066378141,-0.01737398632346372,-0.0033001338141769474,0.0034857814209123795,0.004489119772914481,-0.005597891527434195,-0.008476075074321989],[-0.011280353629901103,0.0061068389713371495,-0.013739896253137566,-0.011320426841106764,-0.006580125954681753,0.0024841973992720907,0.0017324863598321763,0.0036356459001916992,-0.015223764611437148,-0.011809347231754915,0.0034823215179054902,1.0,0.0033557874601420437,0.00211438545813079,-0.012567632552529379,-0.023101263915796047,0.0014951366725708599,-0.015538953545473452,0.021451359391769342,-0.005125611635022475,0.01395530169698402,0.008699629130497688,-0.014901257564523703,-0.0038574677259243587,0.007435977491781132,-0.0015213033261639037,-0.008099300193630827,0.009191847380879905,-0.010325866911093093,-0.0018987007804110829,0.003373649842870947,-0.0007767117398930055,0.0027222619323330546],[-0.008521425281300307,-0.0012147877078016757,0.015033876413276064,0.01796719473541519,0.011176856635473293,-0.013379202172875575,0.007895748995907542,-0.010147343222430466,-0.010159810696917248,0.002512897738085332,0.011683672328800966,0.0033557874601420437,1.0,0.0029581616995810484,-0.0073326934533381495,-0.004125544045042877,-0.008087062739523379,-0.0028866350323224566,0.00010705615281288084,0.013876610329341142,0.02289913073484879,0.00886338678514898,-0.00631743948693767,0.009877870347110459,-0.0011118154552229528,-0.006943664066990688,0.008940039567112474,-0.011622391527268601,-0.016448014912930218,-0.0032055806358655793,0.006246373963951501,-0.012802473869242156,-0.0048234728948745925],[-0.01427342303312768,-0.01141569477306065,0.0038032415270520853,-0.0019068999218441718,0.004147271410638395,-0.009851390215147892,-0.026267271138457393,-0.01974171230704098,0.01864387688672466,-0.017702623228896968,-0.0022986298839253174,0.00211438545813079,0.0029581616995810484,1.0,-0.002164554227262283,0.006519862729894035,0.010282493192775839,-0.001458954834851647,-0.01024307467586615,0.016342195517981817,-0.005136138464999897,-0.018079208253462042,-0.0025166249515869584,0.003041754054812715,0.022389037275921113,-0.01721171367773856,0.0013463608540059359,0.010985136640469484,-0.0004510276154496445,-0.0017840838627934876,0.00013771332060092957,-0.0032713358509469967,-0.012650078207965194],[0.006432155211318623,-0.009198552408115077,-0.015540251846390138,0.010721796243923748,0.004777703131054876,0.0006204924800661116,0.0031700094242753988,-0.0009084030223221968,0.011771302962992662,0.018182664892993562,0.005547788890833315,-0.012567632552529379,-0.0073326934533381495,-0.002164554227262283,1.0,0.017056383310657588,-0.007989438324110778,-0.008018536334277989,-0.01130037033860236,0.020233851734522343,0.007580126563530666,0.00318247673615239,-0.028285481530778683,-0.004942554342988381,-0.014933037612225865,0.004401655001823643,0.004791017357528851,0.0045321686048319315,0.007057822772668314,-0.004636874498296175,0.01330084953377395,0.005346291279307067,-0.002544209413369583],[-0.027134914753804352,-0.0016572885340117535,-0.004641301517298766,-0.016765061566652056,0.0014531506454584188,-0.01927794604109061,-0.018763754994596676,0.008364115363569052,0.003781609462053995,0.000850684388852041,0.017360559058993686,-0.023101263915796047,-0.004125544045042877,0.006519862729894035,0.017056383310657588,1.0,0.011347721037368674,-0.0008372901992605074,0.001672057504502148,-0.0004358621326017253,-0.0012743979010510708,0.004415894420011017,0.00977975795175042,-0.01188621011745717,0.019339714296055084,-0.010812862149068281,0.0055494842758956765,-0.009160018297785113,-0.0035655120374925233,0.008577154462232478,0.0033663892426290484,-0.0022988723826438697,-0.011521437797325614],[-0.00045722217566320574,-0.011629684204771158,-0.0011187516859953925,0.00810906361716907,0.0020869820379812464,-0.01619654039412229,0.003066962166293157,-0.005894264331484428,0.0009806388060256404,-0.0072545610208898485,-0.004102056848433761,0.0014951366725708599,-0.008087062739523379,0.010282493192775839,-0.007989438324110778,0.011347721037368674,1.0,-0.24886911157335828,-0.24933066490449932,-0.2407635604923546,-0.009188812864846893,0.006638780475219621,0.011965117073608046,-0.01408047763331471,0.0031264966812556295,0.0013470855274146203,-0.0050241404078432625,-0.013223040794724753,0.011675409316141866,-0.01152340769811004,0.014949858943705688,0.008467457981773535,-0.011485149969357593],[0.0005537361098651838,-0.00413224482893741,-0.003216588359526753,0.0033276826688661827,0.006825511919434696,0.011711383059096463,-0.004908773673474976,0.013561145729970286,-0.01714568365884648,0.003821461948549743,0.00941528767150456,-0.015538953545473452,-0.0028866350323224566,-0.001458954834851647,-0.008018536334277989,-0.0008372901992605074,-0.24886911157335828,1.0,-0.2550198204639314,-0.24625723432187865,-0.021662202144267336,0.007199881409483716,-0.01635066236111035,0.010063630142260669,0.013608712114728508,0.0030022799020372826,-0.003193992322604859,0.008669246796907995,-0.0035657391563289217,-0.003920852609675072,0.004422275716370827,-0.017435596355185698,0.0022320763472127294],[-0.0013128010245286564,0.026775888330974846,-0.001085878530708847,-0.013217678458259727,-0.010192528535564854,-0.006923379601598346,-0.007876844246765076,-0.007939734887148305,0.00747528968273628,-0.010580647123250379,0.0036761467680238437,0.021451359391769342,0.00010705615281288084,-0.01024307467586615,-0.01130037033860236,0.001672057504502148,-0.24933066490449932,-0.2550198204639314,1.0,-0.24671394365836458,-0.0163280744353052,0.005867431226272854,-0.003763047530021663,-0.0037195620020207347,0.001544444592279378,-0.004195118447765886,0.005598518926847686,-0.011054806675251255,0.0174484318138691,-0.00180211277823503,-0.008691963782878667,-0.0026180788121008603,0.022195035788340457],[-0.001276456670697924,-0.017469167382642283,-0.0005127955747530576,-0.006972216830365657,0.003239392803663597,0.012302699882574512,0.001225057314695254,0.0028813855357953944,-0.004119473779622905,0.008743276260383445,-0.019648713091842625,-0.005125611635022475,0.013876610329341142,0.016342195517981817,0.020233851734522343,-0.0004358621326017253,-0.2407635604923546,-0.24625723432187865,-0.24671394365836458,1.0,0.013867237893120317,-0.024319557697364047,0.004029505367070857,-0.004608770849519934,-0.005004593944052013,0.01009628847174429,0.017477927497853117,0.010790496815980535,-0.014181057781840303,0.00992586359522326,-0.008286445868246492,0.012242559382403099,-0.00667141047339201],[0.004459193612943431,-0.011652322864032814,0.004367594036923529,0.010302866691704346,0.006556998497314157,0.014705783270138469,0.02141524750214424,0.004316722190525142,-0.013635913710040514,0.0009733925430481796,0.008238952222309161,0.01395530169698402,0.02289913073484879,-0.005136138464999897,0.007580126563530666,-0.0012743979010510708,-0.009188812864846893,-0.021662202144267336,-0.0163280744353052,0.013867237893120317,1.0,-0.1109871737554452,-0.11270269906217112,-0.11055581942025411,-0.11135610786050797,-0.10919345932274062,-0.10838353889898303,-0.10956603120331702,-0.11098717375544484,0.009521965880165363,-0.023156968426179893,0.011446641244483913,-0.0008155402473347257],[-0.012035260959492188,0.01958544604103194,0.005579273498722597,-0.013494781084997342,-0.009643895864790787,0.007951171957335912,1.055007620931773e-05,0.005233562230263607,0.009634340050857235,-0.01186978579030406,0.009643025542080836,0.008699629130497688,0.00886338678514898,-0.018079208253462042,0.00318247673615239,0.004415894420011017,0.006638780475219621,0.007199881409483716,0.005867431226272854,-0.024319557697364047,-0.1109871737554452,1.0,-0.11307933795970058,-0.11092528370361544,-0.11172824661181352,-0.10955837076212005,-0.10874574368148608,-0.10993218773321817,-0.11135807957323829,0.0003084994854331513,0.0070235115348262775,-0.020437811288473648,0.011155235657212255],[0.0025085084315885297,0.0037300230186423145,0.007128414629076275,0.0036681126115309195,-0.0006559304187996213,-0.0057921444512363755,-0.02564017375435342,-0.00046894853221798963,0.007753160013698667,0.015406083332064195,-0.009998899406252275,-0.014901257564523703,-0.00631743948693767,-0.0025166249515869584,-0.028285481530778683,0.00977975795175042,0.011965117073608046,-0.01635066236111035,-0.003763047530021663,0.004029505367070857,-0.11270269906217112,-0.11307933795970058,1.0,-0.11263985237772749,-0.11345522665872475,-0.111251811105238,-0.11042662327299085,-0.11163140615367897,-0.1130793379597002,0.014771595746851118,-0.015658637794984588,0.0216121614036261,-0.024783415929264415],[-0.017361407864766313,0.0017055225181453993,0.000692978923650163,-0.006181651180323098,-0.001756785279260565,0.014791262990621513,0.005466935879982595,-0.0035737925594688793,0.02250873494614143,-0.00528522604692321,0.00035965638642967583,-0.0038574677259243587,0.009877870347110459,0.003041754054812715,-0.004942554342988381,-0.01188621011745717,-0.01408047763331471,0.010063630142260669,-0.0037195620020207347,-0.004608770849519934,-0.11055581942025411,-0.11092528370361544,-0.11263985237772749,1.0,-0.11129401207904283,-0.10913256950432032,-0.10832310071848968,-0.10950493362671955,-0.11092528370361565,-0.0030084258139901243,0.005921854314357681,-0.019570022907645496,0.005785216512877203],[0.02433286783843384,-0.0017908007095206,0.00312944704358533,0.003691272461976948,-0.002481634327468135,-0.022485217852427547,-0.0010433526694795855,-0.016951797002396202,0.011031066862266698,-0.0017215464467261077,0.012142876636878358,0.007435977491781132,-0.0011118154552229528,0.022389037275921113,-0.014933037612225865,0.019339714296055084,0.0031264966812556295,0.013608712114728508,0.001544444592279378,-0.005004593944052013,-0.11135610786050797,-0.11172824661181352,-0.11345522665872475,-0.11129401207904283,1.0,-0.10992255536202968,-0.10910722701570383,-0.1102976149436483,-0.11172824661181396,-0.0018023624115128573,0.008362187361544421,-0.0034195533607382735,0.02095373390855795],[-0.008814898985153589,-0.003528973550365991,-0.00673259206448355,-0.009386996602755226,-0.006309437748415933,0.0015434740509229087,-0.01398403927865958,-0.0029658359680397872,-0.004490015152055006,0.00622069427711007,-7.84021107625994e-05,-0.0015213033261639037,-0.006943664066990688,-0.01721171367773856,0.004401655001823643,-0.010812862149068281,0.0013470855274146203,0.0030022799020372826,-0.004195118447765886,0.01009628847174429,-0.10919345932274062,-0.10955837076212005,-0.111251811105238,-0.10913256950432032,-0.10992255536202968,1.0,-0.10698825402446947,-0.10815552341171428,-0.10955837076212004,-0.005688488533647107,-0.004285816536012295,0.0005132863184571725,0.016842398867284267],[-0.004729591779555066,-0.0028409268869196503,0.0015240611825950395,0.014031867634422292,-0.012434655778077192,-0.007781389705093634,0.009697124425541657,0.007023427502217937,-0.009863868906318199,-0.004673694174832235,0.004931215066378141,-0.008099300193630827,0.008940039567112474,0.0013463608540059359,0.004791017357528851,0.0055494842758956765,-0.0050241404078432625,-0.003193992322604859,0.005598518926847686,0.017477927497853117,-0.10838353889898303,-0.10874574368148608,-0.11042662327299085,-0.10832310071848968,-0.10910722701570383,-0.10698825402446947,1.0,-0.10735330166787845,-0.10874574368148565,-0.001170689790893765,-0.006125467164977875,-0.00360324372387618,-0.005057545860211337],[-0.0015013119494939157,0.008460946792870934,-0.008769606329931323,-0.009410124113929108,-0.00248890086734874,0.007651908582376468,-0.009919624730018521,0.01749263981125744,-0.019751653649034827,0.00774407600725325,-0.01737398632346372,0.009191847380879905,-0.011622391527268601,0.010985136640469484,0.0045321686048319315,-0.009160018297785113,-0.013223040794724753,0.008669246796907995,-0.011054806675251255,0.010790496815980535,-0.10956603120331702,-0.10993218773321817,-0.11163140615367897,-0.10950493362671955,-0.1102976149436483,-0.10815552341171428,-0.10735330166787845,1.0,-0.10993218773321807,0.001479129896283153,0.009148788680648461,0.007680507002351194,-0.011703031768614635],[0.0008889071777770981,0.01326494188006172,-0.006229660731571706,-0.011646489730845241,0.012702036560754628,-0.011813044101356304,0.00030055305069093843,0.00684928665523701,-0.002408992352194973,0.007523176507328111,-0.0033001338141769474,-0.010325866911093093,-0.016448014912930218,-0.0004510276154496445,0.007057822772668314,-0.0035655120374925233,0.011675409316141866,-0.0035657391563289217,0.0174484318138691,-0.014181057781840303,-0.11098717375544484,-0.11135807957323829,-0.1130793379597002,-0.11092528370361565,-0.11172824661181396,-0.10955837076212004,-0.10874574368148565,-0.10993218773321807,1.0,-0.0025204733291761274,0.010530567846781327,0.0050559866625267255,-0.0029412269158745714],[-0.0012755657018465464,0.012435477948188747,0.002420833150879145,0.012859046353240014,0.014090325880911449,-0.0007179685009805265,-0.011270146608106024,0.001778878601796862,-0.007561538545675003,-0.009853856899907554,0.0034857814209123795,-0.0018987007804110829,-0.0032055806358655793,-0.0017840838627934876,-0.004636874498296175,0.008577154462232478,-0.01152340769811004,-0.003920852609675072,-0.00180211277823503,0.00992586359522326,0.009521965880165363,0.0003084994854331513,0.014771595746851118,-0.0030084258139901243,-0.0018023624115128573,-0.005688488533647107,-0.001170689790893765,0.001479129896283153,-0.0025204733291761274,1.0,-0.5096080549311006,0.023962521819792266,-0.003974539524908693],[-0.005732529710296182,-0.019175104740026226,-0.002728839464880417,-0.02674189890520652,-0.0022609598237542127,0.006920393299263957,0.009312185791106757,-0.009633211953663007,0.012678538642319437,0.012179607649596066,0.004489119772914481,0.003373649842870947,0.006246373963951501,0.00013771332060092957,0.01330084953377395,0.0033663892426290484,0.014949858943705688,0.004422275716370827,-0.008691963782878667,-0.008286445868246492,-0.023156968426179893,0.0070235115348262775,-0.015658637794984588,0.005921854314357681,0.008362187361544421,-0.004285816536012295,-0.006125467164977875,0.009148788680648461,0.010530567846781327,-0.5096080549311006,1.0,-0.01279761497301945,-0.007222744087039857],[0.0011560878558805868,0.02208529221862385,0.0037208364018992035,0.0027444031588482014,0.010121162035963973,0.013845716712224787,-0.0028898991041706973,0.007801972322568671,0.02815095359166412,-0.010637400078097181,-0.005597891527434195,-0.0007767117398930055,-0.012802473869242156,-0.0032713358509469967,0.005346291279307067,-0.0022988723826438697,0.008467457981773535,-0.017435596355185698,-0.0026180788121008603,0.012242559382403099,0.011446641244483913,-0.020437811288473648,0.0216121614036261,-0.019570022907645496,-0.0034195533607382735,0.0005132863184571725,-0.00360324372387618,0.007680507002351194,0.0050559866625267255,0.023962521819792266,-0.01279761497301945,1.0,-0.5000207573204398],[0.0027366431221945253,-0.009946706339056099,0.00656113150296657,0.0013155698685881078,-0.00506097354120682,0.013031929409879186,-0.009684317001329436,-0.0026272361186014306,-0.01193960958730077,0.005062494096912059,-0.008476075074321989,0.0027222619323330546,-0.0048234728948745925,-0.012650078207965194,-0.002544209413369583,-0.011521437797325614,-0.011485149969357593,0.0022320763472127294,0.022195035788340457,-0.00667141047339201,-0.0008155402473347257,0.011155235657212255,-0.024783415929264415,0.005785216512877203,0.02095373390855795,0.016842398867284267,-0.005057545860211337,-0.011703031768614635,-0.0029412269158745714,-0.003974539524908693,-0.007222744087039857,-0.5000207573204398,1.0]],\"type\":\"heatmap\",\"xaxis\":\"x\",\"yaxis\":\"y\",\"hovertemplate\":\"x: %{x}<br>y: %{y}<br>color: %{z}<extra></extra>\"}],                        {\"template\":{\"data\":{\"histogram2dcontour\":[{\"type\":\"histogram2dcontour\",\"colorbar\":{\"outlinewidth\":0,\"ticks\":\"\"},\"colorscale\":[[0.0,\"#0d0887\"],[0.1111111111111111,\"#46039f\"],[0.2222222222222222,\"#7201a8\"],[0.3333333333333333,\"#9c179e\"],[0.4444444444444444,\"#bd3786\"],[0.5555555555555556,\"#d8576b\"],[0.6666666666666666,\"#ed7953\"],[0.7777777777777778,\"#fb9f3a\"],[0.8888888888888888,\"#fdca26\"],[1.0,\"#f0f921\"]]}],\"choropleth\":[{\"type\":\"choropleth\",\"colorbar\":{\"outlinewidth\":0,\"ticks\":\"\"}}],\"histogram2d\":[{\"type\":\"histogram2d\",\"colorbar\":{\"outlinewidth\":0,\"ticks\":\"\"},\"colorscale\":[[0.0,\"#0d0887\"],[0.1111111111111111,\"#46039f\"],[0.2222222222222222,\"#7201a8\"],[0.3333333333333333,\"#9c179e\"],[0.4444444444444444,\"#bd3786\"],[0.5555555555555556,\"#d8576b\"],[0.6666666666666666,\"#ed7953\"],[0.7777777777777778,\"#fb9f3a\"],[0.8888888888888888,\"#fdca26\"],[1.0,\"#f0f921\"]]}],\"heatmap\":[{\"type\":\"heatmap\",\"colorbar\":{\"outlinewidth\":0,\"ticks\":\"\"},\"colorscale\":[[0.0,\"#0d0887\"],[0.1111111111111111,\"#46039f\"],[0.2222222222222222,\"#7201a8\"],[0.3333333333333333,\"#9c179e\"],[0.4444444444444444,\"#bd3786\"],[0.5555555555555556,\"#d8576b\"],[0.6666666666666666,\"#ed7953\"],[0.7777777777777778,\"#fb9f3a\"],[0.8888888888888888,\"#fdca26\"],[1.0,\"#f0f921\"]]}],\"heatmapgl\":[{\"type\":\"heatmapgl\",\"colorbar\":{\"outlinewidth\":0,\"ticks\":\"\"},\"colorscale\":[[0.0,\"#0d0887\"],[0.1111111111111111,\"#46039f\"],[0.2222222222222222,\"#7201a8\"],[0.3333333333333333,\"#9c179e\"],[0.4444444444444444,\"#bd3786\"],[0.5555555555555556,\"#d8576b\"],[0.6666666666666666,\"#ed7953\"],[0.7777777777777778,\"#fb9f3a\"],[0.8888888888888888,\"#fdca26\"],[1.0,\"#f0f921\"]]}],\"contourcarpet\":[{\"type\":\"contourcarpet\",\"colorbar\":{\"outlinewidth\":0,\"ticks\":\"\"}}],\"contour\":[{\"type\":\"contour\",\"colorbar\":{\"outlinewidth\":0,\"ticks\":\"\"},\"colorscale\":[[0.0,\"#0d0887\"],[0.1111111111111111,\"#46039f\"],[0.2222222222222222,\"#7201a8\"],[0.3333333333333333,\"#9c179e\"],[0.4444444444444444,\"#bd3786\"],[0.5555555555555556,\"#d8576b\"],[0.6666666666666666,\"#ed7953\"],[0.7777777777777778,\"#fb9f3a\"],[0.8888888888888888,\"#fdca26\"],[1.0,\"#f0f921\"]]}],\"surface\":[{\"type\":\"surface\",\"colorbar\":{\"outlinewidth\":0,\"ticks\":\"\"},\"colorscale\":[[0.0,\"#0d0887\"],[0.1111111111111111,\"#46039f\"],[0.2222222222222222,\"#7201a8\"],[0.3333333333333333,\"#9c179e\"],[0.4444444444444444,\"#bd3786\"],[0.5555555555555556,\"#d8576b\"],[0.6666666666666666,\"#ed7953\"],[0.7777777777777778,\"#fb9f3a\"],[0.8888888888888888,\"#fdca26\"],[1.0,\"#f0f921\"]]}],\"mesh3d\":[{\"type\":\"mesh3d\",\"colorbar\":{\"outlinewidth\":0,\"ticks\":\"\"}}],\"scatter\":[{\"fillpattern\":{\"fillmode\":\"overlay\",\"size\":10,\"solidity\":0.2},\"type\":\"scatter\"}],\"parcoords\":[{\"type\":\"parcoords\",\"line\":{\"colorbar\":{\"outlinewidth\":0,\"ticks\":\"\"}}}],\"scatterpolargl\":[{\"type\":\"scatterpolargl\",\"marker\":{\"colorbar\":{\"outlinewidth\":0,\"ticks\":\"\"}}}],\"bar\":[{\"error_x\":{\"color\":\"#2a3f5f\"},\"error_y\":{\"color\":\"#2a3f5f\"},\"marker\":{\"line\":{\"color\":\"#E5ECF6\",\"width\":0.5},\"pattern\":{\"fillmode\":\"overlay\",\"size\":10,\"solidity\":0.2}},\"type\":\"bar\"}],\"scattergeo\":[{\"type\":\"scattergeo\",\"marker\":{\"colorbar\":{\"outlinewidth\":0,\"ticks\":\"\"}}}],\"scatterpolar\":[{\"type\":\"scatterpolar\",\"marker\":{\"colorbar\":{\"outlinewidth\":0,\"ticks\":\"\"}}}],\"histogram\":[{\"marker\":{\"pattern\":{\"fillmode\":\"overlay\",\"size\":10,\"solidity\":0.2}},\"type\":\"histogram\"}],\"scattergl\":[{\"type\":\"scattergl\",\"marker\":{\"colorbar\":{\"outlinewidth\":0,\"ticks\":\"\"}}}],\"scatter3d\":[{\"type\":\"scatter3d\",\"line\":{\"colorbar\":{\"outlinewidth\":0,\"ticks\":\"\"}},\"marker\":{\"colorbar\":{\"outlinewidth\":0,\"ticks\":\"\"}}}],\"scattermapbox\":[{\"type\":\"scattermapbox\",\"marker\":{\"colorbar\":{\"outlinewidth\":0,\"ticks\":\"\"}}}],\"scatterternary\":[{\"type\":\"scatterternary\",\"marker\":{\"colorbar\":{\"outlinewidth\":0,\"ticks\":\"\"}}}],\"scattercarpet\":[{\"type\":\"scattercarpet\",\"marker\":{\"colorbar\":{\"outlinewidth\":0,\"ticks\":\"\"}}}],\"carpet\":[{\"aaxis\":{\"endlinecolor\":\"#2a3f5f\",\"gridcolor\":\"white\",\"linecolor\":\"white\",\"minorgridcolor\":\"white\",\"startlinecolor\":\"#2a3f5f\"},\"baxis\":{\"endlinecolor\":\"#2a3f5f\",\"gridcolor\":\"white\",\"linecolor\":\"white\",\"minorgridcolor\":\"white\",\"startlinecolor\":\"#2a3f5f\"},\"type\":\"carpet\"}],\"table\":[{\"cells\":{\"fill\":{\"color\":\"#EBF0F8\"},\"line\":{\"color\":\"white\"}},\"header\":{\"fill\":{\"color\":\"#C8D4E3\"},\"line\":{\"color\":\"white\"}},\"type\":\"table\"}],\"barpolar\":[{\"marker\":{\"line\":{\"color\":\"#E5ECF6\",\"width\":0.5},\"pattern\":{\"fillmode\":\"overlay\",\"size\":10,\"solidity\":0.2}},\"type\":\"barpolar\"}],\"pie\":[{\"automargin\":true,\"type\":\"pie\"}]},\"layout\":{\"autotypenumbers\":\"strict\",\"colorway\":[\"#636efa\",\"#EF553B\",\"#00cc96\",\"#ab63fa\",\"#FFA15A\",\"#19d3f3\",\"#FF6692\",\"#B6E880\",\"#FF97FF\",\"#FECB52\"],\"font\":{\"color\":\"#2a3f5f\"},\"hovermode\":\"closest\",\"hoverlabel\":{\"align\":\"left\"},\"paper_bgcolor\":\"white\",\"plot_bgcolor\":\"#E5ECF6\",\"polar\":{\"bgcolor\":\"#E5ECF6\",\"angularaxis\":{\"gridcolor\":\"white\",\"linecolor\":\"white\",\"ticks\":\"\"},\"radialaxis\":{\"gridcolor\":\"white\",\"linecolor\":\"white\",\"ticks\":\"\"}},\"ternary\":{\"bgcolor\":\"#E5ECF6\",\"aaxis\":{\"gridcolor\":\"white\",\"linecolor\":\"white\",\"ticks\":\"\"},\"baxis\":{\"gridcolor\":\"white\",\"linecolor\":\"white\",\"ticks\":\"\"},\"caxis\":{\"gridcolor\":\"white\",\"linecolor\":\"white\",\"ticks\":\"\"}},\"coloraxis\":{\"colorbar\":{\"outlinewidth\":0,\"ticks\":\"\"}},\"colorscale\":{\"sequential\":[[0.0,\"#0d0887\"],[0.1111111111111111,\"#46039f\"],[0.2222222222222222,\"#7201a8\"],[0.3333333333333333,\"#9c179e\"],[0.4444444444444444,\"#bd3786\"],[0.5555555555555556,\"#d8576b\"],[0.6666666666666666,\"#ed7953\"],[0.7777777777777778,\"#fb9f3a\"],[0.8888888888888888,\"#fdca26\"],[1.0,\"#f0f921\"]],\"sequentialminus\":[[0.0,\"#0d0887\"],[0.1111111111111111,\"#46039f\"],[0.2222222222222222,\"#7201a8\"],[0.3333333333333333,\"#9c179e\"],[0.4444444444444444,\"#bd3786\"],[0.5555555555555556,\"#d8576b\"],[0.6666666666666666,\"#ed7953\"],[0.7777777777777778,\"#fb9f3a\"],[0.8888888888888888,\"#fdca26\"],[1.0,\"#f0f921\"]],\"diverging\":[[0,\"#8e0152\"],[0.1,\"#c51b7d\"],[0.2,\"#de77ae\"],[0.3,\"#f1b6da\"],[0.4,\"#fde0ef\"],[0.5,\"#f7f7f7\"],[0.6,\"#e6f5d0\"],[0.7,\"#b8e186\"],[0.8,\"#7fbc41\"],[0.9,\"#4d9221\"],[1,\"#276419\"]]},\"xaxis\":{\"gridcolor\":\"white\",\"linecolor\":\"white\",\"ticks\":\"\",\"title\":{\"standoff\":15},\"zerolinecolor\":\"white\",\"automargin\":true,\"zerolinewidth\":2},\"yaxis\":{\"gridcolor\":\"white\",\"linecolor\":\"white\",\"ticks\":\"\",\"title\":{\"standoff\":15},\"zerolinecolor\":\"white\",\"automargin\":true,\"zerolinewidth\":2},\"scene\":{\"xaxis\":{\"backgroundcolor\":\"#E5ECF6\",\"gridcolor\":\"white\",\"linecolor\":\"white\",\"showbackground\":true,\"ticks\":\"\",\"zerolinecolor\":\"white\",\"gridwidth\":2},\"yaxis\":{\"backgroundcolor\":\"#E5ECF6\",\"gridcolor\":\"white\",\"linecolor\":\"white\",\"showbackground\":true,\"ticks\":\"\",\"zerolinecolor\":\"white\",\"gridwidth\":2},\"zaxis\":{\"backgroundcolor\":\"#E5ECF6\",\"gridcolor\":\"white\",\"linecolor\":\"white\",\"showbackground\":true,\"ticks\":\"\",\"zerolinecolor\":\"white\",\"gridwidth\":2}},\"shapedefaults\":{\"line\":{\"color\":\"#2a3f5f\"}},\"annotationdefaults\":{\"arrowcolor\":\"#2a3f5f\",\"arrowhead\":0,\"arrowwidth\":1},\"geo\":{\"bgcolor\":\"white\",\"landcolor\":\"#E5ECF6\",\"subunitcolor\":\"white\",\"showland\":true,\"showlakes\":true,\"lakecolor\":\"white\"},\"title\":{\"x\":0.05},\"mapbox\":{\"style\":\"light\"}}},\"xaxis\":{\"anchor\":\"y\",\"domain\":[0.0,1.0],\"scaleanchor\":\"y\",\"constrain\":\"domain\"},\"yaxis\":{\"anchor\":\"x\",\"domain\":[0.0,1.0],\"autorange\":\"reversed\",\"constrain\":\"domain\"},\"coloraxis\":{\"colorscale\":[[0.0,\"#0d0887\"],[0.1111111111111111,\"#46039f\"],[0.2222222222222222,\"#7201a8\"],[0.3333333333333333,\"#9c179e\"],[0.4444444444444444,\"#bd3786\"],[0.5555555555555556,\"#d8576b\"],[0.6666666666666666,\"#ed7953\"],[0.7777777777777778,\"#fb9f3a\"],[0.8888888888888888,\"#fdca26\"],[1.0,\"#f0f921\"]]},\"margin\":{\"t\":60},\"height\":1000,\"width\":1000},                        {\"responsive\": true}                    ).then(function(){\n",
       "                            \n",
       "var gd = document.getElementById('065a46ac-2d6b-4645-ae76-162cf9c11225');\n",
       "var x = new MutationObserver(function (mutations, observer) {{\n",
       "        var display = window.getComputedStyle(gd).display;\n",
       "        if (!display || display === 'none') {{\n",
       "            console.log([gd, 'removed!']);\n",
       "            Plotly.purge(gd);\n",
       "            observer.disconnect();\n",
       "        }}\n",
       "}});\n",
       "\n",
       "// Listen for the removal of the full notebook cells\n",
       "var notebookContainer = gd.closest('#notebook-container');\n",
       "if (notebookContainer) {{\n",
       "    x.observe(notebookContainer, {childList: true});\n",
       "}}\n",
       "\n",
       "// Listen for the clearing of the current output cell\n",
       "var outputEl = gd.closest('.output');\n",
       "if (outputEl) {{\n",
       "    x.observe(outputEl, {childList: true});\n",
       "}}\n",
       "\n",
       "                        })                };                });            </script>        </div>"
      ]
     },
     "metadata": {},
     "output_type": "display_data"
    }
   ],
   "source": [
    "# Checking the correlation between features\n",
    "corr = df.corr()\n",
    "\n",
    "fig = px.imshow(corr,width=1000, height=1000)\n",
    "fig.show()"
   ]
  },
  {
   "cell_type": "code",
   "execution_count": 60,
   "id": "b92ea2ed",
   "metadata": {},
   "outputs": [
    {
     "name": "stdout",
     "output_type": "stream",
     "text": [
      "                 Generalized Linear Model Regression Results                  \n",
      "==============================================================================\n",
      "Dep. Variable:                  churn   No. Observations:                10000\n",
      "Model:                            GLM   Df Residuals:                     9968\n",
      "Model Family:                Binomial   Df Model:                           31\n",
      "Link Function:                  Logit   Scale:                          1.0000\n",
      "Method:                          IRLS   Log-Likelihood:                -6197.2\n",
      "Date:                Tue, 03 Sep 2024   Deviance:                       12394.\n",
      "Time:                        10:40:25   Pearson chi2:                 1.00e+04\n",
      "No. Iterations:                     4   Pseudo R-squ. (CS):           0.003354\n",
      "Covariance Type:            nonrobust                                         \n",
      "====================================================================================================\n",
      "                                       coef    std err          z      P>|z|      [0.025      0.975]\n",
      "----------------------------------------------------------------------------------------------------\n",
      "Intercept                           -0.9081      0.174     -5.205      0.000      -1.250      -0.566\n",
      "age                                  0.0014      0.002      0.755      0.450      -0.002       0.005\n",
      "gender                              -0.0646      0.026     -2.444      0.015      -0.116      -0.013\n",
      "total_play_time                   5.771e-05    7.5e-05      0.769      0.442   -8.93e-05       0.000\n",
      "avg_session_time                     0.0002      0.001      0.284      0.776      -0.001       0.002\n",
      "games_played                        -0.0004      0.003     -0.159      0.873      -0.005       0.005\n",
      "in_game_purchases                   -0.0001      0.000     -0.892      0.372      -0.000       0.000\n",
      "last_login                           0.0009      0.002      0.376      0.707      -0.004       0.006\n",
      "friend_count                      4.065e-05      0.000      0.108      0.914      -0.001       0.001\n",
      "max_level_achieved                   0.0035      0.002      2.310      0.021       0.001       0.007\n",
      "daily_play_time                     -0.0003      0.000     -1.143      0.253      -0.001       0.000\n",
      "subscription_status                  0.0122      0.043      0.283      0.777      -0.073       0.097\n",
      "number_of_sessions                  -0.0027      0.001     -1.776      0.076      -0.006       0.000\n",
      "social_interactions                  0.0003      0.000      1.764      0.078   -2.94e-05       0.001\n",
      "achievement_points               -4.909e-08   7.47e-06     -0.007      0.995   -1.47e-05    1.46e-05\n",
      "game_genre_Adventure                -0.0510      0.068     -0.746      0.456      -0.185       0.083\n",
      "game_genre_RPG                      -0.0052      0.067     -0.077      0.939      -0.137       0.127\n",
      "game_genre_Simulation               -0.0647      0.068     -0.953      0.340      -0.198       0.068\n",
      "game_genre_Strategy                  0.0198      0.068      0.290      0.772      -0.114       0.154\n",
      "country_Brazil                       0.0961      0.096      0.998      0.318      -0.093       0.285\n",
      "country_Canada                       0.0081      0.097      0.084      0.933      -0.182       0.198\n",
      "country_France                       0.1919      0.095      2.025      0.043       0.006       0.378\n",
      "country_Germany                      0.0529      0.097      0.547      0.585      -0.137       0.242\n",
      "country_India                        0.0814      0.096      0.847      0.397      -0.107       0.270\n",
      "country_Japan                        0.1262      0.097      1.307      0.191      -0.063       0.315\n",
      "country_South_Korea                  0.0563      0.098      0.577      0.564      -0.135       0.247\n",
      "country_UK                           0.1403      0.096      1.457      0.145      -0.048       0.329\n",
      "country_USA                          0.1372      0.096      1.433      0.152      -0.050       0.325\n",
      "device_type_Mobile                  -0.0253      0.054     -0.472      0.637      -0.130       0.080\n",
      "device_type_PC                       0.0440      0.053      0.834      0.404      -0.059       0.148\n",
      "favorite_game_mode_Multiplayer      -0.0516      0.053     -0.968      0.333      -0.156       0.053\n",
      "favorite_game_mode_Single_player     0.0019      0.053      0.035      0.972      -0.101       0.105\n",
      "====================================================================================================\n"
     ]
    }
   ],
   "source": [
    "import statsmodels.api as sm\n",
    "import statsmodels.formula.api as smf\n",
    "\n",
    "#Change variable name separators to '_'\n",
    "all_columns = [column.replace(\" \", \"_\").replace(\"(\", \"_\").replace(\")\", \"_\").replace(\"-\", \"_\") for column in df.columns]\n",
    "\n",
    "#Effect the change to the dataframe column names\n",
    "df.columns = all_columns\n",
    "\n",
    "#Prepare it for the GLM formula\n",
    "glm_columns = [e for e in all_columns if e not in ['userID', 'churn']]\n",
    "glm_columns = ' + '.join(map(str, glm_columns))\n",
    "\n",
    "#Fiting it to the Generalized Linear Model\n",
    "glm_model = smf.glm(formula=f'churn ~ {glm_columns}', data=df, family=sm.families.Binomial())\n",
    "res = glm_model.fit()\n",
    "print(res.summary())"
   ]
  },
  {
   "cell_type": "code",
   "execution_count": 61,
   "id": "dc2393e3",
   "metadata": {},
   "outputs": [
    {
     "data": {
      "text/plain": [
       "Intercept                           0.403275\n",
       "age                                 1.001362\n",
       "gender                              0.937422\n",
       "total_play_time                     1.000058\n",
       "avg_session_time                    1.000195\n",
       "games_played                        0.999588\n",
       "in_game_purchases                   0.999866\n",
       "last_login                          1.000940\n",
       "friend_count                        1.000041\n",
       "max_level_achieved                  1.003537\n",
       "daily_play_time                     0.999714\n",
       "subscription_status                 1.012306\n",
       "number_of_sessions                  0.997340\n",
       "social_interactions                 1.000265\n",
       "achievement_points                  1.000000\n",
       "game_genre_Adventure                0.950290\n",
       "game_genre_RPG                      0.994810\n",
       "game_genre_Simulation               0.937385\n",
       "game_genre_Strategy                 1.019973\n",
       "country_Brazil                      1.100924\n",
       "country_Canada                      1.008168\n",
       "country_France                      1.211601\n",
       "country_Germany                     1.054284\n",
       "country_India                       1.084816\n",
       "country_Japan                       1.134509\n",
       "country_South_Korea                 1.057920\n",
       "country_UK                          1.150668\n",
       "country_USA                         1.147080\n",
       "device_type_Mobile                  0.975027\n",
       "device_type_PC                      1.045029\n",
       "favorite_game_mode_Multiplayer      0.949754\n",
       "favorite_game_mode_Single_player    1.001867\n",
       "dtype: float64"
      ]
     },
     "execution_count": 61,
     "metadata": {},
     "output_type": "execute_result"
    }
   ],
   "source": [
    "np.exp(res.params)"
   ]
  },
  {
   "cell_type": "code",
   "execution_count": 62,
   "id": "49e2a164",
   "metadata": {
    "scrolled": true
   },
   "outputs": [
    {
     "name": "stdout",
     "output_type": "stream",
     "text": [
      "   userID  age  gender  total_play_time  avg_session_time  games_played  \\\n",
      "0       0   56       2         0.090090          0.660550      0.000000   \n",
      "1       1   46       1         0.475475          0.889908      0.250000   \n",
      "2       2   32       1         0.888889          0.293578      0.321429   \n",
      "3       3   25       0         0.725726          0.192661      0.678571   \n",
      "4       4   38       0         0.187187          0.770642      0.607143   \n",
      "\n",
      "   in_game_purchases  last_login  friend_count  churn  ...  country_Germany  \\\n",
      "0           0.517034    0.655172      0.668342      0  ...                0   \n",
      "1           0.843687    0.827586      0.376884      1  ...                1   \n",
      "2           0.511022    0.068966      0.557789      0  ...                0   \n",
      "3           0.334669    0.137931      0.050251      1  ...                1   \n",
      "4           0.941884    0.482759      0.969849      0  ...                0   \n",
      "\n",
      "   country_India  country_Japan  country_South_Korea  country_UK  country_USA  \\\n",
      "0              0              0                    0           1            0   \n",
      "1              0              0                    0           0            0   \n",
      "2              0              0                    0           0            0   \n",
      "3              0              0                    0           0            0   \n",
      "4              0              0                    0           0            0   \n",
      "\n",
      "   device_type_Mobile  device_type_PC  favorite_game_mode_Multiplayer  \\\n",
      "0                   0               1                               0   \n",
      "1                   0               0                               0   \n",
      "2                   0               1                               0   \n",
      "3                   0               1                               0   \n",
      "4                   0               0                               1   \n",
      "\n",
      "   favorite_game_mode_Single_player  \n",
      "0                                 0  \n",
      "1                                 1  \n",
      "2                                 1  \n",
      "3                                 1  \n",
      "4                                 0  \n",
      "\n",
      "[5 rows x 33 columns]\n"
     ]
    }
   ],
   "source": [
    "from sklearn.preprocessing import MinMaxScaler\n",
    "\n",
    "# Instantiate the MinMaxScaler\n",
    "scaler = MinMaxScaler()\n",
    "\n",
    "# List of numerical features to scale\n",
    "numerical_features = [\n",
    "    'total_play_time', 'avg_session_time', 'games_played', \n",
    "    'in_game_purchases', 'last_login', 'friend_count', \n",
    "    'max_level_achieved', 'daily_play_time', 'number_of_sessions', \n",
    "    'social_interactions', 'achievement_points'\n",
    "]\n",
    "\n",
    "# Fit and transform the numerical features\n",
    "df[numerical_features] = scaler.fit_transform(df[numerical_features])\n",
    "\n",
    "# Verify the changes\n",
    "print(df.head())\n"
   ]
  },
  {
   "cell_type": "code",
   "execution_count": null,
   "id": "22879074",
   "metadata": {},
   "outputs": [],
   "source": [
    "\n"
   ]
  },
  {
   "cell_type": "code",
   "execution_count": null,
   "id": "ef93fec9",
   "metadata": {},
   "outputs": [],
   "source": []
  },
  {
   "cell_type": "code",
   "execution_count": 63,
   "id": "4fee4b2d",
   "metadata": {},
   "outputs": [
    {
     "name": "stdout",
     "output_type": "stream",
     "text": [
      "Logistic Regression\n",
      "accuracy:  0.5036666666666667\n",
      "precision:  0.3041637261820748\n",
      "recall:  0.4614561027837259\n",
      "f1_score:  0.5218025527038613\n"
     ]
    }
   ],
   "source": [
    "# Import Machine learning algorithms\n",
    "from sklearn.linear_model import LogisticRegression\n",
    "from sklearn.svm import SVC\n",
    "from sklearn.ensemble import RandomForestClassifier\n",
    "from sklearn.tree import DecisionTreeClassifier\n",
    "from sklearn.naive_bayes import GaussianNB\n",
    "\n",
    "#Import metric for performance evaluation\n",
    "from sklearn.metrics import accuracy_score, precision_score, recall_score, f1_score\n",
    "\n",
    "#Split data into train and test sets\n",
    "from sklearn.model_selection import train_test_split\n",
    "X = df.drop('churn', axis=1)\n",
    "y = df['churn']\n",
    "X_train, X_test, y_train, y_test = train_test_split(X, y, test_size=0.3, random_state=50)\n",
    "\n",
    "#Defining the modelling function\n",
    "def modeling(alg, alg_name, params={}):\n",
    "    model = alg(**params) #Instantiating the algorithm class and unpacking parameters if any\n",
    "    model.fit(X_train, y_train)\n",
    "    y_pred = model.predict(X_test)\n",
    "\n",
    "    #Performance evaluation\n",
    "    def print_scores(alg, y_true, y_pred):\n",
    "        print(alg_name)\n",
    "        acc_score = accuracy_score(y_true, y_pred)\n",
    "        print(\"accuracy: \",acc_score)\n",
    "        pre_score = precision_score(y_true, y_pred)\n",
    "        print(\"precision: \",pre_score)\n",
    "        rec_score = recall_score(y_true, y_pred)\n",
    "        print(\"recall: \",rec_score)\n",
    "        f_score = f1_score(y_true, y_pred, average='weighted')\n",
    "        print(\"f1_score: \",f_score)\n",
    "\n",
    "    print_scores(alg, y_test, y_pred)\n",
    "    return model\n",
    "\n",
    "\n",
    "log_model = modeling(LogisticRegression, 'Logistic Regression', params={\n",
    "    'max_iter': 500,   # Increase the maximum number of iterations\n",
    "    'solver': 'liblinear',  # Use an alternative solver\n",
    "    'class_weight': 'balanced'  # Try balancing class weights to handle imbalanced data\n",
    "})\n"
   ]
  },
  {
   "cell_type": "code",
   "execution_count": 64,
   "id": "997591dc",
   "metadata": {},
   "outputs": [
    {
     "name": "stdout",
     "output_type": "stream",
     "text": [
      "\n",
      "Support Vector Machine\n",
      "accuracy:  0.6726666666666666\n",
      "precision:  0.25\n",
      "recall:  0.02569593147751606\n",
      "f1_score:  0.5671048478573708\n"
     ]
    }
   ],
   "source": [
    "# Import necessary libraries\n",
    "from sklearn.svm import SVC\n",
    "from sklearn.ensemble import RandomForestClassifier\n",
    "from sklearn.tree import DecisionTreeClassifier\n",
    "\n",
    "# Function to model and evaluate\n",
    "def modeling(alg, alg_name, params={}):\n",
    "    model = alg(**params)  # Instantiating the algorithm class and unpacking parameters if any\n",
    "    model.fit(X_train, y_train)\n",
    "    y_pred = model.predict(X_test)\n",
    "\n",
    "    # Performance evaluation\n",
    "    def print_scores(alg_name, y_true, y_pred):\n",
    "        print(f\"\\n{alg_name}\")\n",
    "        acc_score = accuracy_score(y_true, y_pred)\n",
    "        print(\"accuracy: \", acc_score)\n",
    "        pre_score = precision_score(y_true, y_pred)\n",
    "        print(\"precision: \", pre_score)\n",
    "        rec_score = recall_score(y_true, y_pred)\n",
    "        print(\"recall: \", rec_score)\n",
    "        f_score = f1_score(y_true, y_pred, average='weighted')\n",
    "        print(\"f1_score: \", f_score)\n",
    "\n",
    "    print_scores(alg_name, y_test, y_pred)\n",
    "    return model\n",
    "\n",
    "# Running Support Vector Machine (SVM)\n",
    "svm_model = modeling(SVC, 'Support Vector Machine', params={'kernel': 'linear', 'C': 1.0})\n",
    "\n"
   ]
  },
  {
   "cell_type": "code",
   "execution_count": 65,
   "id": "9dc43123",
   "metadata": {},
   "outputs": [
    {
     "name": "stdout",
     "output_type": "stream",
     "text": [
      "\n",
      "Random Forest\n",
      "accuracy:  0.684\n",
      "precision:  0.0625\n",
      "recall:  0.0010706638115631692\n",
      "f1_score:  0.5600436894215738\n",
      "\n",
      "Decision Tree\n",
      "accuracy:  0.5556666666666666\n",
      "precision:  0.30149253731343284\n",
      "recall:  0.32441113490364026\n",
      "f1_score:  0.5599174779896251\n"
     ]
    }
   ],
   "source": [
    "\n",
    "# Running Random Forest Classifier\n",
    "rf_model = modeling(RandomForestClassifier, 'Random Forest', params={'n_estimators': 100, 'random_state': 50})\n",
    "\n",
    "# Running Decision Tree Classifier\n",
    "dt_model = modeling(DecisionTreeClassifier, 'Decision Tree', params={'random_state': 50})\n",
    "\n",
    "\n",
    "\n",
    "\n",
    "\n"
   ]
  },
  {
   "cell_type": "code",
   "execution_count": 66,
   "id": "b443bb90",
   "metadata": {},
   "outputs": [],
   "source": [
    "from imblearn.over_sampling import SMOTE\n",
    "from sklearn.model_selection import train_test_split\n",
    "\n",
    "# Split data into train and test sets\n",
    "X = df.drop('churn', axis=1)\n",
    "y = df['churn']\n",
    "\n",
    "# Apply SMOTE to balance the classes\n",
    "smote = SMOTE(random_state=42)\n",
    "X_resampled, y_resampled = smote.fit_resample(X, y)\n",
    "\n",
    "X_train, X_test, y_train, y_test = train_test_split(X_resampled, y_resampled, test_size=0.3, random_state=50)\n"
   ]
  },
  {
   "cell_type": "code",
   "execution_count": null,
   "id": "cb81d12b",
   "metadata": {},
   "outputs": [
    {
     "name": "stdout",
     "output_type": "stream",
     "text": [
      "Best parameters found:  {'class_weight': 'balanced', 'max_depth': 20, 'min_samples_leaf': 1, 'min_samples_split': 2, 'n_estimators': 200}\n",
      "Random Forest Model Performance:\n",
      "Accuracy:  0.7426631093863691\n",
      "Precision:  0.8576487252124646\n",
      "Recall:  0.5847416706904877\n",
      "F1 Score:  0.6953775480907264\n",
      "\n",
      "\n"
     ]
    }
   ],
   "source": [
    "from sklearn.model_selection import cross_val_score, GridSearchCV\n",
    "\n",
    "# Random Forest Model with Grid Search for Hyperparameter Tuning\n",
    "rf_params = {\n",
    "    'n_estimators': [100, 200],\n",
    "    'max_depth': [10, 20, None],\n",
    "    'min_samples_split': [2, 5],\n",
    "    'min_samples_leaf': [1, 2],\n",
    "    'class_weight': ['balanced']\n",
    "}\n",
    "\n",
    "rf_model = GridSearchCV(RandomForestClassifier(random_state=50), rf_params, cv=5, scoring='f1')\n",
    "rf_model.fit(X_train, y_train)\n",
    "\n",
    "# Best parameters and performance\n",
    "print(\"Best parameters found: \", rf_model.best_params_)\n",
    "y_pred_rf = rf_model.predict(X_test)\n",
    "print_scores('Random Forest', y_test, y_pred_rf)\n",
    "\n",
    "# Support Vector Machine Model with Grid Search for Hyperparameter Tuning\n",
    "svm_params = {\n",
    "    'C': [0.1, 1, 10],\n",
    "    'kernel': ['linear', 'rbf'],\n",
    "    'class_weight': ['balanced']\n",
    "}\n",
    "\n",
    "svm_model = GridSearchCV(SVC(random_state=50), svm_params, cv=5, scoring='f1')\n",
    "svm_model.fit(X_train, y_train)\n",
    "from sklearn.metrics import accuracy_score, precision_score, recall_score, f1_score\n",
    "\n",
    "def print_scores(model_name, y_true, y_pred):\n",
    "    print(f\"{model_name} Model Performance:\")\n",
    "    print(\"Accuracy: \", accuracy_score(y_true, y_pred))\n",
    "    print(\"Precision: \", precision_score(y_true, y_pred))\n",
    "    print(\"Recall: \", recall_score(y_true, y_pred))\n",
    "    print(\"F1 Score: \", f1_score(y_true, y_pred))\n",
    "    print(\"\\n\")\n",
    "    \n",
    "# Best parameters and performance\n",
    "print(\"Best parameters found: \", svm_model.best_params_)\n",
    "y_pred_svm = svm_model.predict(X_test)\n",
    "print_scores('SVM', y_test, y_pred_svm)\n"
   ]
  },
  {
   "cell_type": "code",
   "execution_count": null,
   "id": "27aee543",
   "metadata": {},
   "outputs": [],
   "source": []
  },
  {
   "cell_type": "code",
   "execution_count": null,
   "id": "c3a8316b",
   "metadata": {},
   "outputs": [],
   "source": []
  }
 ],
 "metadata": {
  "kernelspec": {
   "display_name": "Python 3 (ipykernel)",
   "language": "python",
   "name": "python3"
  },
  "language_info": {
   "codemirror_mode": {
    "name": "ipython",
    "version": 3
   },
   "file_extension": ".py",
   "mimetype": "text/x-python",
   "name": "python",
   "nbconvert_exporter": "python",
   "pygments_lexer": "ipython3",
   "version": "3.10.13"
  }
 },
 "nbformat": 4,
 "nbformat_minor": 5
}
